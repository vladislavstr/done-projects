{
 "cells": [
  {
   "cell_type": "markdown",
   "metadata": {},
   "source": [
    "# Описание проекта\n",
    "\n",
    "Необходимо проанализировать поведение клиентов и предложить пользователям новый тариф: «Смарт» или «Ультра».\n",
    "\n",
    "Имеются данные о поведении клиентов, которые уже перешли на эти тарифы.<br>\n",
    "Нужно построить модель, которая выберет подходящий тариф.\n"
   ]
  },
  {
   "cell_type": "markdown",
   "metadata": {},
   "source": [
    "# Описание данных\n",
    "Каждый объект в наборе данных — это информация о поведении одного пользователя за месяц.\n",
    "\n",
    "#### Известно:\n",
    "-    сalls — количество звонков,\n",
    "-    minutes — суммарная длительность звонков в минутах,\n",
    "-    messages — количество sms-сообщений,\n",
    "-    mb_used — израсходованный интернет-трафик в Мб,\n",
    "-    is_ultra — каким тарифом пользовался в течение месяца («Ультра» — 1, «Смарт» — 0)."
   ]
  },
  {
   "cell_type": "markdown",
   "metadata": {},
   "source": [
    "## 1. Откроем и изучим файл"
   ]
  },
  {
   "cell_type": "code",
   "execution_count": 1,
   "metadata": {},
   "outputs": [],
   "source": [
    "# отключим предупреждения Anaconda\n",
    "import warnings\n",
    "warnings.simplefilter('ignore')\n",
    "\n",
    "# # будем отображать графики прямо в jupyter'e\n",
    "# %matplotlib inline\n",
    "# # #графики в svg выглядят более четкими\n",
    "# %config InlineBackend.figure_format = 'svg'"
   ]
  },
  {
   "cell_type": "code",
   "execution_count": 2,
   "metadata": {},
   "outputs": [],
   "source": [
    "import pandas as pd\n",
    "import numpy as np"
   ]
  },
  {
   "cell_type": "code",
   "execution_count": 3,
   "metadata": {},
   "outputs": [
    {
     "name": "stdout",
     "output_type": "stream",
     "text": [
      "3.7.6 | packaged by conda-forge | (default, Jun  1 2020, 18:57:50) \n",
      "[GCC 7.5.0]\n",
      "The joblib version is 0.16.0.\n",
      "The scikit-learn version is 0.21.2.\n"
     ]
    }
   ],
   "source": [
    "import sys\n",
    "print(sys.version)\n",
    "\n",
    "# !pip install scikit-learn==0.21.2\n",
    "\n",
    "import pandas as pd\n",
    "\n",
    "import joblib\n",
    "print('The joblib version is {}.'.format(joblib.__version__))\n",
    "\n",
    "import sklearn\n",
    "print('The scikit-learn version is {}.'.format(sklearn.__version__))\n",
    "\n",
    "# _1_\n",
    "# Классификатор дерева решений\n",
    "from sklearn.tree import DecisionTreeClassifier\n",
    "#_2_\n",
    "# Классификатор случайного леса\n",
    "from sklearn.ensemble import RandomForestClassifier\n",
    "#_3_\n",
    "# Линейная модель\n",
    "from sklearn.linear_model import LogisticRegression\n",
    " \n",
    "# Оценка правильности\n",
    "from sklearn.metrics import accuracy_score\n",
    "# Разделение на тренировочную и валидационную выборку\n",
    "from sklearn.model_selection import train_test_split\n",
    "# Средняя квадратичная ошибка\n",
    "from sklearn.metrics import mean_squared_error\n",
    "# Оценка качества модели\n",
    "from sklearn.metrics import classification_report\n",
    "# Перебор параметров\n",
    "from sklearn.model_selection import GridSearchCV\n",
    "from sklearn.utils import shuffle\n",
    "\n",
    "# #_4_ целевой признак не позволяет использовать регрессию\n",
    "# # Решающее дерево для регрессии \n",
    "# from sklearn.tree import DecisionTreeRegressor\n",
    "# #_5_\n",
    "# # Случайный лес для регрессии \n",
    "# from sklearn.ensemble import RandomForestRegressor\n",
    "# #_6_\n",
    "# # Линейная регрессия называется \n",
    "# from sklearn.linear_model import LinearRegression"
   ]
  },
  {
   "cell_type": "code",
   "execution_count": 4,
   "metadata": {},
   "outputs": [],
   "source": [
    "# Для оформления \n",
    "bold_start = '\\033[1m'\n",
    "yellow = '\\033[33m'\n",
    "red = '\\033[31m'\n",
    "violet = '\\033[35m'\n",
    "blue = '\\033[34m'\n",
    "green = '\\033[32m'\n",
    "green_background = '\\033[42m'\n",
    "red_background = '\\033[41m'\n",
    "bold_end   = '\\033[0m'"
   ]
  },
  {
   "cell_type": "code",
   "execution_count": 5,
   "metadata": {},
   "outputs": [],
   "source": [
    "df = pd.read_csv('/datasets/users_behavior.csv')"
   ]
  },
  {
   "cell_type": "code",
   "execution_count": 6,
   "metadata": {},
   "outputs": [
    {
     "data": {
      "text/html": [
       "<div>\n",
       "<style scoped>\n",
       "    .dataframe tbody tr th:only-of-type {\n",
       "        vertical-align: middle;\n",
       "    }\n",
       "\n",
       "    .dataframe tbody tr th {\n",
       "        vertical-align: top;\n",
       "    }\n",
       "\n",
       "    .dataframe thead th {\n",
       "        text-align: right;\n",
       "    }\n",
       "</style>\n",
       "<table border=\"1\" class=\"dataframe\">\n",
       "  <thead>\n",
       "    <tr style=\"text-align: right;\">\n",
       "      <th></th>\n",
       "      <th>calls</th>\n",
       "      <th>minutes</th>\n",
       "      <th>messages</th>\n",
       "      <th>mb_used</th>\n",
       "      <th>is_ultra</th>\n",
       "    </tr>\n",
       "  </thead>\n",
       "  <tbody>\n",
       "    <tr>\n",
       "      <td>0</td>\n",
       "      <td>40.0</td>\n",
       "      <td>311.90</td>\n",
       "      <td>83.0</td>\n",
       "      <td>19915.42</td>\n",
       "      <td>0</td>\n",
       "    </tr>\n",
       "    <tr>\n",
       "      <td>1</td>\n",
       "      <td>85.0</td>\n",
       "      <td>516.75</td>\n",
       "      <td>56.0</td>\n",
       "      <td>22696.96</td>\n",
       "      <td>0</td>\n",
       "    </tr>\n",
       "    <tr>\n",
       "      <td>2</td>\n",
       "      <td>77.0</td>\n",
       "      <td>467.66</td>\n",
       "      <td>86.0</td>\n",
       "      <td>21060.45</td>\n",
       "      <td>0</td>\n",
       "    </tr>\n",
       "    <tr>\n",
       "      <td>3</td>\n",
       "      <td>106.0</td>\n",
       "      <td>745.53</td>\n",
       "      <td>81.0</td>\n",
       "      <td>8437.39</td>\n",
       "      <td>1</td>\n",
       "    </tr>\n",
       "    <tr>\n",
       "      <td>4</td>\n",
       "      <td>66.0</td>\n",
       "      <td>418.74</td>\n",
       "      <td>1.0</td>\n",
       "      <td>14502.75</td>\n",
       "      <td>0</td>\n",
       "    </tr>\n",
       "  </tbody>\n",
       "</table>\n",
       "</div>"
      ],
      "text/plain": [
       "   calls  minutes  messages   mb_used  is_ultra\n",
       "0   40.0   311.90      83.0  19915.42         0\n",
       "1   85.0   516.75      56.0  22696.96         0\n",
       "2   77.0   467.66      86.0  21060.45         0\n",
       "3  106.0   745.53      81.0   8437.39         1\n",
       "4   66.0   418.74       1.0  14502.75         0"
      ]
     },
     "metadata": {},
     "output_type": "display_data"
    },
    {
     "name": "stdout",
     "output_type": "stream",
     "text": [
      "<class 'pandas.core.frame.DataFrame'>\n",
      "RangeIndex: 3214 entries, 0 to 3213\n",
      "Data columns (total 5 columns):\n",
      "calls       3214 non-null float64\n",
      "minutes     3214 non-null float64\n",
      "messages    3214 non-null float64\n",
      "mb_used     3214 non-null float64\n",
      "is_ultra    3214 non-null int64\n",
      "dtypes: float64(4), int64(1)\n",
      "memory usage: 125.7 KB\n"
     ]
    },
    {
     "data": {
      "text/plain": [
       "None"
      ]
     },
     "metadata": {},
     "output_type": "display_data"
    }
   ],
   "source": [
    "display(df.head())\n",
    "display(df.info())"
   ]
  },
  {
   "cell_type": "code",
   "execution_count": 7,
   "metadata": {},
   "outputs": [],
   "source": [
    "df['calls'] = df.calls.astype('Int64')\n",
    "df['messages'] = df.messages.astype('Int64')"
   ]
  },
  {
   "cell_type": "markdown",
   "metadata": {},
   "source": [
    "## 2. Разобьем данные на выборки"
   ]
  },
  {
   "cell_type": "markdown",
   "metadata": {},
   "source": [
    "***GridSearchCV*** производит кросс валидацию\n",
    "\n",
    "Кроме этого в scikit-learn есть класс ***TimeSeriesSplit***, но он разбивает только на train-test, валидацию все равно делать самим"
   ]
  },
  {
   "cell_type": "markdown",
   "metadata": {},
   "source": [
    "```python\n",
    "\n",
    "# 70% данных на обучение, 15% в тестах и 15 % в валидации.\n",
    "\n",
    "# но такой споб нам не подходит из за отсутсвия random_state\n",
    "\n",
    "probs = np.random.rand(len(df))\n",
    "training_mask = probs < 0.7\n",
    "test_mask = (probs>=0.7) & (probs < 0.85)\n",
    "validatoin_mask = probs >= 0.85\n",
    "\n",
    "\n",
    "df_training = df[training_mask]\n",
    "df_test = df[test_mask]\n",
    "df_validation = df[validatoin_mask]\n",
    "\n",
    "# display(df_training)\n",
    "# display(df_test)\n",
    "# display(df_validation)\n",
    "\n",
    "```"
   ]
  },
  {
   "cell_type": "markdown",
   "metadata": {},
   "source": [
    "80% данных на обучение, 10% в тестах и 10% в валидации"
   ]
  },
  {
   "cell_type": "markdown",
   "metadata": {},
   "source": [
    "Некрасиво, переделаем\n",
    "\n",
    "```python\n",
    "\n",
    "#######################################################################\n",
    "# Разделим данные на обучающую, валидационную и тренировочную выборки #\n",
    "#######################################################################\n",
    "\n",
    "df_divisible, df_valid = train_test_split(df, test_size=0.20, random_state=12345)\n",
    "df_train, df_test = train_test_split(df_divisible, test_size=0.25, random_state=12345)\n",
    "\n",
    "display(df_train.shape)\n",
    "display(df_valid.shape)\n",
    "display(df_test.shape) \n",
    "\n",
    "\n",
    "#########################################################\n",
    "# Создадим переменные для признаков и целевого признака #\n",
    "# features (англ. «признаки») — запишем в неё признаки  #\n",
    "# target (англ. «цель») — целевой признак               #\n",
    "#########################################################\n",
    "\n",
    "# train\n",
    "features_train = df_train.drop(['is_ultra'], axis=1)\n",
    "target_train = df_train['is_ultra']\n",
    "\n",
    "# valid\n",
    "features_valid = df_valid.drop(['is_ultra'], axis=1)\n",
    "target_valid = df_valid['is_ultra']\n",
    "\n",
    "# test\n",
    "features_test = df_test.drop(['is_ultra'], axis=1)\n",
    "target_test = df_test['is_ultra']\n",
    "\n",
    "```"
   ]
  },
  {
   "cell_type": "markdown",
   "metadata": {},
   "source": [
    " <a name=\"contents_1\"></a>\n",
    "### ! [Описание причины удаления столбца **calls** ](#stage_1)\n",
    "P.S. Нажми"
   ]
  },
  {
   "cell_type": "code",
   "execution_count": 8,
   "metadata": {},
   "outputs": [
    {
     "data": {
      "text/plain": [
       "((2571, 3), (643, 3), (321, 3), (322, 3))"
      ]
     },
     "execution_count": 8,
     "metadata": {},
     "output_type": "execute_result"
    }
   ],
   "source": [
    "features = df.drop(['is_ultra','calls'], axis = 1)\n",
    "target = df['is_ultra']\n",
    "\n",
    "# организуем равномерное распределение значений обучающего столба \n",
    "# при разделении с помощью stratify !\n",
    "\n",
    "features_train, features_val_test, target_train, target_val_test = train_test_split(features, target,\n",
    "                                                            test_size=0.20, random_state=12345, stratify=target)\n",
    "\n",
    "features_valid, features_test, target_valid, target_test = train_test_split(features_val_test, target_val_test,\n",
    "                                                            test_size=0.5, random_state=12345, stratify=target_val_test)\n",
    "features_train.shape, features_val_test.shape, features_valid.shape, features_test.shape"
   ]
  },
  {
   "cell_type": "code",
   "execution_count": 9,
   "metadata": {},
   "outputs": [
    {
     "data": {
      "text/plain": [
       "0    2229\n",
       "1     985\n",
       "Name: is_ultra, dtype: int64"
      ]
     },
     "execution_count": 9,
     "metadata": {},
     "output_type": "execute_result"
    }
   ],
   "source": [
    "df['is_ultra'].value_counts()"
   ]
  },
  {
   "cell_type": "markdown",
   "metadata": {},
   "source": [
    "## 3. Исследем модели"
   ]
  },
  {
   "cell_type": "code",
   "execution_count": 10,
   "metadata": {},
   "outputs": [],
   "source": [
    "# Функция вывода accuracy\n",
    "def print_accuracy(accuracy_in_model):\n",
    "    if accuracy_in_model < 0.75:\n",
    "        print( red, \"Accuracy:\", accuracy_in_model, bold_end, \n",
    "          '\\n', bold_start, red_background, \"need to update\", bold_end)\n",
    "    else:\n",
    "        print(green, \"Accuracy:\", accuracy_in_model, bold_end, \n",
    "          '\\n', bold_start, green_background, \"OK\", bold_end)\n",
    "    print(blue,\n",
    "          bold_start,\n",
    "          'Оценка качества модели',\n",
    "          bold_end, '\\n', blue,\n",
    "          classification_report(target_valid, prediction))   "
   ]
  },
  {
   "cell_type": "markdown",
   "metadata": {},
   "source": [
    "---"
   ]
  },
  {
   "cell_type": "markdown",
   "metadata": {},
   "source": [
    "* ### DecisionTreeClassifier"
   ]
  },
  {
   "cell_type": "code",
   "execution_count": 11,
   "metadata": {},
   "outputs": [
    {
     "name": "stdout",
     "output_type": "stream",
     "text": [
      "\u001b[31m Accuracy: 0.7414330218068536 \u001b[0m \n",
      " \u001b[1m \u001b[41m need to update \u001b[0m\n",
      "\u001b[34m \u001b[1m Оценка качества модели \u001b[0m \n",
      " \u001b[34m               precision    recall  f1-score   support\n",
      "\n",
      "           0       0.82      0.80      0.81       223\n",
      "           1       0.57      0.60      0.59        98\n",
      "\n",
      "    accuracy                           0.74       321\n",
      "   macro avg       0.70      0.70      0.70       321\n",
      "weighted avg       0.75      0.74      0.74       321\n",
      "\n"
     ]
    }
   ],
   "source": [
    "model_DecisionTreeClassifier = DecisionTreeClassifier(random_state=12345)\n",
    "# Обучение\n",
    "model_DecisionTreeClassifier.fit(features_train, target_train)\n",
    "# Предсказание понадобится для оценки модели\n",
    "prediction = model_DecisionTreeClassifier.predict(features_valid)\n",
    "# Доля правильных ответов\n",
    "accuracy = model_DecisionTreeClassifier.score(features_valid, target_valid)\n",
    "#### \n",
    "print_accuracy(accuracy)"
   ]
  },
  {
   "cell_type": "markdown",
   "metadata": {},
   "source": [
    " зададим глубину max_depth=3"
   ]
  },
  {
   "cell_type": "code",
   "execution_count": 12,
   "metadata": {},
   "outputs": [
    {
     "name": "stdout",
     "output_type": "stream",
     "text": [
      "\u001b[32m Accuracy: 0.778816199376947 \u001b[0m \n",
      " \u001b[1m \u001b[42m OK \u001b[0m\n",
      "\u001b[34m \u001b[1m Оценка качества модели \u001b[0m \n",
      " \u001b[34m               precision    recall  f1-score   support\n",
      "\n",
      "           0       0.80      0.91      0.85       223\n",
      "           1       0.70      0.48      0.57        98\n",
      "\n",
      "    accuracy                           0.78       321\n",
      "   macro avg       0.75      0.69      0.71       321\n",
      "weighted avg       0.77      0.78      0.77       321\n",
      "\n"
     ]
    }
   ],
   "source": [
    "model_DecisionTreeClassifier = DecisionTreeClassifier(random_state=12345,\n",
    "                                                      max_depth=3)\n",
    "# Обучение\n",
    "model_DecisionTreeClassifier.fit(features_train, target_train)\n",
    "# Предсказание\n",
    "prediction = model_DecisionTreeClassifier.predict(features_valid)\n",
    "# Доля правильных ответов\n",
    "accuracy = accuracy_score(target_valid, prediction)\n",
    "###\n",
    "print_accuracy(accuracy)"
   ]
  },
  {
   "cell_type": "markdown",
   "metadata": {},
   "source": [
    "Сделаем перебор max_depth"
   ]
  },
  {
   "cell_type": "code",
   "execution_count": 13,
   "metadata": {},
   "outputs": [
    {
     "name": "stdout",
     "output_type": "stream",
     "text": [
      "\u001b[32m best max_depth: 6\n",
      "\u001b[32m Accuracy: 0.8068535825545171 \u001b[0m \n",
      " \u001b[1m \u001b[42m OK \u001b[0m\n",
      "\u001b[34m \u001b[1m Оценка качества модели \u001b[0m \n",
      " \u001b[34m               precision    recall  f1-score   support\n",
      "\n",
      "           0       0.80      0.93      0.86       223\n",
      "           1       0.74      0.47      0.58        98\n",
      "\n",
      "    accuracy                           0.79       321\n",
      "   macro avg       0.77      0.70      0.72       321\n",
      "weighted avg       0.78      0.79      0.77       321\n",
      "\n"
     ]
    }
   ],
   "source": [
    "best_score = 0\n",
    "best_depth = 0  \n",
    "for depth in range(2,11):\n",
    "# Cоздадим модель, указав max_depth=depth \n",
    "    model_DecisionTreeClassifier = DecisionTreeClassifier(random_state=12345,\n",
    "                                                          max_depth=depth)\n",
    "# Обучение\n",
    "    model_DecisionTreeClassifier.fit(features_train, target_train)\n",
    "# Предсказание понадобится для оценки модели\n",
    "    prediction =  model_DecisionTreeClassifier.predict(features_valid)\n",
    "\n",
    "    # print(\"max_depth =\", depth, \": \", end='')\n",
    "    score_model_DecisionTreeClassifier = model_DecisionTreeClassifier.score(features_valid, target_valid)\n",
    "    # print(accuracy_score(target_test, predictions_test))\n",
    "    if score_model_DecisionTreeClassifier >= best_score:\n",
    "        best_score = score_model_DecisionTreeClassifier\n",
    "        best_depth = depth\n",
    "print(green,'best max_depth:' , best_depth)\n",
    "print_accuracy(best_score)"
   ]
  },
  {
   "cell_type": "markdown",
   "metadata": {},
   "source": [
    "---"
   ]
  },
  {
   "cell_type": "markdown",
   "metadata": {},
   "source": [
    "* ###  RandomForestClassifier"
   ]
  },
  {
   "cell_type": "code",
   "execution_count": 14,
   "metadata": {},
   "outputs": [
    {
     "name": "stdout",
     "output_type": "stream",
     "text": [
      "\u001b[32m best max_depth: 8\n",
      "\u001b[32m Accuracy: 0.8317757009345794 \u001b[0m \n",
      " \u001b[1m \u001b[42m OK \u001b[0m\n",
      "\u001b[34m \u001b[1m Оценка качества модели \u001b[0m \n",
      " \u001b[34m               precision    recall  f1-score   support\n",
      "\n",
      "           0       0.82      0.96      0.89       223\n",
      "           1       0.87      0.53      0.66        98\n",
      "\n",
      "    accuracy                           0.83       321\n",
      "   macro avg       0.85      0.75      0.77       321\n",
      "weighted avg       0.84      0.83      0.82       321\n",
      "\n"
     ]
    }
   ],
   "source": [
    "best_score = 0\n",
    "best_depth = 0                                      \n",
    "for depth in range(2,11):\n",
    "# Cоздадим модель, указав max_depth=depth=depth     \n",
    "    model_RandomForestClassifier = RandomForestClassifier(random_state=12345,\n",
    "                                                          n_estimators=100,\n",
    "                                                          max_depth=depth)\n",
    "# Обучение    \n",
    "    model_RandomForestClassifier.fit(features_train, target_train)\n",
    "# Предсказание понадобится для оценки модели\n",
    "    prediction =  model_RandomForestClassifier.predict(features_valid)\n",
    "    \n",
    "    # print(\"max_depth =\", depth, \": \", end='')\n",
    "    score_model_RandomForestClassifier = model_RandomForestClassifier.score(features_valid, target_valid)\n",
    "    # print(accuracy_score_model_RandomForestClassifier)\n",
    "    if score_model_RandomForestClassifier > best_score:                             \n",
    "        best_score = score_model_RandomForestClassifier \n",
    "        best_depth = depth \n",
    "print(green,'best max_depth:' , best_depth)\n",
    "print_accuracy(best_score)"
   ]
  },
  {
   "cell_type": "markdown",
   "metadata": {},
   "source": [
    "Вот и наш идеал в деревьях"
   ]
  },
  {
   "cell_type": "code",
   "execution_count": 15,
   "metadata": {},
   "outputs": [
    {
     "data": {
      "text/plain": [
       "RandomForestClassifier(bootstrap=True, class_weight=None, criterion='gini',\n",
       "                       max_depth=8, max_features='auto', max_leaf_nodes=None,\n",
       "                       min_impurity_decrease=0.0, min_impurity_split=None,\n",
       "                       min_samples_leaf=1, min_samples_split=2,\n",
       "                       min_weight_fraction_leaf=0.0, n_estimators=100,\n",
       "                       n_jobs=None, oob_score=False, random_state=12345,\n",
       "                       verbose=0, warm_start=False)"
      ]
     },
     "execution_count": 15,
     "metadata": {},
     "output_type": "execute_result"
    }
   ],
   "source": [
    "best_model = RandomForestClassifier(random_state=12345,n_estimators=100, max_depth=best_depth)\n",
    "best_model.fit(features_train, target_train)"
   ]
  },
  {
   "cell_type": "markdown",
   "metadata": {},
   "source": [
    "чтобы избавиться от вложенных циклов по перебору параметров, подключим GridSearchCV"
   ]
  },
  {
   "cell_type": "code",
   "execution_count": 16,
   "metadata": {},
   "outputs": [],
   "source": [
    "# Словарь параметров\n",
    "param_grid = {'max_depth': [deep for deep in range(2,11)],\n",
    "             'n_estimators': [20, 50, 100],\n",
    "             'random_state': [12345]}\n",
    "gsCV = GridSearchCV(RandomForestClassifier(), param_grid = param_grid,)"
   ]
  },
  {
   "cell_type": "code",
   "execution_count": 17,
   "metadata": {},
   "outputs": [],
   "source": [
    "features_GCV = pd.concat([features_train, features_valid]).reset_index(drop=True)\n",
    "target_GCV = pd.concat([pd.Series(target_train), target_valid]).reset_index(drop=True)\n",
    "features_GCV,target_upsampling_GCV = shuffle(features_GCV, target_GCV,\n",
    "                                                        random_state=12345)"
   ]
  },
  {
   "cell_type": "code",
   "execution_count": 18,
   "metadata": {},
   "outputs": [
    {
     "data": {
      "text/plain": [
       "GridSearchCV(cv='warn', error_score='raise-deprecating',\n",
       "             estimator=RandomForestClassifier(bootstrap=True, class_weight=None,\n",
       "                                              criterion='gini', max_depth=None,\n",
       "                                              max_features='auto',\n",
       "                                              max_leaf_nodes=None,\n",
       "                                              min_impurity_decrease=0.0,\n",
       "                                              min_impurity_split=None,\n",
       "                                              min_samples_leaf=1,\n",
       "                                              min_samples_split=2,\n",
       "                                              min_weight_fraction_leaf=0.0,\n",
       "                                              n_estimators='warn', n_jobs=None,\n",
       "                                              oob_score=False,\n",
       "                                              random_state=None, verbose=0,\n",
       "                                              warm_start=False),\n",
       "             iid='warn', n_jobs=None,\n",
       "             param_grid={'max_depth': [2, 3, 4, 5, 6, 7, 8, 9, 10],\n",
       "                         'n_estimators': [20, 50, 100],\n",
       "                         'random_state': [12345]},\n",
       "             pre_dispatch='2*n_jobs', refit=True, return_train_score=False,\n",
       "             scoring=None, verbose=0)"
      ]
     },
     "execution_count": 18,
     "metadata": {},
     "output_type": "execute_result"
    }
   ],
   "source": [
    "# На вход лучше подавать данных побольше, поэтому можно взять первую разбивку\n",
    "# train + valid\n",
    "gsCV.fit(features_GCV, target_GCV)"
   ]
  },
  {
   "cell_type": "code",
   "execution_count": 19,
   "metadata": {},
   "outputs": [
    {
     "data": {
      "text/plain": [
       "{'max_depth': 3, 'n_estimators': 50, 'random_state': 12345}"
      ]
     },
     "execution_count": 19,
     "metadata": {},
     "output_type": "execute_result"
    }
   ],
   "source": [
    "gsCV.best_params_"
   ]
  },
  {
   "cell_type": "code",
   "execution_count": 20,
   "metadata": {},
   "outputs": [
    {
     "name": "stdout",
     "output_type": "stream",
     "text": [
      "\u001b[31m Accuracy: 0.6939834024896265 \u001b[0m \n",
      " \u001b[1m \u001b[41m need to update \u001b[0m\n",
      "\u001b[34m \u001b[1m Оценка качества модели \u001b[0m \n",
      " \u001b[34m               precision    recall  f1-score   support\n",
      "\n",
      "           0       0.82      0.96      0.89       223\n",
      "           1       0.87      0.53      0.66        98\n",
      "\n",
      "    accuracy                           0.83       321\n",
      "   macro avg       0.85      0.75      0.77       321\n",
      "weighted avg       0.84      0.83      0.82       321\n",
      "\n"
     ]
    }
   ],
   "source": [
    "print_accuracy(gsCV.best_score_)"
   ]
  },
  {
   "cell_type": "code",
   "execution_count": 21,
   "metadata": {},
   "outputs": [
    {
     "name": "stdout",
     "output_type": "stream",
     "text": [
      "              precision    recall  f1-score   support\n",
      "\n",
      "           0       0.69      1.00      0.82       223\n",
      "           1       0.00      0.00      0.00        98\n",
      "\n",
      "    accuracy                           0.69       321\n",
      "   macro avg       0.35      0.50      0.41       321\n",
      "weighted avg       0.48      0.69      0.57       321\n",
      "\n"
     ]
    }
   ],
   "source": [
    "prediction = gsCV.predict(features_valid)\n",
    "print(classification_report(target_valid, prediction))"
   ]
  },
  {
   "cell_type": "code",
   "execution_count": 22,
   "metadata": {},
   "outputs": [
    {
     "name": "stdout",
     "output_type": "stream",
     "text": [
      "\u001b[31m Accuracy: 0.6936376210235131 \u001b[0m \n",
      " \u001b[1m \u001b[41m need to update \u001b[0m\n",
      "\u001b[34m \u001b[1m Оценка качества модели \u001b[0m \n",
      " \u001b[34m               precision    recall  f1-score   support\n",
      "\n",
      "           0       0.69      1.00      0.82       223\n",
      "           1       0.00      0.00      0.00        98\n",
      "\n",
      "    accuracy                           0.69       321\n",
      "   macro avg       0.35      0.50      0.41       321\n",
      "weighted avg       0.48      0.69      0.57       321\n",
      "\n"
     ]
    }
   ],
   "source": [
    "print_accuracy(gsCV.score(features_GCV, target_GCV))"
   ]
  },
  {
   "cell_type": "markdown",
   "metadata": {},
   "source": [
    "---"
   ]
  },
  {
   "cell_type": "markdown",
   "metadata": {},
   "source": [
    "* ###  LogisticRegression"
   ]
  },
  {
   "cell_type": "code",
   "execution_count": 23,
   "metadata": {},
   "outputs": [
    {
     "name": "stdout",
     "output_type": "stream",
     "text": [
      "\u001b[32m best max_ite: 8\n",
      "\u001b[31m Accuracy: 0.7165109034267912 \u001b[0m \n",
      " \u001b[1m \u001b[41m need to update \u001b[0m\n",
      "\u001b[34m \u001b[1m Оценка качества модели \u001b[0m \n",
      " \u001b[34m               precision    recall  f1-score   support\n",
      "\n",
      "           0       0.72      0.98      0.83       223\n",
      "           1       0.71      0.12      0.21        98\n",
      "\n",
      "    accuracy                           0.72       321\n",
      "   macro avg       0.71      0.55      0.52       321\n",
      "weighted avg       0.71      0.72      0.64       321\n",
      "\n"
     ]
    }
   ],
   "source": [
    "best_score = 0\n",
    "best_depth = 0  \n",
    "for depth in range(2, 100): #Комментарий наставника: эту переменную\n",
    "# Cоздадим модель, указав max_iter=depth \n",
    "    model_LogisticRegression = LogisticRegression(random_state=12345,\n",
    "                                                  max_iter=depth)\n",
    "# Обучение\n",
    "    model_LogisticRegression.fit(features_train, target_train)\n",
    "# Предсказание понадобится для оценки модели\n",
    "    prediction =  model_LogisticRegression.predict(features_valid)\n",
    "\n",
    "    # print(\"max_depth =\", depth, \": \", end='')\n",
    "    accuracy_score_model_LogisticRegression = model_LogisticRegression.score(features_valid, target_valid)\n",
    "    # print(accuracy_score_model_LogisticRegression)\n",
    "    if accuracy_score_model_LogisticRegression > best_score:\n",
    "        best_score = accuracy_score_model_LogisticRegression\n",
    "        best_depth = depth\n",
    "print(green,'best max_ite:' , best_depth)\n",
    "print_accuracy(best_score)"
   ]
  },
  {
   "cell_type": "code",
   "execution_count": 24,
   "metadata": {},
   "outputs": [],
   "source": [
    "param_grid = {'penalty': ['l1','l2'],\n",
    "             'C': [0.5, 0.1],\n",
    "             'max_iter': [deep for deep in range(2,100)]}\n",
    "gsCV = GridSearchCV(LogisticRegression(), param_grid = param_grid)"
   ]
  },
  {
   "cell_type": "code",
   "execution_count": 25,
   "metadata": {},
   "outputs": [
    {
     "data": {
      "text/plain": [
       "GridSearchCV(cv='warn', error_score='raise-deprecating',\n",
       "             estimator=LogisticRegression(C=1.0, class_weight=None, dual=False,\n",
       "                                          fit_intercept=True,\n",
       "                                          intercept_scaling=1, l1_ratio=None,\n",
       "                                          max_iter=100, multi_class='warn',\n",
       "                                          n_jobs=None, penalty='l2',\n",
       "                                          random_state=None, solver='warn',\n",
       "                                          tol=0.0001, verbose=0,\n",
       "                                          warm_start=False),\n",
       "             iid='warn', n_jobs=None,\n",
       "             param_grid={'C': [0.5, 0.1],\n",
       "                         'max_iter': [2, 3, 4, 5, 6, 7, 8, 9, 10, 11, 12, 13,\n",
       "                                      14, 15, 16, 17, 18, 19, 20, 21, 22, 23,\n",
       "                                      24, 25, 26, 27, 28, 29, 30, 31, ...],\n",
       "                         'penalty': ['l1', 'l2']},\n",
       "             pre_dispatch='2*n_jobs', refit=True, return_train_score=False,\n",
       "             scoring=None, verbose=0)"
      ]
     },
     "execution_count": 25,
     "metadata": {},
     "output_type": "execute_result"
    }
   ],
   "source": [
    "gsCV.fit(features_train, target_train)"
   ]
  },
  {
   "cell_type": "code",
   "execution_count": 26,
   "metadata": {},
   "outputs": [
    {
     "data": {
      "text/plain": [
       "{'C': 0.5, 'max_iter': 16, 'penalty': 'l1'}"
      ]
     },
     "execution_count": 26,
     "metadata": {},
     "output_type": "execute_result"
    }
   ],
   "source": [
    "gsCV.best_params_"
   ]
  },
  {
   "cell_type": "code",
   "execution_count": 27,
   "metadata": {},
   "outputs": [
    {
     "name": "stdout",
     "output_type": "stream",
     "text": [
      "\u001b[32m Accuracy: 0.750291715285881 \u001b[0m \n",
      " \u001b[1m \u001b[42m OK \u001b[0m\n",
      "\u001b[34m \u001b[1m Оценка качества модели \u001b[0m \n",
      " \u001b[34m               precision    recall  f1-score   support\n",
      "\n",
      "           0       0.72      0.98      0.83       223\n",
      "           1       0.71      0.12      0.21        98\n",
      "\n",
      "    accuracy                           0.72       321\n",
      "   macro avg       0.71      0.55      0.52       321\n",
      "weighted avg       0.71      0.72      0.64       321\n",
      "\n"
     ]
    }
   ],
   "source": [
    "print_accuracy(gsCV.best_score_)"
   ]
  },
  {
   "cell_type": "code",
   "execution_count": 28,
   "metadata": {},
   "outputs": [
    {
     "name": "stdout",
     "output_type": "stream",
     "text": [
      "\u001b[32m Accuracy: 0.7507788161993769 \u001b[0m \n",
      " \u001b[1m \u001b[42m OK \u001b[0m\n",
      "\u001b[34m \u001b[1m Оценка качества модели \u001b[0m \n",
      " \u001b[34m               precision    recall  f1-score   support\n",
      "\n",
      "           0       0.72      0.98      0.83       223\n",
      "           1       0.71      0.12      0.21        98\n",
      "\n",
      "    accuracy                           0.72       321\n",
      "   macro avg       0.71      0.55      0.52       321\n",
      "weighted avg       0.71      0.72      0.64       321\n",
      "\n"
     ]
    }
   ],
   "source": [
    "best_score = gsCV.score(features_valid, target_valid)\n",
    "print_accuracy(best_score)"
   ]
  },
  {
   "cell_type": "markdown",
   "metadata": {},
   "source": [
    "Доработали, но все равно это не самая лучшая модель"
   ]
  },
  {
   "cell_type": "markdown",
   "metadata": {},
   "source": [
    "Определим на сколько наша модель рандомная"
   ]
  },
  {
   "cell_type": "code",
   "execution_count": 29,
   "metadata": {},
   "outputs": [],
   "source": [
    "from sklearn.dummy import DummyClassifier"
   ]
  },
  {
   "cell_type": "code",
   "execution_count": 30,
   "metadata": {},
   "outputs": [
    {
     "data": {
      "text/plain": [
       "DummyClassifier(constant=None, random_state=12345, strategy='most_frequent')"
      ]
     },
     "execution_count": 30,
     "metadata": {},
     "output_type": "execute_result"
    }
   ],
   "source": [
    "dc = DummyClassifier(strategy = 'most_frequent', random_state = 12345)\n",
    "dc.fit(features_train, target_train)"
   ]
  },
  {
   "cell_type": "code",
   "execution_count": 31,
   "metadata": {},
   "outputs": [],
   "source": [
    "predict_dc = dc.predict(features_valid)"
   ]
  },
  {
   "cell_type": "code",
   "execution_count": 32,
   "metadata": {},
   "outputs": [
    {
     "data": {
      "text/plain": [
       "0.6947040498442367"
      ]
     },
     "execution_count": 32,
     "metadata": {},
     "output_type": "execute_result"
    }
   ],
   "source": [
    "accuracy_score(predict_dc, target_valid)"
   ]
  },
  {
   "cell_type": "markdown",
   "metadata": {},
   "source": [
    "<a name=\"stage_1\"></a>\n",
    "## [Описание причины удаления столбца **calls** &darr;](#stage_1)\n",
    "[Наверх в начало](#contents_1)\n",
    "\n",
    "\n",
    "&darr; &darr; &darr; &darr; &darr; &darr; &darr; &darr; "
   ]
  },
  {
   "cell_type": "markdown",
   "metadata": {},
   "source": [
    "В данном случае логистическая модель предсказывает хуже чем деревья"
   ]
  },
  {
   "cell_type": "markdown",
   "metadata": {},
   "source": [
    "посмотрим корреляции факторов для исключения плохой обучаемости в случае логистической регрессии"
   ]
  },
  {
   "cell_type": "code",
   "execution_count": 33,
   "metadata": {},
   "outputs": [
    {
     "data": {
      "text/html": [
       "<div>\n",
       "<style scoped>\n",
       "    .dataframe tbody tr th:only-of-type {\n",
       "        vertical-align: middle;\n",
       "    }\n",
       "\n",
       "    .dataframe tbody tr th {\n",
       "        vertical-align: top;\n",
       "    }\n",
       "\n",
       "    .dataframe thead th {\n",
       "        text-align: right;\n",
       "    }\n",
       "</style>\n",
       "<table border=\"1\" class=\"dataframe\">\n",
       "  <thead>\n",
       "    <tr style=\"text-align: right;\">\n",
       "      <th></th>\n",
       "      <th>calls</th>\n",
       "      <th>minutes</th>\n",
       "      <th>messages</th>\n",
       "      <th>mb_used</th>\n",
       "      <th>is_ultra</th>\n",
       "    </tr>\n",
       "  </thead>\n",
       "  <tbody>\n",
       "    <tr>\n",
       "      <td>calls</td>\n",
       "      <td>1.000000</td>\n",
       "      <td>0.982083</td>\n",
       "      <td>0.177385</td>\n",
       "      <td>0.286442</td>\n",
       "      <td>0.207122</td>\n",
       "    </tr>\n",
       "    <tr>\n",
       "      <td>minutes</td>\n",
       "      <td>0.982083</td>\n",
       "      <td>1.000000</td>\n",
       "      <td>0.173110</td>\n",
       "      <td>0.280967</td>\n",
       "      <td>0.206955</td>\n",
       "    </tr>\n",
       "    <tr>\n",
       "      <td>messages</td>\n",
       "      <td>0.177385</td>\n",
       "      <td>0.173110</td>\n",
       "      <td>1.000000</td>\n",
       "      <td>0.195721</td>\n",
       "      <td>0.203830</td>\n",
       "    </tr>\n",
       "    <tr>\n",
       "      <td>mb_used</td>\n",
       "      <td>0.286442</td>\n",
       "      <td>0.280967</td>\n",
       "      <td>0.195721</td>\n",
       "      <td>1.000000</td>\n",
       "      <td>0.198568</td>\n",
       "    </tr>\n",
       "    <tr>\n",
       "      <td>is_ultra</td>\n",
       "      <td>0.207122</td>\n",
       "      <td>0.206955</td>\n",
       "      <td>0.203830</td>\n",
       "      <td>0.198568</td>\n",
       "      <td>1.000000</td>\n",
       "    </tr>\n",
       "  </tbody>\n",
       "</table>\n",
       "</div>"
      ],
      "text/plain": [
       "             calls   minutes  messages   mb_used  is_ultra\n",
       "calls     1.000000  0.982083  0.177385  0.286442  0.207122\n",
       "minutes   0.982083  1.000000  0.173110  0.280967  0.206955\n",
       "messages  0.177385  0.173110  1.000000  0.195721  0.203830\n",
       "mb_used   0.286442  0.280967  0.195721  1.000000  0.198568\n",
       "is_ultra  0.207122  0.206955  0.203830  0.198568  1.000000"
      ]
     },
     "execution_count": 33,
     "metadata": {},
     "output_type": "execute_result"
    }
   ],
   "source": [
    "df[df.columns].corr()"
   ]
  },
  {
   "cell_type": "markdown",
   "metadata": {},
   "source": [
    "большая зависимость между количеством звонков и минутами, для деревьев это не страшно, а вот логистическя регрессия от этого страдает сильно.\n",
    "вернемся в начало и удалим столбец с колличеством звонков "
   ]
  },
  {
   "cell_type": "markdown",
   "metadata": {},
   "source": [
    "---"
   ]
  },
  {
   "cell_type": "markdown",
   "metadata": {},
   "source": [
    "## 4. Проверка модели на тестовой выборке"
   ]
  },
  {
   "cell_type": "code",
   "execution_count": 34,
   "metadata": {},
   "outputs": [
    {
     "name": "stdout",
     "output_type": "stream",
     "text": [
      "\u001b[32m score: 0.8074534161490683 \u001b[0m \n",
      " \u001b[1m \u001b[42m OK \u001b[0m\n",
      "\u001b[34m \u001b[1m Оценка качества модели \u001b[0m \n",
      " \u001b[34m               precision    recall  f1-score   support\n",
      "\n",
      "           0       0.81      0.95      0.87       223\n",
      "           1       0.82      0.49      0.62        99\n",
      "\n",
      "    accuracy                           0.81       322\n",
      "   macro avg       0.81      0.72      0.75       322\n",
      "weighted avg       0.81      0.81      0.79       322\n",
      "\n"
     ]
    }
   ],
   "source": [
    "prediction =  model_RandomForestClassifier.predict(features_test)\n",
    "\n",
    "score_best_model = best_model.score(features_test, target_test)\n",
    "print(green, \"score:\", score_best_model, bold_end,\n",
    "      '\\n', bold_start, green_background, \"OK\", bold_end)\n",
    "print(blue,\n",
    "          bold_start,\n",
    "          'Оценка качества модели',\n",
    "          bold_end, '\\n', blue,\n",
    "          classification_report(target_test, prediction))"
   ]
  }
 ],
 "metadata": {
  "kernelspec": {
   "display_name": "Python 3",
   "language": "python",
   "name": "python3"
  },
  "language_info": {
   "codemirror_mode": {
    "name": "ipython",
    "version": 3
   },
   "file_extension": ".py",
   "mimetype": "text/x-python",
   "name": "python",
   "nbconvert_exporter": "python",
   "pygments_lexer": "ipython3",
   "version": "3.7.6"
  }
 },
 "nbformat": 4,
 "nbformat_minor": 2
}
