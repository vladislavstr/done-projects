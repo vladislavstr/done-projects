{
 "cells": [
  {
   "cell_type": "markdown",
   "metadata": {},
   "source": [
    "# Отток клиентов"
   ]
  },
  {
   "cell_type": "markdown",
   "metadata": {},
   "source": [
    "Нужно спрогнозировать, уйдёт клиент из банка в ближайшее время или нет.\n",
    " \n",
    "Необходимо построить модель большим значением *F1*-меры (не ниже 0.59 на тестовой выборке).\n",
    "\n",
    "Исторические данные о поведении клиентов и расторжении договоров с банком: [https://www.kaggle.com/barelydedicated/bank-customer-churn-modeling](https://www.kaggle.com/barelydedicated/bank-customer-churn-modeling)"
   ]
  },
  {
   "cell_type": "markdown",
   "metadata": {},
   "source": [
    "# Описание данных"
   ]
  },
  {
   "cell_type": "markdown",
   "metadata": {},
   "source": [
    "### Признаки"
   ]
  },
  {
   "cell_type": "markdown",
   "metadata": {},
   "source": [
    "- RowNumber — индекс строки в данных\n",
    "- CustomerId — уникальный идентификатор клиента\n",
    "- Surname — фамилия\n",
    "- CreditScore — кредитный рейтинг\n",
    "- Geography — страна проживания\n",
    "- Gender — пол\n",
    "- Age — возраст\n",
    "- Tenure — количество недвижимости у клиента\n",
    "- Balance — баланс на счёте\n",
    "- NumOfProducts — количество продуктов банка, используемых клиентом\n",
    "- HasCrCard — наличие кредитной карты\n",
    "- IsActiveMember — активность клиента\n",
    "- EstimatedSalary — предполагаемая зарплата"
   ]
  },
  {
   "cell_type": "markdown",
   "metadata": {},
   "source": [
    "### Целевой признак"
   ]
  },
  {
   "cell_type": "markdown",
   "metadata": {},
   "source": [
    "- Exited — факт ухода клиента"
   ]
  },
  {
   "cell_type": "markdown",
   "metadata": {},
   "source": [
    "# 1. Подготовка данных"
   ]
  },
  {
   "cell_type": "code",
   "execution_count": 1,
   "metadata": {},
   "outputs": [],
   "source": [
    "# отключим предупреждения Anaconda\n",
    "import warnings\n",
    "warnings.simplefilter('ignore')\n",
    "\n",
    "# # будем отображать графики прямо в jupyter'e\n",
    "# %matplotlib inline\n",
    "# # #графики в svg выглядят более четкими\n",
    "# %config InlineBackend.figure_format = 'svg'"
   ]
  },
  {
   "cell_type": "code",
   "execution_count": 2,
   "metadata": {},
   "outputs": [],
   "source": [
    "import pandas as pd\n",
    "import numpy as np\n",
    "import seaborn as sns\n",
    "sns.set(style=\"whitegrid\")\n",
    "import matplotlib.pyplot as plt\n",
    "import math\n",
    "from scipy import stats as st"
   ]
  },
  {
   "cell_type": "code",
   "execution_count": 3,
   "metadata": {},
   "outputs": [
    {
     "name": "stdout",
     "output_type": "stream",
     "text": [
      "3.7.6 | packaged by conda-forge | (default, Jun  1 2020, 18:57:50) \n",
      "[GCC 7.5.0]\n",
      "The joblib version is 0.16.0.\n",
      "The scikit-learn version is 0.21.2.\n"
     ]
    }
   ],
   "source": [
    "import sys\n",
    "print(sys.version)\n",
    "\n",
    "# !pip install scikit-learn==0.21.2\n",
    "\n",
    "import joblib\n",
    "print('The joblib version is {}.'.format(joblib.__version__))\n",
    "\n",
    "import sklearn\n",
    "print('The scikit-learn version is {}.'.format(sklearn.__version__))\n",
    "\n",
    "# _1_\n",
    "# Классификатор дерева решений\n",
    "from sklearn.tree import DecisionTreeClassifier\n",
    "#_2_\n",
    "# Классификатор случайного леса\n",
    "from sklearn.ensemble import RandomForestClassifier\n",
    "#_3_\n",
    "# Линейная модель\n",
    "from sklearn.linear_model import LogisticRegression\n",
    " \n",
    "# Оценка правильности\n",
    "from sklearn.metrics import accuracy_score\n",
    "# Разделение на тренировочную и валидационную выборку\n",
    "from sklearn.model_selection import train_test_split\n",
    "# Средняя квадратичная ошибка\n",
    "from sklearn.metrics import mean_squared_error\n",
    "# Оценка качества модели\n",
    "from sklearn.metrics import classification_report\n",
    "# Перебор параметров\n",
    "from sklearn.model_selection import GridSearchCV\n",
    "# classifier that makes predictions using simple rules\n",
    "from sklearn.dummy import DummyClassifier\n",
    "\n",
    "# Encoder\n",
    "from sklearn.preprocessing import OneHotEncoder, OrdinalEncoder\n",
    "# Среднее гармоническое полноты и точности\n",
    "from sklearn.metrics import f1_score\n",
    "#\n",
    "from sklearn.metrics import roc_curve\n",
    "from sklearn.metrics import roc_auc_score\n",
    "#\n",
    "from sklearn.utils import shuffle"
   ]
  },
  {
   "cell_type": "code",
   "execution_count": 4,
   "metadata": {},
   "outputs": [],
   "source": [
    "# Для оформления \n",
    "bold_start = '\\033[1m'\n",
    "yellow = '\\033[33m'\n",
    "red = '\\033[31m'\n",
    "violet = '\\033[35m'\n",
    "blue = '\\033[34m'\n",
    "green = '\\033[32m'\n",
    "green_background = '\\033[42m'\n",
    "red_background = '\\033[41m'\n",
    "bold_end   = '\\033[0m'"
   ]
  },
  {
   "cell_type": "code",
   "execution_count": 5,
   "metadata": {},
   "outputs": [],
   "source": [
    "data = pd.read_csv('/@@@/@@@.csv')"
   ]
  },
  {
   "cell_type": "code",
   "execution_count": 6,
   "metadata": {},
   "outputs": [
    {
     "data": {
      "text/html": [
       "<div>\n",
       "<style scoped>\n",
       "    .dataframe tbody tr th:only-of-type {\n",
       "        vertical-align: middle;\n",
       "    }\n",
       "\n",
       "    .dataframe tbody tr th {\n",
       "        vertical-align: top;\n",
       "    }\n",
       "\n",
       "    .dataframe thead th {\n",
       "        text-align: right;\n",
       "    }\n",
       "</style>\n",
       "<table border=\"1\" class=\"dataframe\">\n",
       "  <thead>\n",
       "    <tr style=\"text-align: right;\">\n",
       "      <th></th>\n",
       "      <th>RowNumber</th>\n",
       "      <th>CustomerId</th>\n",
       "      <th>Surname</th>\n",
       "      <th>CreditScore</th>\n",
       "      <th>Geography</th>\n",
       "      <th>Gender</th>\n",
       "      <th>Age</th>\n",
       "      <th>Tenure</th>\n",
       "      <th>Balance</th>\n",
       "      <th>NumOfProducts</th>\n",
       "      <th>HasCrCard</th>\n",
       "      <th>IsActiveMember</th>\n",
       "      <th>EstimatedSalary</th>\n",
       "      <th>Exited</th>\n",
       "    </tr>\n",
       "  </thead>\n",
       "  <tbody>\n",
       "    <tr>\n",
       "      <td>0</td>\n",
       "      <td>1</td>\n",
       "      <td>15634602</td>\n",
       "      <td>Hargrave</td>\n",
       "      <td>619</td>\n",
       "      <td>France</td>\n",
       "      <td>Female</td>\n",
       "      <td>42</td>\n",
       "      <td>2.0</td>\n",
       "      <td>0.00</td>\n",
       "      <td>1</td>\n",
       "      <td>1</td>\n",
       "      <td>1</td>\n",
       "      <td>101348.88</td>\n",
       "      <td>1</td>\n",
       "    </tr>\n",
       "    <tr>\n",
       "      <td>1</td>\n",
       "      <td>2</td>\n",
       "      <td>15647311</td>\n",
       "      <td>Hill</td>\n",
       "      <td>608</td>\n",
       "      <td>Spain</td>\n",
       "      <td>Female</td>\n",
       "      <td>41</td>\n",
       "      <td>1.0</td>\n",
       "      <td>83807.86</td>\n",
       "      <td>1</td>\n",
       "      <td>0</td>\n",
       "      <td>1</td>\n",
       "      <td>112542.58</td>\n",
       "      <td>0</td>\n",
       "    </tr>\n",
       "    <tr>\n",
       "      <td>2</td>\n",
       "      <td>3</td>\n",
       "      <td>15619304</td>\n",
       "      <td>Onio</td>\n",
       "      <td>502</td>\n",
       "      <td>France</td>\n",
       "      <td>Female</td>\n",
       "      <td>42</td>\n",
       "      <td>8.0</td>\n",
       "      <td>159660.80</td>\n",
       "      <td>3</td>\n",
       "      <td>1</td>\n",
       "      <td>0</td>\n",
       "      <td>113931.57</td>\n",
       "      <td>1</td>\n",
       "    </tr>\n",
       "    <tr>\n",
       "      <td>3</td>\n",
       "      <td>4</td>\n",
       "      <td>15701354</td>\n",
       "      <td>Boni</td>\n",
       "      <td>699</td>\n",
       "      <td>France</td>\n",
       "      <td>Female</td>\n",
       "      <td>39</td>\n",
       "      <td>1.0</td>\n",
       "      <td>0.00</td>\n",
       "      <td>2</td>\n",
       "      <td>0</td>\n",
       "      <td>0</td>\n",
       "      <td>93826.63</td>\n",
       "      <td>0</td>\n",
       "    </tr>\n",
       "    <tr>\n",
       "      <td>4</td>\n",
       "      <td>5</td>\n",
       "      <td>15737888</td>\n",
       "      <td>Mitchell</td>\n",
       "      <td>850</td>\n",
       "      <td>Spain</td>\n",
       "      <td>Female</td>\n",
       "      <td>43</td>\n",
       "      <td>2.0</td>\n",
       "      <td>125510.82</td>\n",
       "      <td>1</td>\n",
       "      <td>1</td>\n",
       "      <td>1</td>\n",
       "      <td>79084.10</td>\n",
       "      <td>0</td>\n",
       "    </tr>\n",
       "  </tbody>\n",
       "</table>\n",
       "</div>"
      ],
      "text/plain": [
       "   RowNumber  CustomerId   Surname  CreditScore Geography  Gender  Age  \\\n",
       "0          1    15634602  Hargrave          619    France  Female   42   \n",
       "1          2    15647311      Hill          608     Spain  Female   41   \n",
       "2          3    15619304      Onio          502    France  Female   42   \n",
       "3          4    15701354      Boni          699    France  Female   39   \n",
       "4          5    15737888  Mitchell          850     Spain  Female   43   \n",
       "\n",
       "   Tenure    Balance  NumOfProducts  HasCrCard  IsActiveMember  \\\n",
       "0     2.0       0.00              1          1               1   \n",
       "1     1.0   83807.86              1          0               1   \n",
       "2     8.0  159660.80              3          1               0   \n",
       "3     1.0       0.00              2          0               0   \n",
       "4     2.0  125510.82              1          1               1   \n",
       "\n",
       "   EstimatedSalary  Exited  \n",
       "0        101348.88       1  \n",
       "1        112542.58       0  \n",
       "2        113931.57       1  \n",
       "3         93826.63       0  \n",
       "4         79084.10       0  "
      ]
     },
     "metadata": {},
     "output_type": "display_data"
    },
    {
     "name": "stdout",
     "output_type": "stream",
     "text": [
      "<class 'pandas.core.frame.DataFrame'>\n",
      "RangeIndex: 10000 entries, 0 to 9999\n",
      "Data columns (total 14 columns):\n",
      "RowNumber          10000 non-null int64\n",
      "CustomerId         10000 non-null int64\n",
      "Surname            10000 non-null object\n",
      "CreditScore        10000 non-null int64\n",
      "Geography          10000 non-null object\n",
      "Gender             10000 non-null object\n",
      "Age                10000 non-null int64\n",
      "Tenure             9091 non-null float64\n",
      "Balance            10000 non-null float64\n",
      "NumOfProducts      10000 non-null int64\n",
      "HasCrCard          10000 non-null int64\n",
      "IsActiveMember     10000 non-null int64\n",
      "EstimatedSalary    10000 non-null float64\n",
      "Exited             10000 non-null int64\n",
      "dtypes: float64(3), int64(8), object(3)\n",
      "memory usage: 1.1+ MB\n"
     ]
    },
    {
     "data": {
      "text/plain": [
       "None"
      ]
     },
     "metadata": {},
     "output_type": "display_data"
    }
   ],
   "source": [
    "display(data.head())\n",
    "display(data.info())"
   ]
  },
  {
   "cell_type": "markdown",
   "metadata": {},
   "source": [
    "Tenure имеет пропуски, возможно у данных клиентов нету недвижимости или по каким то причинам данные отсутсвуют\n",
    "\n",
    "посмотрим повторяются ли такие пользователи"
   ]
  },
  {
   "cell_type": "code",
   "execution_count": 7,
   "metadata": {},
   "outputs": [
    {
     "data": {
      "text/html": [
       "<div>\n",
       "<style scoped>\n",
       "    .dataframe tbody tr th:only-of-type {\n",
       "        vertical-align: middle;\n",
       "    }\n",
       "\n",
       "    .dataframe tbody tr th {\n",
       "        vertical-align: top;\n",
       "    }\n",
       "\n",
       "    .dataframe thead th {\n",
       "        text-align: right;\n",
       "    }\n",
       "</style>\n",
       "<table border=\"1\" class=\"dataframe\">\n",
       "  <thead>\n",
       "    <tr style=\"text-align: right;\">\n",
       "      <th></th>\n",
       "      <th>index</th>\n",
       "      <th>CustomerId</th>\n",
       "    </tr>\n",
       "  </thead>\n",
       "  <tbody>\n",
       "  </tbody>\n",
       "</table>\n",
       "</div>"
      ],
      "text/plain": [
       "Empty DataFrame\n",
       "Columns: [index, CustomerId]\n",
       "Index: []"
      ]
     },
     "execution_count": 7,
     "metadata": {},
     "output_type": "execute_result"
    }
   ],
   "source": [
    "tenure_isna = data[data['Tenure'].isna()]\n",
    "customerid_tenure_isna = tenure_isna['CustomerId'].value_counts().reset_index()\n",
    "customerid_tenure_isna[customerid_tenure_isna['CustomerId'] != 1]"
   ]
  },
  {
   "cell_type": "markdown",
   "metadata": {},
   "source": [
    "Заполним пропуски 0 и приведем столбец к типу int"
   ]
  },
  {
   "cell_type": "code",
   "execution_count": 8,
   "metadata": {},
   "outputs": [],
   "source": [
    "data['Tenure'].fillna(0, inplace = True)\n",
    "data['Tenure'] = data.Tenure.astype('Int64')"
   ]
  },
  {
   "cell_type": "code",
   "execution_count": 9,
   "metadata": {},
   "outputs": [
    {
     "data": {
      "text/plain": [
       "<matplotlib.axes._subplots.AxesSubplot at 0x7f89fc1f40d0>"
      ]
     },
     "execution_count": 9,
     "metadata": {},
     "output_type": "execute_result"
    },
    {
     "data": {
      "image/png": "[encoded data removed]",
      "text/plain": [
       "<Figure size 432x288 with 1 Axes>"
      ]
     },
     "metadata": {},
     "output_type": "display_data"
    }
   ],
   "source": [
    "data['Tenure'].hist()"
   ]
  },
  {
   "cell_type": "markdown",
   "metadata": {},
   "source": [
    "Surname, CustomerId нам вообще не нужны. Привязка к личности никак не поможет изучению наших моделей.\n",
    "RowNumber тоже уберем"
   ]
  },
  {
   "cell_type": "code",
   "execution_count": 10,
   "metadata": {},
   "outputs": [],
   "source": [
    "data = data.drop(['RowNumber','CustomerId','Surname'], axis=1)"
   ]
  },
  {
   "cell_type": "code",
   "execution_count": 11,
   "metadata": {},
   "outputs": [],
   "source": [
    "sns.pairplot(data)"
   ]
  },
  {
   "cell_type": "code",
   "execution_count": 12,
   "metadata": {},
   "outputs": [
    {
     "data": {
      "text/plain": [
       "Male      5457\n",
       "Female    4543\n",
       "Name: Gender, dtype: int64"
      ]
     },
     "execution_count": 12,
     "metadata": {},
     "output_type": "execute_result"
    }
   ],
   "source": [
    "data.Gender.value_counts()"
   ]
  },
  {
   "cell_type": "code",
   "execution_count": 13,
   "metadata": {},
   "outputs": [
    {
     "data": {
      "text/html": [
       "<div>\n",
       "<style scoped>\n",
       "    .dataframe tbody tr th:only-of-type {\n",
       "        vertical-align: middle;\n",
       "    }\n",
       "\n",
       "    .dataframe tbody tr th {\n",
       "        vertical-align: top;\n",
       "    }\n",
       "\n",
       "    .dataframe thead th {\n",
       "        text-align: right;\n",
       "    }\n",
       "</style>\n",
       "<table border=\"1\" class=\"dataframe\">\n",
       "  <thead>\n",
       "    <tr style=\"text-align: right;\">\n",
       "      <th></th>\n",
       "      <th>CreditScore</th>\n",
       "      <th>Geography</th>\n",
       "      <th>Gender</th>\n",
       "      <th>Age</th>\n",
       "      <th>Tenure</th>\n",
       "      <th>Balance</th>\n",
       "      <th>NumOfProducts</th>\n",
       "      <th>HasCrCard</th>\n",
       "      <th>IsActiveMember</th>\n",
       "      <th>EstimatedSalary</th>\n",
       "      <th>Exited</th>\n",
       "    </tr>\n",
       "  </thead>\n",
       "  <tbody>\n",
       "    <tr>\n",
       "      <td>0</td>\n",
       "      <td>619</td>\n",
       "      <td>France</td>\n",
       "      <td>0</td>\n",
       "      <td>42</td>\n",
       "      <td>2</td>\n",
       "      <td>0.00</td>\n",
       "      <td>1</td>\n",
       "      <td>1</td>\n",
       "      <td>1</td>\n",
       "      <td>101348.88</td>\n",
       "      <td>1</td>\n",
       "    </tr>\n",
       "    <tr>\n",
       "      <td>1</td>\n",
       "      <td>608</td>\n",
       "      <td>Spain</td>\n",
       "      <td>0</td>\n",
       "      <td>41</td>\n",
       "      <td>1</td>\n",
       "      <td>83807.86</td>\n",
       "      <td>1</td>\n",
       "      <td>0</td>\n",
       "      <td>1</td>\n",
       "      <td>112542.58</td>\n",
       "      <td>0</td>\n",
       "    </tr>\n",
       "    <tr>\n",
       "      <td>2</td>\n",
       "      <td>502</td>\n",
       "      <td>France</td>\n",
       "      <td>0</td>\n",
       "      <td>42</td>\n",
       "      <td>8</td>\n",
       "      <td>159660.80</td>\n",
       "      <td>3</td>\n",
       "      <td>1</td>\n",
       "      <td>0</td>\n",
       "      <td>113931.57</td>\n",
       "      <td>1</td>\n",
       "    </tr>\n",
       "    <tr>\n",
       "      <td>3</td>\n",
       "      <td>699</td>\n",
       "      <td>France</td>\n",
       "      <td>0</td>\n",
       "      <td>39</td>\n",
       "      <td>1</td>\n",
       "      <td>0.00</td>\n",
       "      <td>2</td>\n",
       "      <td>0</td>\n",
       "      <td>0</td>\n",
       "      <td>93826.63</td>\n",
       "      <td>0</td>\n",
       "    </tr>\n",
       "    <tr>\n",
       "      <td>4</td>\n",
       "      <td>850</td>\n",
       "      <td>Spain</td>\n",
       "      <td>0</td>\n",
       "      <td>43</td>\n",
       "      <td>2</td>\n",
       "      <td>125510.82</td>\n",
       "      <td>1</td>\n",
       "      <td>1</td>\n",
       "      <td>1</td>\n",
       "      <td>79084.10</td>\n",
       "      <td>0</td>\n",
       "    </tr>\n",
       "  </tbody>\n",
       "</table>\n",
       "</div>"
      ],
      "text/plain": [
       "   CreditScore Geography  Gender  Age  Tenure    Balance  NumOfProducts  \\\n",
       "0          619    France       0   42       2       0.00              1   \n",
       "1          608     Spain       0   41       1   83807.86              1   \n",
       "2          502    France       0   42       8  159660.80              3   \n",
       "3          699    France       0   39       1       0.00              2   \n",
       "4          850     Spain       0   43       2  125510.82              1   \n",
       "\n",
       "   HasCrCard  IsActiveMember  EstimatedSalary  Exited  \n",
       "0          1               1        101348.88       1  \n",
       "1          0               1        112542.58       0  \n",
       "2          1               0        113931.57       1  \n",
       "3          0               0         93826.63       0  \n",
       "4          1               1         79084.10       0  "
      ]
     },
     "execution_count": 13,
     "metadata": {},
     "output_type": "execute_result"
    }
   ],
   "source": [
    "data.loc[:,'Gender'] = (data.Gender == 'Male').astype(int)\n",
    "data.head(5)"
   ]
  },
  {
   "cell_type": "markdown",
   "metadata": {},
   "source": [
    "# 2. Исследование задачи"
   ]
  },
  {
   "cell_type": "markdown",
   "metadata": {},
   "source": [
    "Для оттачивания навыков попробуем три типа кодирования:"
   ]
  },
  {
   "cell_type": "markdown",
   "metadata": {},
   "source": [
    "1:"
   ]
  },
  {
   "cell_type": "code",
   "execution_count": 14,
   "metadata": {
    "scrolled": true
   },
   "outputs": [
    {
     "data": {
      "text/html": [
       "<div>\n",
       "<style scoped>\n",
       "    .dataframe tbody tr th:only-of-type {\n",
       "        vertical-align: middle;\n",
       "    }\n",
       "\n",
       "    .dataframe tbody tr th {\n",
       "        vertical-align: top;\n",
       "    }\n",
       "\n",
       "    .dataframe thead th {\n",
       "        text-align: right;\n",
       "    }\n",
       "</style>\n",
       "<table border=\"1\" class=\"dataframe\">\n",
       "  <thead>\n",
       "    <tr style=\"text-align: right;\">\n",
       "      <th></th>\n",
       "      <th>France</th>\n",
       "      <th>Germany</th>\n",
       "      <th>Spain</th>\n",
       "    </tr>\n",
       "  </thead>\n",
       "  <tbody>\n",
       "    <tr>\n",
       "      <td>0</td>\n",
       "      <td>1.0</td>\n",
       "      <td>0.0</td>\n",
       "      <td>0.0</td>\n",
       "    </tr>\n",
       "    <tr>\n",
       "      <td>1</td>\n",
       "      <td>0.0</td>\n",
       "      <td>0.0</td>\n",
       "      <td>1.0</td>\n",
       "    </tr>\n",
       "    <tr>\n",
       "      <td>2</td>\n",
       "      <td>1.0</td>\n",
       "      <td>0.0</td>\n",
       "      <td>0.0</td>\n",
       "    </tr>\n",
       "    <tr>\n",
       "      <td>3</td>\n",
       "      <td>1.0</td>\n",
       "      <td>0.0</td>\n",
       "      <td>0.0</td>\n",
       "    </tr>\n",
       "    <tr>\n",
       "      <td>4</td>\n",
       "      <td>0.0</td>\n",
       "      <td>0.0</td>\n",
       "      <td>1.0</td>\n",
       "    </tr>\n",
       "    <tr>\n",
       "      <td>...</td>\n",
       "      <td>...</td>\n",
       "      <td>...</td>\n",
       "      <td>...</td>\n",
       "    </tr>\n",
       "    <tr>\n",
       "      <td>9995</td>\n",
       "      <td>1.0</td>\n",
       "      <td>0.0</td>\n",
       "      <td>0.0</td>\n",
       "    </tr>\n",
       "    <tr>\n",
       "      <td>9996</td>\n",
       "      <td>1.0</td>\n",
       "      <td>0.0</td>\n",
       "      <td>0.0</td>\n",
       "    </tr>\n",
       "    <tr>\n",
       "      <td>9997</td>\n",
       "      <td>1.0</td>\n",
       "      <td>0.0</td>\n",
       "      <td>0.0</td>\n",
       "    </tr>\n",
       "    <tr>\n",
       "      <td>9998</td>\n",
       "      <td>0.0</td>\n",
       "      <td>1.0</td>\n",
       "      <td>0.0</td>\n",
       "    </tr>\n",
       "    <tr>\n",
       "      <td>9999</td>\n",
       "      <td>1.0</td>\n",
       "      <td>0.0</td>\n",
       "      <td>0.0</td>\n",
       "    </tr>\n",
       "  </tbody>\n",
       "</table>\n",
       "<p>10000 rows × 3 columns</p>\n",
       "</div>"
      ],
      "text/plain": [
       "      France  Germany  Spain\n",
       "0        1.0      0.0    0.0\n",
       "1        0.0      0.0    1.0\n",
       "2        1.0      0.0    0.0\n",
       "3        1.0      0.0    0.0\n",
       "4        0.0      0.0    1.0\n",
       "...      ...      ...    ...\n",
       "9995     1.0      0.0    0.0\n",
       "9996     1.0      0.0    0.0\n",
       "9997     1.0      0.0    0.0\n",
       "9998     0.0      1.0    0.0\n",
       "9999     1.0      0.0    0.0\n",
       "\n",
       "[10000 rows x 3 columns]"
      ]
     },
     "execution_count": 14,
     "metadata": {},
     "output_type": "execute_result"
    }
   ],
   "source": [
    "OHEcoder = OneHotEncoder()\n",
    "Geography_ohe = OHEcoder.fit_transform(data[['Geography']]).toarray()\n",
    "Geography_ohe = pd.DataFrame(Geography_ohe, columns = OHEcoder.categories_[0])\n",
    "Geography_ohe"
   ]
  },
  {
   "cell_type": "code",
   "execution_count": 15,
   "metadata": {},
   "outputs": [
    {
     "data": {
      "text/plain": [
       "Index(['France', 'Germany', 'Spain'], dtype='object')"
      ]
     },
     "execution_count": 15,
     "metadata": {},
     "output_type": "execute_result"
    }
   ],
   "source": [
    "Geography_ohe.columns"
   ]
  },
  {
   "cell_type": "markdown",
   "metadata": {},
   "source": [
    "2:"
   ]
  },
  {
   "cell_type": "code",
   "execution_count": 16,
   "metadata": {},
   "outputs": [
    {
     "data": {
      "text/html": [
       "<div>\n",
       "<style scoped>\n",
       "    .dataframe tbody tr th:only-of-type {\n",
       "        vertical-align: middle;\n",
       "    }\n",
       "\n",
       "    .dataframe tbody tr th {\n",
       "        vertical-align: top;\n",
       "    }\n",
       "\n",
       "    .dataframe thead th {\n",
       "        text-align: right;\n",
       "    }\n",
       "</style>\n",
       "<table border=\"1\" class=\"dataframe\">\n",
       "  <thead>\n",
       "    <tr style=\"text-align: right;\">\n",
       "      <th></th>\n",
       "      <th>Germany</th>\n",
       "      <th>Spain</th>\n",
       "    </tr>\n",
       "  </thead>\n",
       "  <tbody>\n",
       "    <tr>\n",
       "      <td>0</td>\n",
       "      <td>0</td>\n",
       "      <td>0</td>\n",
       "    </tr>\n",
       "    <tr>\n",
       "      <td>1</td>\n",
       "      <td>0</td>\n",
       "      <td>1</td>\n",
       "    </tr>\n",
       "    <tr>\n",
       "      <td>2</td>\n",
       "      <td>0</td>\n",
       "      <td>0</td>\n",
       "    </tr>\n",
       "    <tr>\n",
       "      <td>3</td>\n",
       "      <td>0</td>\n",
       "      <td>0</td>\n",
       "    </tr>\n",
       "    <tr>\n",
       "      <td>4</td>\n",
       "      <td>0</td>\n",
       "      <td>1</td>\n",
       "    </tr>\n",
       "    <tr>\n",
       "      <td>...</td>\n",
       "      <td>...</td>\n",
       "      <td>...</td>\n",
       "    </tr>\n",
       "    <tr>\n",
       "      <td>9995</td>\n",
       "      <td>0</td>\n",
       "      <td>0</td>\n",
       "    </tr>\n",
       "    <tr>\n",
       "      <td>9996</td>\n",
       "      <td>0</td>\n",
       "      <td>0</td>\n",
       "    </tr>\n",
       "    <tr>\n",
       "      <td>9997</td>\n",
       "      <td>0</td>\n",
       "      <td>0</td>\n",
       "    </tr>\n",
       "    <tr>\n",
       "      <td>9998</td>\n",
       "      <td>1</td>\n",
       "      <td>0</td>\n",
       "    </tr>\n",
       "    <tr>\n",
       "      <td>9999</td>\n",
       "      <td>0</td>\n",
       "      <td>0</td>\n",
       "    </tr>\n",
       "  </tbody>\n",
       "</table>\n",
       "<p>10000 rows × 2 columns</p>\n",
       "</div>"
      ],
      "text/plain": [
       "      Germany  Spain\n",
       "0           0      0\n",
       "1           0      1\n",
       "2           0      0\n",
       "3           0      0\n",
       "4           0      1\n",
       "...       ...    ...\n",
       "9995        0      0\n",
       "9996        0      0\n",
       "9997        0      0\n",
       "9998        1      0\n",
       "9999        0      0\n",
       "\n",
       "[10000 rows x 2 columns]"
      ]
     },
     "execution_count": 16,
     "metadata": {},
     "output_type": "execute_result"
    }
   ],
   "source": [
    "# Прямое кодирование и удаление дамми-ловушки\n",
    "Geography_dummies = pd.get_dummies(data['Geography'], drop_first=True)\n",
    "Geography_dummies"
   ]
  },
  {
   "cell_type": "markdown",
   "metadata": {},
   "source": [
    "3: OrdinalEncoder лучше для деревьев, поэтому два способа кодирования попадут в data, но потом при обучении модели будут дропаться"
   ]
  },
  {
   "cell_type": "code",
   "execution_count": 17,
   "metadata": {
    "scrolled": true
   },
   "outputs": [
    {
     "data": {
      "text/html": [
       "<div>\n",
       "<style scoped>\n",
       "    .dataframe tbody tr th:only-of-type {\n",
       "        vertical-align: middle;\n",
       "    }\n",
       "\n",
       "    .dataframe tbody tr th {\n",
       "        vertical-align: top;\n",
       "    }\n",
       "\n",
       "    .dataframe thead th {\n",
       "        text-align: right;\n",
       "    }\n",
       "</style>\n",
       "<table border=\"1\" class=\"dataframe\">\n",
       "  <thead>\n",
       "    <tr style=\"text-align: right;\">\n",
       "      <th></th>\n",
       "      <th>Geography</th>\n",
       "    </tr>\n",
       "  </thead>\n",
       "  <tbody>\n",
       "    <tr>\n",
       "      <td>0</td>\n",
       "      <td>0.0</td>\n",
       "    </tr>\n",
       "    <tr>\n",
       "      <td>1</td>\n",
       "      <td>2.0</td>\n",
       "    </tr>\n",
       "    <tr>\n",
       "      <td>2</td>\n",
       "      <td>0.0</td>\n",
       "    </tr>\n",
       "    <tr>\n",
       "      <td>3</td>\n",
       "      <td>0.0</td>\n",
       "    </tr>\n",
       "    <tr>\n",
       "      <td>4</td>\n",
       "      <td>2.0</td>\n",
       "    </tr>\n",
       "    <tr>\n",
       "      <td>...</td>\n",
       "      <td>...</td>\n",
       "    </tr>\n",
       "    <tr>\n",
       "      <td>9995</td>\n",
       "      <td>0.0</td>\n",
       "    </tr>\n",
       "    <tr>\n",
       "      <td>9996</td>\n",
       "      <td>0.0</td>\n",
       "    </tr>\n",
       "    <tr>\n",
       "      <td>9997</td>\n",
       "      <td>0.0</td>\n",
       "    </tr>\n",
       "    <tr>\n",
       "      <td>9998</td>\n",
       "      <td>1.0</td>\n",
       "    </tr>\n",
       "    <tr>\n",
       "      <td>9999</td>\n",
       "      <td>0.0</td>\n",
       "    </tr>\n",
       "  </tbody>\n",
       "</table>\n",
       "<p>10000 rows × 1 columns</p>\n",
       "</div>"
      ],
      "text/plain": [
       "      Geography\n",
       "0           0.0\n",
       "1           2.0\n",
       "2           0.0\n",
       "3           0.0\n",
       "4           2.0\n",
       "...         ...\n",
       "9995        0.0\n",
       "9996        0.0\n",
       "9997        0.0\n",
       "9998        1.0\n",
       "9999        0.0\n",
       "\n",
       "[10000 rows x 1 columns]"
      ]
     },
     "execution_count": 17,
     "metadata": {},
     "output_type": "execute_result"
    }
   ],
   "source": [
    "# Порядковое кодирование\n",
    "OEcoder = OrdinalEncoder()\n",
    "Geography_Ordinal = OEcoder.fit_transform(data[['Geography']])\n",
    "Geography_Ordinal = pd.DataFrame(Geography_Ordinal, columns=['Geography'])\n",
    "Geography_Ordinal"
   ]
  },
  {
   "cell_type": "markdown",
   "metadata": {},
   "source": [
    "Выполним замену"
   ]
  },
  {
   "cell_type": "code",
   "execution_count": 18,
   "metadata": {},
   "outputs": [
    {
     "data": {
      "text/html": [
       "<div>\n",
       "<style scoped>\n",
       "    .dataframe tbody tr th:only-of-type {\n",
       "        vertical-align: middle;\n",
       "    }\n",
       "\n",
       "    .dataframe tbody tr th {\n",
       "        vertical-align: top;\n",
       "    }\n",
       "\n",
       "    .dataframe thead th {\n",
       "        text-align: right;\n",
       "    }\n",
       "</style>\n",
       "<table border=\"1\" class=\"dataframe\">\n",
       "  <thead>\n",
       "    <tr style=\"text-align: right;\">\n",
       "      <th></th>\n",
       "      <th>CreditScore</th>\n",
       "      <th>Geography</th>\n",
       "      <th>Gender</th>\n",
       "      <th>Age</th>\n",
       "      <th>Tenure</th>\n",
       "      <th>Balance</th>\n",
       "      <th>NumOfProducts</th>\n",
       "      <th>HasCrCard</th>\n",
       "      <th>IsActiveMember</th>\n",
       "      <th>EstimatedSalary</th>\n",
       "      <th>Exited</th>\n",
       "      <th>France</th>\n",
       "      <th>Germany</th>\n",
       "      <th>Spain</th>\n",
       "    </tr>\n",
       "  </thead>\n",
       "  <tbody>\n",
       "    <tr>\n",
       "      <td>0</td>\n",
       "      <td>619</td>\n",
       "      <td>0.0</td>\n",
       "      <td>0</td>\n",
       "      <td>42</td>\n",
       "      <td>2</td>\n",
       "      <td>0.00</td>\n",
       "      <td>1</td>\n",
       "      <td>1</td>\n",
       "      <td>1</td>\n",
       "      <td>101348.88</td>\n",
       "      <td>1</td>\n",
       "      <td>1.0</td>\n",
       "      <td>0.0</td>\n",
       "      <td>0.0</td>\n",
       "    </tr>\n",
       "    <tr>\n",
       "      <td>1</td>\n",
       "      <td>608</td>\n",
       "      <td>2.0</td>\n",
       "      <td>0</td>\n",
       "      <td>41</td>\n",
       "      <td>1</td>\n",
       "      <td>83807.86</td>\n",
       "      <td>1</td>\n",
       "      <td>0</td>\n",
       "      <td>1</td>\n",
       "      <td>112542.58</td>\n",
       "      <td>0</td>\n",
       "      <td>0.0</td>\n",
       "      <td>0.0</td>\n",
       "      <td>1.0</td>\n",
       "    </tr>\n",
       "    <tr>\n",
       "      <td>2</td>\n",
       "      <td>502</td>\n",
       "      <td>0.0</td>\n",
       "      <td>0</td>\n",
       "      <td>42</td>\n",
       "      <td>8</td>\n",
       "      <td>159660.80</td>\n",
       "      <td>3</td>\n",
       "      <td>1</td>\n",
       "      <td>0</td>\n",
       "      <td>113931.57</td>\n",
       "      <td>1</td>\n",
       "      <td>1.0</td>\n",
       "      <td>0.0</td>\n",
       "      <td>0.0</td>\n",
       "    </tr>\n",
       "    <tr>\n",
       "      <td>3</td>\n",
       "      <td>699</td>\n",
       "      <td>0.0</td>\n",
       "      <td>0</td>\n",
       "      <td>39</td>\n",
       "      <td>1</td>\n",
       "      <td>0.00</td>\n",
       "      <td>2</td>\n",
       "      <td>0</td>\n",
       "      <td>0</td>\n",
       "      <td>93826.63</td>\n",
       "      <td>0</td>\n",
       "      <td>1.0</td>\n",
       "      <td>0.0</td>\n",
       "      <td>0.0</td>\n",
       "    </tr>\n",
       "    <tr>\n",
       "      <td>4</td>\n",
       "      <td>850</td>\n",
       "      <td>2.0</td>\n",
       "      <td>0</td>\n",
       "      <td>43</td>\n",
       "      <td>2</td>\n",
       "      <td>125510.82</td>\n",
       "      <td>1</td>\n",
       "      <td>1</td>\n",
       "      <td>1</td>\n",
       "      <td>79084.10</td>\n",
       "      <td>0</td>\n",
       "      <td>0.0</td>\n",
       "      <td>0.0</td>\n",
       "      <td>1.0</td>\n",
       "    </tr>\n",
       "    <tr>\n",
       "      <td>...</td>\n",
       "      <td>...</td>\n",
       "      <td>...</td>\n",
       "      <td>...</td>\n",
       "      <td>...</td>\n",
       "      <td>...</td>\n",
       "      <td>...</td>\n",
       "      <td>...</td>\n",
       "      <td>...</td>\n",
       "      <td>...</td>\n",
       "      <td>...</td>\n",
       "      <td>...</td>\n",
       "      <td>...</td>\n",
       "      <td>...</td>\n",
       "      <td>...</td>\n",
       "    </tr>\n",
       "    <tr>\n",
       "      <td>9995</td>\n",
       "      <td>771</td>\n",
       "      <td>0.0</td>\n",
       "      <td>1</td>\n",
       "      <td>39</td>\n",
       "      <td>5</td>\n",
       "      <td>0.00</td>\n",
       "      <td>2</td>\n",
       "      <td>1</td>\n",
       "      <td>0</td>\n",
       "      <td>96270.64</td>\n",
       "      <td>0</td>\n",
       "      <td>1.0</td>\n",
       "      <td>0.0</td>\n",
       "      <td>0.0</td>\n",
       "    </tr>\n",
       "    <tr>\n",
       "      <td>9996</td>\n",
       "      <td>516</td>\n",
       "      <td>0.0</td>\n",
       "      <td>1</td>\n",
       "      <td>35</td>\n",
       "      <td>10</td>\n",
       "      <td>57369.61</td>\n",
       "      <td>1</td>\n",
       "      <td>1</td>\n",
       "      <td>1</td>\n",
       "      <td>101699.77</td>\n",
       "      <td>0</td>\n",
       "      <td>1.0</td>\n",
       "      <td>0.0</td>\n",
       "      <td>0.0</td>\n",
       "    </tr>\n",
       "    <tr>\n",
       "      <td>9997</td>\n",
       "      <td>709</td>\n",
       "      <td>0.0</td>\n",
       "      <td>0</td>\n",
       "      <td>36</td>\n",
       "      <td>7</td>\n",
       "      <td>0.00</td>\n",
       "      <td>1</td>\n",
       "      <td>0</td>\n",
       "      <td>1</td>\n",
       "      <td>42085.58</td>\n",
       "      <td>1</td>\n",
       "      <td>1.0</td>\n",
       "      <td>0.0</td>\n",
       "      <td>0.0</td>\n",
       "    </tr>\n",
       "    <tr>\n",
       "      <td>9998</td>\n",
       "      <td>772</td>\n",
       "      <td>1.0</td>\n",
       "      <td>1</td>\n",
       "      <td>42</td>\n",
       "      <td>3</td>\n",
       "      <td>75075.31</td>\n",
       "      <td>2</td>\n",
       "      <td>1</td>\n",
       "      <td>0</td>\n",
       "      <td>92888.52</td>\n",
       "      <td>1</td>\n",
       "      <td>0.0</td>\n",
       "      <td>1.0</td>\n",
       "      <td>0.0</td>\n",
       "    </tr>\n",
       "    <tr>\n",
       "      <td>9999</td>\n",
       "      <td>792</td>\n",
       "      <td>0.0</td>\n",
       "      <td>0</td>\n",
       "      <td>28</td>\n",
       "      <td>0</td>\n",
       "      <td>130142.79</td>\n",
       "      <td>1</td>\n",
       "      <td>1</td>\n",
       "      <td>0</td>\n",
       "      <td>38190.78</td>\n",
       "      <td>0</td>\n",
       "      <td>1.0</td>\n",
       "      <td>0.0</td>\n",
       "      <td>0.0</td>\n",
       "    </tr>\n",
       "  </tbody>\n",
       "</table>\n",
       "<p>10000 rows × 14 columns</p>\n",
       "</div>"
      ],
      "text/plain": [
       "      CreditScore  Geography  Gender  Age  Tenure    Balance  NumOfProducts  \\\n",
       "0             619        0.0       0   42       2       0.00              1   \n",
       "1             608        2.0       0   41       1   83807.86              1   \n",
       "2             502        0.0       0   42       8  159660.80              3   \n",
       "3             699        0.0       0   39       1       0.00              2   \n",
       "4             850        2.0       0   43       2  125510.82              1   \n",
       "...           ...        ...     ...  ...     ...        ...            ...   \n",
       "9995          771        0.0       1   39       5       0.00              2   \n",
       "9996          516        0.0       1   35      10   57369.61              1   \n",
       "9997          709        0.0       0   36       7       0.00              1   \n",
       "9998          772        1.0       1   42       3   75075.31              2   \n",
       "9999          792        0.0       0   28       0  130142.79              1   \n",
       "\n",
       "      HasCrCard  IsActiveMember  EstimatedSalary  Exited  France  Germany  \\\n",
       "0             1               1        101348.88       1     1.0      0.0   \n",
       "1             0               1        112542.58       0     0.0      0.0   \n",
       "2             1               0        113931.57       1     1.0      0.0   \n",
       "3             0               0         93826.63       0     1.0      0.0   \n",
       "4             1               1         79084.10       0     0.0      0.0   \n",
       "...         ...             ...              ...     ...     ...      ...   \n",
       "9995          1               0         96270.64       0     1.0      0.0   \n",
       "9996          1               1        101699.77       0     1.0      0.0   \n",
       "9997          0               1         42085.58       1     1.0      0.0   \n",
       "9998          1               0         92888.52       1     0.0      1.0   \n",
       "9999          1               0         38190.78       0     1.0      0.0   \n",
       "\n",
       "      Spain  \n",
       "0       0.0  \n",
       "1       1.0  \n",
       "2       0.0  \n",
       "3       0.0  \n",
       "4       1.0  \n",
       "...     ...  \n",
       "9995    0.0  \n",
       "9996    0.0  \n",
       "9997    0.0  \n",
       "9998    0.0  \n",
       "9999    0.0  \n",
       "\n",
       "[10000 rows x 14 columns]"
      ]
     },
     "execution_count": 18,
     "metadata": {},
     "output_type": "execute_result"
    }
   ],
   "source": [
    "data.loc[:, 'Geography'] = Geography_Ordinal.loc[:, 'Geography']\n",
    "data = data.join(Geography_ohe)\n",
    "data"
   ]
  },
  {
   "cell_type": "markdown",
   "metadata": {},
   "source": [
    "---"
   ]
  },
  {
   "cell_type": "markdown",
   "metadata": {},
   "source": [
    "80% данных на обучение, 10% в тестах и 10% в валидации"
   ]
  },
  {
   "cell_type": "code",
   "execution_count": 19,
   "metadata": {},
   "outputs": [
    {
     "data": {
      "text/plain": [
       "((8000, 13), (2000, 13), (1000, 13), (1000, 13))"
      ]
     },
     "execution_count": 19,
     "metadata": {},
     "output_type": "execute_result"
    }
   ],
   "source": [
    "features = data.drop(['Exited'], axis = 1)\n",
    "target = data['Exited']\n",
    "\n",
    "# организуем равномерное распределение значений обучающего столба \n",
    "# при разделении с помощью stratify !\n",
    "\n",
    "features_train, features_val_test, target_train, target_val_test = train_test_split(features, target,\n",
    "                                                                                    test_size=0.2, random_state=12345,\n",
    "                                                                                    stratify=target)\n",
    "\n",
    "features_valid, features_test, target_valid, target_test = train_test_split(features_val_test, target_val_test,\n",
    "                                                                            test_size=0.5, random_state=12345,\n",
    "                                                                            stratify=target_val_test)\n",
    "\n",
    "features_train.shape, features_val_test.shape, features_valid.shape, features_test.shape"
   ]
  },
  {
   "cell_type": "code",
   "execution_count": 20,
   "metadata": {},
   "outputs": [
    {
     "data": {
      "text/plain": [
       "((8000,), (1000,), (1000,))"
      ]
     },
     "execution_count": 20,
     "metadata": {},
     "output_type": "execute_result"
    }
   ],
   "source": [
    " target_train.shape, target_valid.shape, target_test.shape"
   ]
  },
  {
   "cell_type": "code",
   "execution_count": 21,
   "metadata": {},
   "outputs": [],
   "source": [
    "features_train_ohe = features_train.drop(['Geography'], axis=1)\n",
    "features_train_oe = features_train.drop(['Spain','France','Germany'], axis=1)\n",
    "\n",
    "features_valid_ohe = features_valid.drop(['Geography'], axis=1)\n",
    "features_valid_oe = features_valid.drop(['Spain','France','Germany'], axis=1)\n",
    "\n",
    "features_test_ohe = features_test.drop(['Geography'], axis=1)\n",
    "features_test_oe = features_test.drop(['Spain','France','Germany'], axis=1)"
   ]
  },
  {
   "cell_type": "markdown",
   "metadata": {},
   "source": [
    "---"
   ]
  },
  {
   "cell_type": "markdown",
   "metadata": {},
   "source": [
    "# Обучим модель на исходных данных:"
   ]
  },
  {
   "cell_type": "code",
   "execution_count": 22,
   "metadata": {},
   "outputs": [],
   "source": [
    "#######################################\n",
    "# _DRY funcion for search in modells_ #\n",
    "#######################################\n",
    "\n",
    "def search_in_model2(model, features_train, target_train, features_valid, target_valid):\n",
    "    best_score = 0\n",
    "    best_n = 0  \n",
    "    best_prediction = 0\n",
    "    for n in range(2, 100):\n",
    "        # Creating a model by specifying the max_depth=n\n",
    "        if type(model).__name__ == 'DecisionTreeClassifier':\n",
    "            model.set_params(max_depth = n)\n",
    "        elif type(model).__name__ == 'RandomForestClassifier':\n",
    "            model.set_params(n_estimators = n)\n",
    "        elif type(model).__name__ == 'LogisticRegression':\n",
    "            model.set_params(max_iter = n)\n",
    "        # Training\n",
    "        model.fit(features_train, target_train)\n",
    "        # Prediction to estimate the model\n",
    "        prediction =  model.predict(features_valid)\n",
    "      \n",
    "        score = model.score(features_valid, target_valid)\n",
    "        # Recording the best values\n",
    "        if score > best_score:\n",
    "            best_score = score\n",
    "            best_n = n\n",
    "            best_prediction = prediction\n",
    "            probabilities_valid = model.predict_proba(features_valid)\n",
    "            probabilities_one_valid = probabilities_valid[:, 1]            \n",
    "    print(green,'best n:' , best_n)\n",
    "    \n",
    "    # _funcion for print accuracy_ #\n",
    "    if best_score < 0.75:\n",
    "        print( red, \"Accuracy:\", best_score, bold_end, \n",
    "          '\\n', bold_start, red_background, \"need to update\", bold_end)\n",
    "    else:\n",
    "        print(green, \"Accuracy:\", best_score, bold_end, \n",
    "          '\\n', bold_start, green_background, \"OK\", bold_end)\n",
    "    print(blue,\n",
    "          bold_start,\n",
    "          'the model quality',\n",
    "          bold_end, '\\n', blue,\n",
    "          classification_report(target_valid, best_prediction)) \n",
    "    \n",
    "    \n",
    "    #F1\n",
    "    f1 = f1_score(target_valid, best_prediction) \n",
    "    \n",
    "    if f1 < 0.59:\n",
    "        print(red,'f1_score:', f1, bold_end,\n",
    "              '\\n', bold_start, red_background, \"need to update\", bold_end)\n",
    "    else:\n",
    "        print(green,'f1_score:', f1, bold_end,\n",
    "              '\\n', bold_start, green_background, \"OK\", bold_end)\n",
    "    #ROC-AUC\n",
    "    fpr, tpr, thresholds = roc_curve(target_valid, probabilities_one_valid) \n",
    "\n",
    "    plt.figure()\n",
    "\n",
    "    # building a graph\n",
    "    plt.plot(fpr, tpr)\n",
    "    \n",
    "    # ROC-the curve of a random model (looks like a straight line)\n",
    "    plt.plot([0, 1], [0, 1], linestyle='--')\n",
    "\n",
    "    # apply the functions of the plt.slim() and plt.ylim () to\n",
    "    # set the limits of the axes from 0 to 1\n",
    "    plt.xlim([0.0, 1.0])\n",
    "    plt.ylim([0.0, 1.0])\n",
    "    \n",
    "    # using the PLT.xlabel() and plt.ylabel () functions to\n",
    "    # sign the axes \"false positive speed\" and \"true positive speed\".\"\n",
    "    plt.xlabel('False Positive Rate')\n",
    "    plt.ylabel('True Positive Rate')\n",
    "    plt.title('ROC-curve line')\n",
    "    \n",
    "    # header \"ROC-curve line\" with plt.title() \n",
    "    plt.show()\n",
    "    \n",
    "    auc_roc = roc_auc_score(target_valid, probabilities_one_valid) \n",
    "\n",
    "    print(violet, 'auc_roc:', auc_roc)"
   ]
  },
  {
   "cell_type": "code",
   "execution_count": 23,
   "metadata": {},
   "outputs": [
    {
     "name": "stdout",
     "output_type": "stream",
     "text": [
      "\u001b[32m best n: 2\n",
      "\u001b[32m Accuracy: 0.796 \u001b[0m \n",
      " \u001b[1m \u001b[42m OK \u001b[0m\n",
      "\u001b[34m \u001b[1m the model quality \u001b[0m \n",
      " \u001b[34m               precision    recall  f1-score   support\n",
      "\n",
      "           0       0.80      1.00      0.89       796\n",
      "           1       0.00      0.00      0.00       204\n",
      "\n",
      "    accuracy                           0.80      1000\n",
      "   macro avg       0.40      0.50      0.44      1000\n",
      "weighted avg       0.63      0.80      0.71      1000\n",
      "\n",
      "\u001b[31m f1_score: 0.0 \u001b[0m \n",
      " \u001b[1m \u001b[41m need to update \u001b[0m\n"
     ]
    },
    {
     "data": {
      "image/png": "[encoded data removed]",
      "text/plain": [
       "<Figure size 432x288 with 1 Axes>"
      ]
     },
     "metadata": {},
     "output_type": "display_data"
    },
    {
     "name": "stdout",
     "output_type": "stream",
     "text": [
      "\u001b[35m auc_roc: 0.4671827273623017\n",
      "CPU times: user 3 µs, sys: 1e+03 ns, total: 4 µs\n",
      "Wall time: 8.58 µs\n"
     ]
    }
   ],
   "source": [
    "search_in_model2(LogisticRegression(random_state=12345),\n",
    "                features_train_ohe, target_train, features_valid_ohe, target_valid)\n",
    "%time"
   ]
  },
  {
   "cell_type": "code",
   "execution_count": 24,
   "metadata": {},
   "outputs": [
    {
     "name": "stdout",
     "output_type": "stream",
     "text": [
      "target_train:\n",
      " 0    6370\n",
      "1    1630\n",
      "Name: Exited, dtype: int64 target_valid:\n",
      " 0    796\n",
      "1    204\n",
      "Name: Exited, dtype: int64\n"
     ]
    }
   ],
   "source": [
    "print('target_train:\\n',target_train.value_counts(),'target_valid:\\n',target_valid.value_counts())"
   ]
  },
  {
   "cell_type": "markdown",
   "metadata": {},
   "source": [
    "score большой за счет большой доли *1* в валидационной выборке. Но *0* вообще не научилась находить "
   ]
  },
  {
   "cell_type": "markdown",
   "metadata": {},
   "source": [
    "- ### DecisionTreeClassifier():"
   ]
  },
  {
   "cell_type": "markdown",
   "metadata": {},
   "source": [
    "Чтобы больше не заниматься перебором и не искать ошибки в вункциях сделаю все с помощью **GridSearchCV**"
   ]
  },
  {
   "cell_type": "markdown",
   "metadata": {},
   "source": [
    "Зададим параметры для тестирования."
   ]
  },
  {
   "cell_type": "code",
   "execution_count": 25,
   "metadata": {},
   "outputs": [],
   "source": [
    "param_grid_dt = {'max_depth':[depth for depth in range(1,15)],\n",
    "                 'min_samples_split':[split for split in range(2,10,1)],\n",
    "                 'min_samples_leaf':[leaf for leaf in range(1,10,1)],\n",
    "                 'random_state': [12345]\n",
    "                }"
   ]
  },
  {
   "cell_type": "markdown",
   "metadata": {},
   "source": [
    "Зададим модель."
   ]
  },
  {
   "cell_type": "code",
   "execution_count": 26,
   "metadata": {},
   "outputs": [],
   "source": [
    "gs_dt = GridSearchCV(DecisionTreeClassifier(), param_grid = param_grid_dt)"
   ]
  },
  {
   "cell_type": "markdown",
   "metadata": {},
   "source": [
    "Обучим модель для нахождения лучших параметров."
   ]
  },
  {
   "cell_type": "code",
   "execution_count": 27,
   "metadata": {},
   "outputs": [
    {
     "name": "stdout",
     "output_type": "stream",
     "text": [
      "CPU times: user 5 µs, sys: 0 ns, total: 5 µs\n",
      "Wall time: 10 µs\n"
     ]
    }
   ],
   "source": [
    "gs_dt.fit(features_train_oe, target_train)\n",
    "%time"
   ]
  },
  {
   "cell_type": "markdown",
   "metadata": {},
   "source": [
    "Выведем лучшие параметры."
   ]
  },
  {
   "cell_type": "code",
   "execution_count": 28,
   "metadata": {},
   "outputs": [
    {
     "data": {
      "text/plain": [
       "{'max_depth': 6,\n",
       " 'min_samples_leaf': 4,\n",
       " 'min_samples_split': 2,\n",
       " 'random_state': 12345}"
      ]
     },
     "execution_count": 28,
     "metadata": {},
     "output_type": "execute_result"
    }
   ],
   "source": [
    "gs_dt.best_params_"
   ]
  },
  {
   "cell_type": "markdown",
   "metadata": {},
   "source": [
    "Обучим модель с лучшими параметрами."
   ]
  },
  {
   "cell_type": "code",
   "execution_count": 29,
   "metadata": {},
   "outputs": [],
   "source": [
    "dt = DecisionTreeClassifier(max_depth =gs_dt.best_params_['max_depth'], \n",
    "                            min_samples_leaf =gs_dt.best_params_['min_samples_leaf'],\n",
    "                            min_samples_split = gs_dt.best_params_['min_samples_split'],\n",
    "                            random_state=12345)"
   ]
  },
  {
   "cell_type": "code",
   "execution_count": 30,
   "metadata": {},
   "outputs": [
    {
     "data": {
      "text/plain": [
       "DecisionTreeClassifier(class_weight=None, criterion='gini', max_depth=6,\n",
       "                       max_features=None, max_leaf_nodes=None,\n",
       "                       min_impurity_decrease=0.0, min_impurity_split=None,\n",
       "                       min_samples_leaf=4, min_samples_split=2,\n",
       "                       min_weight_fraction_leaf=0.0, presort=False,\n",
       "                       random_state=12345, splitter='best')"
      ]
     },
     "execution_count": 30,
     "metadata": {},
     "output_type": "execute_result"
    }
   ],
   "source": [
    "dt.fit(features_train_oe, target_train)"
   ]
  },
  {
   "cell_type": "markdown",
   "metadata": {},
   "source": [
    "Сделаем предсказания по тренировочной и валидационной выборкам."
   ]
  },
  {
   "cell_type": "markdown",
   "metadata": {},
   "source": [
    "Посмотрим значени метрики F1 и AUC-ROC\n",
    "\n",
    "Также выведем общий репорт по точности, полноте и F1 мере."
   ]
  },
  {
   "cell_type": "markdown",
   "metadata": {},
   "source": [
    "Теперь можно записать функцию вывода интересующих нас показателей "
   ]
  },
  {
   "cell_type": "code",
   "execution_count": 31,
   "metadata": {},
   "outputs": [],
   "source": [
    "####################################\n",
    "# _DRY function for print roc_auc_ #\n",
    "####################################\n",
    "\n",
    "def roc_auc(model, features, target):\n",
    "    probabilities_sample = model.predict_proba(features)\n",
    "    probabilities_one_sample = probabilities_sample[:, 1]\n",
    "    \n",
    "    prediction = model.predict(features)\n",
    "\n",
    "    #ROC-AUC\n",
    "    fpr, tpr, thresholds = roc_curve(target, probabilities_one_sample) \n",
    "\n",
    "    plt.figure()\n",
    "\n",
    "    # building a graph\n",
    "    plt.plot(fpr, tpr)\n",
    "\n",
    "    # ROC-the curve of a random model (looks like a straight line)\n",
    "    plt.plot([0, 1], [0, 1], linestyle='--')\n",
    "\n",
    "    # apply the functions of the plt.slim() and plt.ylim () to\n",
    "    # set the limits of the axes from 0 to 1\n",
    "    plt.xlim([0.0, 1.0])\n",
    "    plt.ylim([0.0, 1.0])\n",
    "\n",
    "    # using the PLT.xlabel() and plt.ylabel () functions to\n",
    "    # sign the axes \"false positive speed\" and \"true positive speed\".\"\n",
    "    plt.xlabel('False Positive Rate')\n",
    "    plt.ylabel('True Positive Rate')\n",
    "    plt.title('ROC-curve line')\n",
    "\n",
    "    # header \"ROC-curve line\" with plt.title() \n",
    "    plt.show()\n",
    "\n",
    "    roc_auc = roc_auc_score(target, probabilities_one_sample) \n",
    "    print(violet, 'auc_roc:', roc_auc)\n",
    "    print('accurate F1:',f1_score(target, prediction), bold_end)\n",
    "    \n",
    "    print(blue, classification_report(target,prediction), bold_end)"
   ]
  },
  {
   "cell_type": "code",
   "execution_count": 32,
   "metadata": {},
   "outputs": [
    {
     "name": "stdout",
     "output_type": "stream",
     "text": [
      "\u001b[1m train ROC-AUC: \u001b[0m\n"
     ]
    },
    {
     "data": {
      "image/png": "[encoded data removed]",
      "text/plain": [
       "<Figure size 432x288 with 1 Axes>"
      ]
     },
     "metadata": {},
     "output_type": "display_data"
    },
    {
     "name": "stdout",
     "output_type": "stream",
     "text": [
      "\u001b[35m auc_roc: 0.8560832506669492\n",
      "accurate F1: 0.5386533665835411 \u001b[0m\n",
      "\u001b[34m               precision    recall  f1-score   support\n",
      "\n",
      "           0       0.86      0.98      0.92      6370\n",
      "           1       0.84      0.40      0.54      1630\n",
      "\n",
      "    accuracy                           0.86      8000\n",
      "   macro avg       0.85      0.69      0.73      8000\n",
      "weighted avg       0.86      0.86      0.84      8000\n",
      " \u001b[0m\n",
      "\u001b[1m valid ROC-AUC: \u001b[0m\n"
     ]
    },
    {
     "data": {
      "image/png": "[encoded data removed]",
      "text/plain": [
       "<Figure size 432x288 with 1 Axes>"
      ]
     },
     "metadata": {},
     "output_type": "display_data"
    },
    {
     "name": "stdout",
     "output_type": "stream",
     "text": [
      "\u001b[35m auc_roc: 0.8464688639274804\n",
      "accurate F1: 0.5016501650165016 \u001b[0m\n",
      "\u001b[34m               precision    recall  f1-score   support\n",
      "\n",
      "           0       0.86      0.97      0.91       796\n",
      "           1       0.77      0.37      0.50       204\n",
      "\n",
      "    accuracy                           0.85      1000\n",
      "   macro avg       0.81      0.67      0.71      1000\n",
      "weighted avg       0.84      0.85      0.83      1000\n",
      " \u001b[0m\n"
     ]
    }
   ],
   "source": [
    "print(bold_start,'train ROC-AUC:' ,bold_end)\n",
    "roc_auc(dt, features_train_oe, target_train)\n",
    "\n",
    "print(bold_start,'valid ROC-AUC:' ,bold_end )\n",
    "roc_auc(dt, features_valid_oe, target_valid)"
   ]
  },
  {
   "cell_type": "markdown",
   "metadata": {},
   "source": [
    "Также выведем общий репорт по точности, полноте и F1 мере."
   ]
  },
  {
   "cell_type": "markdown",
   "metadata": {},
   "source": [
    "**Вывод**       \n",
    "Дерево решений достаточно хорошо обучилось на поиск отрицательных ответов, но с положительными возникла проблема из за недостатка данных для обучения."
   ]
  },
  {
   "cell_type": "markdown",
   "metadata": {},
   "source": [
    "- ### RandomForestClassifier():"
   ]
  },
  {
   "cell_type": "code",
   "execution_count": 33,
   "metadata": {},
   "outputs": [],
   "source": [
    "param_grid_rf = {'max_depth': [deep for deep in range(2,11)],\n",
    "                 'n_estimators': [20, 50, 100],\n",
    "                 'random_state': [12345],\n",
    "                 'min_samples_leaf':[leaf for leaf in range(1,10,1)]\n",
    "                }\n",
    "gs_rf = GridSearchCV(RandomForestClassifier(), param_grid = param_grid_rf)"
   ]
  },
  {
   "cell_type": "code",
   "execution_count": 34,
   "metadata": {},
   "outputs": [
    {
     "name": "stdout",
     "output_type": "stream",
     "text": [
      "CPU times: user 5 µs, sys: 0 ns, total: 5 µs\n",
      "Wall time: 10.3 µs\n"
     ]
    }
   ],
   "source": [
    "gs_rf.fit(features_train_oe, target_train)\n",
    "%time"
   ]
  },
  {
   "cell_type": "code",
   "execution_count": 35,
   "metadata": {},
   "outputs": [
    {
     "data": {
      "text/plain": [
       "{'max_depth': 9,\n",
       " 'min_samples_leaf': 7,\n",
       " 'n_estimators': 20,\n",
       " 'random_state': 12345}"
      ]
     },
     "execution_count": 35,
     "metadata": {},
     "output_type": "execute_result"
    }
   ],
   "source": [
    "gs_rf.best_params_"
   ]
  },
  {
   "cell_type": "code",
   "execution_count": 36,
   "metadata": {},
   "outputs": [
    {
     "data": {
      "text/plain": [
       "RandomForestClassifier(bootstrap=True, class_weight=None, criterion='gini',\n",
       "                       max_depth=9, max_features='auto', max_leaf_nodes=None,\n",
       "                       min_impurity_decrease=0.0, min_impurity_split=None,\n",
       "                       min_samples_leaf=7, min_samples_split=2,\n",
       "                       min_weight_fraction_leaf=0.0, n_estimators=20,\n",
       "                       n_jobs=None, oob_score=False, random_state=12345,\n",
       "                       verbose=0, warm_start=False)"
      ]
     },
     "execution_count": 36,
     "metadata": {},
     "output_type": "execute_result"
    }
   ],
   "source": [
    "rf = RandomForestClassifier(max_depth=gs_rf.best_params_['max_depth'],\n",
    "                            min_samples_leaf=gs_rf.best_params_['min_samples_leaf'],\n",
    "                            n_estimators=gs_rf.best_params_['n_estimators'],\n",
    "                            random_state=12345)\n",
    "\n",
    "rf.fit(features_train_oe, target_train)"
   ]
  },
  {
   "cell_type": "code",
   "execution_count": 37,
   "metadata": {},
   "outputs": [
    {
     "name": "stdout",
     "output_type": "stream",
     "text": [
      "\u001b[1m train ROC-AUC: \u001b[0m\n"
     ]
    },
    {
     "data": {
      "image/png": "[encoded data removed]",
      "text/plain": [
       "<Figure size 432x288 with 1 Axes>"
      ]
     },
     "metadata": {},
     "output_type": "display_data"
    },
    {
     "name": "stdout",
     "output_type": "stream",
     "text": [
      "\u001b[35m auc_roc: 0.9121408827806724\n",
      "accurate F1: 0.5801217038539553 \u001b[0m\n",
      "\u001b[34m               precision    recall  f1-score   support\n",
      "\n",
      "           0       0.87      0.98      0.92      6370\n",
      "           1       0.86      0.44      0.58      1630\n",
      "\n",
      "    accuracy                           0.87      8000\n",
      "   macro avg       0.86      0.71      0.75      8000\n",
      "weighted avg       0.87      0.87      0.85      8000\n",
      " \u001b[0m\n",
      "\u001b[1m valid ROC-AUC: \u001b[0m\n"
     ]
    },
    {
     "data": {
      "image/png": "[encoded data removed]",
      "text/plain": [
       "<Figure size 432x288 with 1 Axes>"
      ]
     },
     "metadata": {},
     "output_type": "display_data"
    },
    {
     "name": "stdout",
     "output_type": "stream",
     "text": [
      "\u001b[35m auc_roc: 0.8692605182776627\n",
      "accurate F1: 0.528052805280528 \u001b[0m\n",
      "\u001b[34m               precision    recall  f1-score   support\n",
      "\n",
      "           0       0.86      0.98      0.92       796\n",
      "           1       0.81      0.39      0.53       204\n",
      "\n",
      "    accuracy                           0.86      1000\n",
      "   macro avg       0.84      0.68      0.72      1000\n",
      "weighted avg       0.85      0.86      0.84      1000\n",
      " \u001b[0m\n"
     ]
    }
   ],
   "source": [
    "print(bold_start,'train ROC-AUC:' ,bold_end)\n",
    "roc_auc(rf, features_train_oe, target_train)\n",
    "\n",
    "print(bold_start,'valid ROC-AUC:' ,bold_end )\n",
    "roc_auc(rf, features_valid_oe, target_valid)"
   ]
  },
  {
   "cell_type": "markdown",
   "metadata": {},
   "source": [
    "**Вывод:**    \n",
    "Ситуация аналогична предыдущему опыту, модель очень плохо определяет положительный класс."
   ]
  },
  {
   "cell_type": "markdown",
   "metadata": {},
   "source": [
    "- ### LogisticRegression():"
   ]
  },
  {
   "cell_type": "code",
   "execution_count": 38,
   "metadata": {},
   "outputs": [],
   "source": [
    "param_grid_logres = {'penalty': ['l1','l2'],\n",
    "                     'C': [0.5, 0.1],\n",
    "                     'max_iter': [deep for deep in range(2,100)],\n",
    "                     'random_state': [12345]}\n",
    "\n",
    "gs_logres = GridSearchCV(LogisticRegression(), param_grid = param_grid_logres)"
   ]
  },
  {
   "cell_type": "code",
   "execution_count": 39,
   "metadata": {},
   "outputs": [
    {
     "name": "stdout",
     "output_type": "stream",
     "text": [
      "CPU times: user 3 µs, sys: 1e+03 ns, total: 4 µs\n",
      "Wall time: 8.11 µs\n"
     ]
    }
   ],
   "source": [
    "gs_logres.fit(features_train_ohe, target_train)\n",
    "%time"
   ]
  },
  {
   "cell_type": "code",
   "execution_count": 40,
   "metadata": {},
   "outputs": [
    {
     "data": {
      "text/plain": [
       "{'C': 0.1, 'max_iter': 34, 'penalty': 'l1', 'random_state': 12345}"
      ]
     },
     "execution_count": 40,
     "metadata": {},
     "output_type": "execute_result"
    }
   ],
   "source": [
    "gs_logres.best_params_"
   ]
  },
  {
   "cell_type": "code",
   "execution_count": 41,
   "metadata": {},
   "outputs": [
    {
     "data": {
      "text/plain": [
       "LogisticRegression(C=0.1, class_weight=None, dual=False, fit_intercept=True,\n",
       "                   intercept_scaling=1, l1_ratio=None, max_iter=34,\n",
       "                   multi_class='warn', n_jobs=None, penalty='l1',\n",
       "                   random_state=12345, solver='warn', tol=0.0001, verbose=0,\n",
       "                   warm_start=False)"
      ]
     },
     "execution_count": 41,
     "metadata": {},
     "output_type": "execute_result"
    }
   ],
   "source": [
    "logres = LogisticRegression(C=gs_logres.best_params_['C'],\n",
    "                            penalty=gs_logres.best_params_['penalty'],\n",
    "                            max_iter = gs_logres.best_params_['max_iter'],\n",
    "                            random_state=12345)\n",
    "\n",
    "logres.fit(features_train_ohe, target_train)"
   ]
  },
  {
   "cell_type": "code",
   "execution_count": 42,
   "metadata": {},
   "outputs": [
    {
     "name": "stdout",
     "output_type": "stream",
     "text": [
      "\u001b[1m train ROC-AUC: \u001b[0m\n"
     ]
    },
    {
     "data": {
      "image/png": "[encoded data removed]",
      "text/plain": [
       "<Figure size 432x288 with 1 Axes>"
      ]
     },
     "metadata": {},
     "output_type": "display_data"
    },
    {
     "name": "stdout",
     "output_type": "stream",
     "text": [
      "\u001b[35m auc_roc: 0.762352572931013\n",
      "accurate F1: 0.3096118299445471 \u001b[0m\n",
      "\u001b[34m               precision    recall  f1-score   support\n",
      "\n",
      "           0       0.83      0.97      0.89      6370\n",
      "           1       0.63      0.21      0.31      1630\n",
      "\n",
      "    accuracy                           0.81      8000\n",
      "   macro avg       0.73      0.59      0.60      8000\n",
      "weighted avg       0.79      0.81      0.77      8000\n",
      " \u001b[0m\n",
      "\u001b[1m valid ROC-AUC: \u001b[0m\n"
     ]
    },
    {
     "data": {
      "image/png": "[encoded data removed]",
      "text/plain": [
       "<Figure size 432x288 with 1 Axes>"
      ]
     },
     "metadata": {},
     "output_type": "display_data"
    },
    {
     "name": "stdout",
     "output_type": "stream",
     "text": [
      "\u001b[35m auc_roc: 0.7777859887673663\n",
      "accurate F1: 0.29104477611940294 \u001b[0m\n",
      "\u001b[34m               precision    recall  f1-score   support\n",
      "\n",
      "           0       0.82      0.97      0.89       796\n",
      "           1       0.61      0.19      0.29       204\n",
      "\n",
      "    accuracy                           0.81      1000\n",
      "   macro avg       0.72      0.58      0.59      1000\n",
      "weighted avg       0.78      0.81      0.77      1000\n",
      " \u001b[0m\n"
     ]
    }
   ],
   "source": [
    "print(bold_start,'train ROC-AUC:' ,bold_end)\n",
    "roc_auc(logres, features_train_ohe, target_train)\n",
    "\n",
    "print(bold_start,'valid ROC-AUC:' ,bold_end )\n",
    "roc_auc(logres, features_valid_ohe, target_valid)"
   ]
  },
  {
   "cell_type": "markdown",
   "metadata": {},
   "source": [
    "**Вывод:**       \n",
    "Логистическая регрессия справилась с определением положительного класса ещё хуже."
   ]
  },
  {
   "cell_type": "markdown",
   "metadata": {},
   "source": [
    "модели плохо обучены для положительного класса (1)"
   ]
  },
  {
   "cell_type": "markdown",
   "metadata": {},
   "source": [
    "# 3. Борьба с дисбалансом"
   ]
  },
  {
   "cell_type": "code",
   "execution_count": 43,
   "metadata": {
    "scrolled": false
   },
   "outputs": [
    {
     "data": {
      "text/plain": [
       "<matplotlib.axes._subplots.AxesSubplot at 0x7f899e9be550>"
      ]
     },
     "execution_count": 43,
     "metadata": {},
     "output_type": "execute_result"
    },
    {
     "data": {
      "image/png": "[encoded data removed]",
      "text/plain": [
       "<Figure size 432x288 with 1 Axes>"
      ]
     },
     "metadata": {},
     "output_type": "display_data"
    }
   ],
   "source": [
    "data.Exited.hist()"
   ]
  },
  {
   "cell_type": "markdown",
   "metadata": {},
   "source": [
    "дисбаланс классов"
   ]
  },
  {
   "cell_type": "code",
   "execution_count": 44,
   "metadata": {},
   "outputs": [],
   "source": [
    "ex_0 = data.query('Exited == 0')\n",
    "ex_1 = data.query('Exited == 1')\n",
    "# display(ex_0.head(5))\n",
    "# display(ex_0.Exited.value_counts())\n",
    "# display(ex_1.head(5))\n",
    "# display(ex_1.Exited.value_counts())"
   ]
  },
  {
   "cell_type": "code",
   "execution_count": 45,
   "metadata": {},
   "outputs": [],
   "source": [
    "ex_0_index = target_train[target_train == 0].index\n",
    "ex_1_index = target_train[target_train != 0].index\n",
    "\n",
    "ex_0 = data.loc[ex_0_index]\n",
    "ex_1 = data.loc[ex_1_index]\n",
    "\n",
    "# display(ex_0.head(5))\n",
    "# display(ex_0.Exited.value_counts())\n",
    "\n",
    "# display(ex_1.head(5))\n",
    "# display(ex_1.Exited.value_counts())"
   ]
  },
  {
   "cell_type": "code",
   "execution_count": 46,
   "metadata": {},
   "outputs": [],
   "source": [
    "differece = ex_0.shape[0] - ex_1.shape[0]\n",
    "differece = int(differece)"
   ]
  },
  {
   "cell_type": "markdown",
   "metadata": {},
   "source": [
    "сгенерируем недостающие элементы и добавим в нашe обучающую выборку"
   ]
  },
  {
   "cell_type": "code",
   "execution_count": 47,
   "metadata": {},
   "outputs": [],
   "source": [
    "# DRY funcion for display shape, unique\n",
    "def fisplay_function(X, Y):\n",
    "    display(X.shape,\n",
    "            Y.shape,\n",
    "            np.unique(Y, return_counts=True))"
   ]
  },
  {
   "cell_type": "code",
   "execution_count": 48,
   "metadata": {},
   "outputs": [
    {
     "data": {
      "text/plain": [
       "(12740, 14)"
      ]
     },
     "metadata": {},
     "output_type": "display_data"
    },
    {
     "data": {
      "text/plain": [
       "(12740,)"
      ]
     },
     "metadata": {},
     "output_type": "display_data"
    },
    {
     "data": {
      "text/plain": [
       "(array([ 1., nan, nan, ..., nan, nan, nan]),\n",
       " array([4740,    1,    1, ...,    1,    1,    1]))"
      ]
     },
     "metadata": {},
     "output_type": "display_data"
    }
   ],
   "source": [
    "up_data = ex_1.sample(differece, replace=True)#.drop(['Exited'], axis=1)\n",
    "up_target_data = target_train.loc[up_data.index]\n",
    "\n",
    "features_upsampling_train = pd.concat([features_train, up_data])\n",
    "features_upsampling_train = shuffle(features_upsampling_train, random_state=12345)\n",
    "target_upsampling_train =features_upsampling_train['Exited'] \n",
    "#target_upsampling_train = np.hstack((target_train.values, up_target_data.values))\n",
    "\n",
    "#############\n",
    "# _display_ #\n",
    "#############\n",
    "fisplay_function(features_upsampling_train,\n",
    "                 target_upsampling_train)"
   ]
  },
  {
   "cell_type": "code",
   "execution_count": 49,
   "metadata": {},
   "outputs": [
    {
     "data": {
      "text/plain": [
       "(12740, 13)"
      ]
     },
     "metadata": {},
     "output_type": "display_data"
    },
    {
     "data": {
      "text/plain": [
       "(12740,)"
      ]
     },
     "metadata": {},
     "output_type": "display_data"
    },
    {
     "data": {
      "text/plain": [
       "(array([0, 1]), array([6370, 6370]))"
      ]
     },
     "metadata": {},
     "output_type": "display_data"
    }
   ],
   "source": [
    "up_data = ex_1.sample(differece, replace=True).drop(['Exited'], axis=1)\n",
    "up_target_data = target_train.loc[up_data.index]\n",
    "\n",
    "features_upsampling_train = pd.concat([features_train, up_data])\n",
    "target_upsampling_train = np.hstack((target_train.values, up_target_data.values))\n",
    "\n",
    "features_upsampling_train, target_upsampling_train = shuffle(features_upsampling_train, target_upsampling_train,\n",
    "                                                             random_state=12345)\n",
    "\n",
    "#############\n",
    "# _display_ #\n",
    "#############\n",
    "fisplay_function(features_upsampling_train,\n",
    "                 target_upsampling_train)"
   ]
  },
  {
   "cell_type": "markdown",
   "metadata": {},
   "source": [
    "---"
   ]
  },
  {
   "cell_type": "code",
   "execution_count": 50,
   "metadata": {},
   "outputs": [
    {
     "data": {
      "text/plain": [
       "(3260, 14)"
      ]
     },
     "metadata": {},
     "output_type": "display_data"
    },
    {
     "data": {
      "text/plain": [
       "(3260,)"
      ]
     },
     "metadata": {},
     "output_type": "display_data"
    },
    {
     "data": {
      "text/plain": [
       "(array([0, 1]), array([1630, 1630]))"
      ]
     },
     "metadata": {},
     "output_type": "display_data"
    }
   ],
   "source": [
    "down_data = ex_0.sample(ex_1.shape[0], replace=False) # мы генерируем 0 столько же сколько кол-во 1\n",
    "down_target_data =  target_train.loc[down_data.index] # достаем их по индексу из корневого списка\n",
    "\n",
    "features_downsampling_train = pd.concat([ex_1, down_data]) # добавили в список из 1\n",
    "target_downsampling_train = np.hstack((target_train[target_train !=0].values, down_target_data.values))\n",
    "\n",
    "features_downsampling_train, target_downsampling_train = shuffle(features_downsampling_train, target_downsampling_train,\n",
    "                                                                 random_state=12345)\n",
    "\n",
    "\n",
    "#############\n",
    "# _display_ #\n",
    "#############\n",
    "fisplay_function(features_downsampling_train,\n",
    "               target_downsampling_train)"
   ]
  },
  {
   "cell_type": "markdown",
   "metadata": {},
   "source": [
    "Повторно для удобста вразделяем списки для разных моделей\n"
   ]
  },
  {
   "cell_type": "code",
   "execution_count": 51,
   "metadata": {},
   "outputs": [],
   "source": [
    "features_downsampling_train = features_downsampling_train.drop(['Exited'], axis=1)"
   ]
  },
  {
   "cell_type": "code",
   "execution_count": 52,
   "metadata": {},
   "outputs": [],
   "source": [
    "features_upsampling_train_ohe = features_upsampling_train.drop(['Geography'], axis=1)\n",
    "features_upsampling_train_oe = features_upsampling_train.drop(['Spain','France','Germany'], axis=1)"
   ]
  },
  {
   "cell_type": "code",
   "execution_count": 53,
   "metadata": {},
   "outputs": [],
   "source": [
    "features_downsampling_train_ohe = features_downsampling_train.drop(['Geography'], axis=1)\n",
    "features_downsampling_train_oe = features_downsampling_train.drop(['Spain','France','Germany'], axis=1)"
   ]
  },
  {
   "cell_type": "markdown",
   "metadata": {},
   "source": [
    "# Обучим модель на сбалансированных данных:"
   ]
  },
  {
   "cell_type": "markdown",
   "metadata": {},
   "source": [
    "- ## LogisticRegression():"
   ]
  },
  {
   "cell_type": "markdown",
   "metadata": {},
   "source": [
    "### for upsampling"
   ]
  },
  {
   "cell_type": "code",
   "execution_count": 54,
   "metadata": {},
   "outputs": [],
   "source": [
    "param_grid_logres = {'penalty': ['l1','l2'],\n",
    "                     'C': [0.5, 0.1],\n",
    "                     'max_iter': [deep for deep in range(2,100)],\n",
    "                     'random_state': [12345],\n",
    "                     'class_weight': ['balanced']}\n",
    "\n",
    "gs_logres = GridSearchCV(LogisticRegression(), param_grid = param_grid_logres)"
   ]
  },
  {
   "cell_type": "code",
   "execution_count": 55,
   "metadata": {},
   "outputs": [
    {
     "name": "stdout",
     "output_type": "stream",
     "text": [
      "CPU times: user 4 µs, sys: 1 µs, total: 5 µs\n",
      "Wall time: 10.7 µs\n"
     ]
    }
   ],
   "source": [
    "gs_logres.fit(features_upsampling_train_ohe, target_upsampling_train)\n",
    "%time"
   ]
  },
  {
   "cell_type": "code",
   "execution_count": 56,
   "metadata": {},
   "outputs": [
    {
     "data": {
      "text/plain": [
       "{'C': 0.1,\n",
       " 'class_weight': 'balanced',\n",
       " 'max_iter': 18,\n",
       " 'penalty': 'l1',\n",
       " 'random_state': 12345}"
      ]
     },
     "execution_count": 56,
     "metadata": {},
     "output_type": "execute_result"
    }
   ],
   "source": [
    "gs_logres.best_params_"
   ]
  },
  {
   "cell_type": "code",
   "execution_count": 57,
   "metadata": {},
   "outputs": [
    {
     "data": {
      "text/plain": [
       "LogisticRegression(C=0.1, class_weight='balanced', dual=False,\n",
       "                   fit_intercept=True, intercept_scaling=1, l1_ratio=None,\n",
       "                   max_iter=18, multi_class='warn', n_jobs=None, penalty='l1',\n",
       "                   random_state=12345, solver='warn', tol=0.0001, verbose=0,\n",
       "                   warm_start=False)"
      ]
     },
     "execution_count": 57,
     "metadata": {},
     "output_type": "execute_result"
    }
   ],
   "source": [
    "logres = LogisticRegression(C=gs_logres.best_params_['C'],\n",
    "                            penalty=gs_logres.best_params_['penalty'],\n",
    "                            max_iter = gs_logres.best_params_['max_iter'],\n",
    "                            class_weight ='balanced',\n",
    "                            random_state=12345)\n",
    "\n",
    "logres.fit(features_upsampling_train_ohe, target_upsampling_train)"
   ]
  },
  {
   "cell_type": "code",
   "execution_count": 58,
   "metadata": {},
   "outputs": [
    {
     "name": "stdout",
     "output_type": "stream",
     "text": [
      "\u001b[1m train ROC-AUC: \u001b[0m\n"
     ]
    },
    {
     "data": {
      "image/png": "[encoded data removed]",
      "text/plain": [
       "<Figure size 432x288 with 1 Axes>"
      ]
     },
     "metadata": {},
     "output_type": "display_data"
    },
    {
     "name": "stdout",
     "output_type": "stream",
     "text": [
      "\u001b[35m auc_roc: 0.7669993272034088\n",
      "accurate F1: 0.6981386138613862 \u001b[0m\n",
      "\u001b[34m               precision    recall  f1-score   support\n",
      "\n",
      "           0       0.70      0.71      0.70      6370\n",
      "           1       0.70      0.69      0.70      6370\n",
      "\n",
      "    accuracy                           0.70     12740\n",
      "   macro avg       0.70      0.70      0.70     12740\n",
      "weighted avg       0.70      0.70      0.70     12740\n",
      " \u001b[0m\n",
      "\u001b[1m valid ROC-AUC: \u001b[0m\n"
     ]
    },
    {
     "data": {
      "image/png": "[encoded data removed]",
      "text/plain": [
       "<Figure size 432x288 with 1 Axes>"
      ]
     },
     "metadata": {},
     "output_type": "display_data"
    },
    {
     "name": "stdout",
     "output_type": "stream",
     "text": [
      "\u001b[35m auc_roc: 0.7848741255296087\n",
      "accurate F1: 0.5017064846416383 \u001b[0m\n",
      "\u001b[34m               precision    recall  f1-score   support\n",
      "\n",
      "           0       0.91      0.70      0.79       796\n",
      "           1       0.38      0.72      0.50       204\n",
      "\n",
      "    accuracy                           0.71      1000\n",
      "   macro avg       0.65      0.71      0.65      1000\n",
      "weighted avg       0.80      0.71      0.73      1000\n",
      " \u001b[0m\n"
     ]
    }
   ],
   "source": [
    "print(bold_start,'train ROC-AUC:' ,bold_end)\n",
    "roc_auc(logres, features_upsampling_train_ohe, target_upsampling_train)\n",
    "\n",
    "print(bold_start,'valid ROC-AUC:' ,bold_end )\n",
    "roc_auc(logres, features_valid_ohe, target_valid)"
   ]
  },
  {
   "cell_type": "markdown",
   "metadata": {},
   "source": [
    "#### for downsampling"
   ]
  },
  {
   "cell_type": "code",
   "execution_count": 59,
   "metadata": {},
   "outputs": [],
   "source": [
    "param_grid_logres = {'penalty': ['l1','l2'],\n",
    "                     'C': [0.5, 0.1],\n",
    "                     'max_iter': [deep for deep in range(2,100)],\n",
    "                     'random_state': [12345],\n",
    "                     'class_weight': ['balanced']}\n",
    "\n",
    "gs_logres = GridSearchCV(LogisticRegression(), param_grid = param_grid_logres)"
   ]
  },
  {
   "cell_type": "code",
   "execution_count": 60,
   "metadata": {},
   "outputs": [
    {
     "name": "stdout",
     "output_type": "stream",
     "text": [
      "CPU times: user 4 µs, sys: 1e+03 ns, total: 5 µs\n",
      "Wall time: 8.82 µs\n"
     ]
    }
   ],
   "source": [
    "gs_logres.fit(features_downsampling_train_ohe, target_downsampling_train)\n",
    "%time"
   ]
  },
  {
   "cell_type": "code",
   "execution_count": 61,
   "metadata": {},
   "outputs": [
    {
     "data": {
      "text/plain": [
       "{'C': 0.5,\n",
       " 'class_weight': 'balanced',\n",
       " 'max_iter': 19,\n",
       " 'penalty': 'l1',\n",
       " 'random_state': 12345}"
      ]
     },
     "execution_count": 61,
     "metadata": {},
     "output_type": "execute_result"
    }
   ],
   "source": [
    "gs_logres.best_params_"
   ]
  },
  {
   "cell_type": "code",
   "execution_count": 62,
   "metadata": {},
   "outputs": [
    {
     "data": {
      "text/plain": [
       "LogisticRegression(C=0.5, class_weight='balanced', dual=False,\n",
       "                   fit_intercept=True, intercept_scaling=1, l1_ratio=None,\n",
       "                   max_iter=19, multi_class='warn', n_jobs=None, penalty='l1',\n",
       "                   random_state=12345, solver='warn', tol=0.0001, verbose=0,\n",
       "                   warm_start=False)"
      ]
     },
     "execution_count": 62,
     "metadata": {},
     "output_type": "execute_result"
    }
   ],
   "source": [
    "logres = LogisticRegression(C=gs_logres.best_params_['C'],\n",
    "                            penalty=gs_logres.best_params_['penalty'],\n",
    "                            max_iter = gs_logres.best_params_['max_iter'],\n",
    "                            class_weight ='balanced',\n",
    "                            random_state=12345)\n",
    "\n",
    "logres.fit(features_downsampling_train_ohe, target_downsampling_train)"
   ]
  },
  {
   "cell_type": "code",
   "execution_count": 63,
   "metadata": {},
   "outputs": [
    {
     "name": "stdout",
     "output_type": "stream",
     "text": [
      "\u001b[1m train ROC-AUC: \u001b[0m\n"
     ]
    },
    {
     "data": {
      "image/png": "[encoded data removed]",
      "text/plain": [
       "<Figure size 432x288 with 1 Axes>"
      ]
     },
     "metadata": {},
     "output_type": "display_data"
    },
    {
     "name": "stdout",
     "output_type": "stream",
     "text": [
      "\u001b[35m auc_roc: 0.7714513154428092\n",
      "accurate F1: 0.6997840172786177 \u001b[0m\n",
      "\u001b[34m               precision    recall  f1-score   support\n",
      "\n",
      "           0       0.70      0.71      0.70      1630\n",
      "           1       0.70      0.70      0.70      1630\n",
      "\n",
      "    accuracy                           0.70      3260\n",
      "   macro avg       0.70      0.70      0.70      3260\n",
      "weighted avg       0.70      0.70      0.70      3260\n",
      " \u001b[0m\n",
      "\u001b[1m valid ROC-AUC: \u001b[0m\n"
     ]
    },
    {
     "data": {
      "image/png": "[encoded data removed]",
      "text/plain": [
       "<Figure size 432x288 with 1 Axes>"
      ]
     },
     "metadata": {},
     "output_type": "display_data"
    },
    {
     "name": "stdout",
     "output_type": "stream",
     "text": [
      "\u001b[35m auc_roc: 0.7839195979899497\n",
      "accurate F1: 0.494077834179357 \u001b[0m\n",
      "\u001b[34m               precision    recall  f1-score   support\n",
      "\n",
      "           0       0.91      0.70      0.79       796\n",
      "           1       0.38      0.72      0.49       204\n",
      "\n",
      "    accuracy                           0.70      1000\n",
      "   macro avg       0.64      0.71      0.64      1000\n",
      "weighted avg       0.80      0.70      0.73      1000\n",
      " \u001b[0m\n"
     ]
    }
   ],
   "source": [
    "print(bold_start,'train ROC-AUC:' ,bold_end)\n",
    "roc_auc(logres, features_downsampling_train_ohe, target_downsampling_train)\n",
    "\n",
    "print(bold_start,'valid ROC-AUC:' ,bold_end )\n",
    "roc_auc(logres, features_valid_ohe, target_valid)"
   ]
  },
  {
   "cell_type": "markdown",
   "metadata": {},
   "source": [
    "- # RandomForestClassifier():"
   ]
  },
  {
   "cell_type": "markdown",
   "metadata": {},
   "source": [
    "##  for upsampling"
   ]
  },
  {
   "cell_type": "code",
   "execution_count": 64,
   "metadata": {},
   "outputs": [],
   "source": [
    "param_grid_rf = {'max_depth': [deep for deep in range(2,11)],\n",
    "                 'n_estimators': [20, 50, 100],\n",
    "                 'random_state': [12345],\n",
    "                 'min_samples_leaf':[leaf for leaf in range(1,10,1)],\n",
    "                 'class_weight': ['balanced']\n",
    "                }\n",
    "gs_rf = GridSearchCV(RandomForestClassifier(), param_grid = param_grid_rf)"
   ]
  },
  {
   "cell_type": "code",
   "execution_count": 65,
   "metadata": {},
   "outputs": [
    {
     "name": "stdout",
     "output_type": "stream",
     "text": [
      "CPU times: user 16 µs, sys: 4 µs, total: 20 µs\n",
      "Wall time: 24.1 µs\n"
     ]
    }
   ],
   "source": [
    "gs_rf.fit(features_upsampling_train_oe, target_upsampling_train)\n",
    "%time"
   ]
  },
  {
   "cell_type": "code",
   "execution_count": 66,
   "metadata": {},
   "outputs": [
    {
     "data": {
      "text/plain": [
       "{'class_weight': 'balanced',\n",
       " 'max_depth': 10,\n",
       " 'min_samples_leaf': 1,\n",
       " 'n_estimators': 100,\n",
       " 'random_state': 12345}"
      ]
     },
     "execution_count": 66,
     "metadata": {},
     "output_type": "execute_result"
    }
   ],
   "source": [
    "gs_rf.best_params_"
   ]
  },
  {
   "cell_type": "code",
   "execution_count": 67,
   "metadata": {},
   "outputs": [
    {
     "data": {
      "text/plain": [
       "RandomForestClassifier(bootstrap=True, class_weight='balanced',\n",
       "                       criterion='gini', max_depth=10, max_features='auto',\n",
       "                       max_leaf_nodes=None, min_impurity_decrease=0.0,\n",
       "                       min_impurity_split=None, min_samples_leaf=1,\n",
       "                       min_samples_split=2, min_weight_fraction_leaf=0.0,\n",
       "                       n_estimators=100, n_jobs=None, oob_score=False,\n",
       "                       random_state=12345, verbose=0, warm_start=False)"
      ]
     },
     "execution_count": 67,
     "metadata": {},
     "output_type": "execute_result"
    }
   ],
   "source": [
    "rf = RandomForestClassifier(max_depth=gs_rf.best_params_['max_depth'],\n",
    "                            min_samples_leaf=gs_rf.best_params_['min_samples_leaf'],\n",
    "                            n_estimators=gs_rf.best_params_['n_estimators'],\n",
    "                            class_weight ='balanced',\n",
    "                            random_state=12345)\n",
    "\n",
    "rf.fit(features_upsampling_train_oe, target_upsampling_train)"
   ]
  },
  {
   "cell_type": "code",
   "execution_count": 68,
   "metadata": {},
   "outputs": [
    {
     "name": "stdout",
     "output_type": "stream",
     "text": [
      "\u001b[1m train ROC-AUC: \u001b[0m\n"
     ]
    },
    {
     "data": {
      "image/png": "[encoded data removed]",
      "text/plain": [
       "<Figure size 432x288 with 1 Axes>"
      ]
     },
     "metadata": {},
     "output_type": "display_data"
    },
    {
     "name": "stdout",
     "output_type": "stream",
     "text": [
      "\u001b[35m auc_roc: 0.9707813805391737\n",
      "accurate F1: 0.9037071944706252 \u001b[0m\n",
      "\u001b[34m               precision    recall  f1-score   support\n",
      "\n",
      "           0       0.90      0.90      0.90      6370\n",
      "           1       0.90      0.90      0.90      6370\n",
      "\n",
      "    accuracy                           0.90     12740\n",
      "   macro avg       0.90      0.90      0.90     12740\n",
      "weighted avg       0.90      0.90      0.90     12740\n",
      " \u001b[0m\n",
      "\u001b[1m valid ROC-AUC: \u001b[0m\n"
     ]
    },
    {
     "data": {
      "image/png": "[encoded data removed]",
      "text/plain": [
       "<Figure size 432x288 with 1 Axes>"
      ]
     },
     "metadata": {},
     "output_type": "display_data"
    },
    {
     "name": "stdout",
     "output_type": "stream",
     "text": [
      "\u001b[35m auc_roc: 0.8722718987092325\n",
      "accurate F1: 0.6507592190889371 \u001b[0m\n",
      "\u001b[34m               precision    recall  f1-score   support\n",
      "\n",
      "           0       0.93      0.87      0.90       796\n",
      "           1       0.58      0.74      0.65       204\n",
      "\n",
      "    accuracy                           0.84      1000\n",
      "   macro avg       0.76      0.80      0.77      1000\n",
      "weighted avg       0.86      0.84      0.85      1000\n",
      " \u001b[0m\n"
     ]
    }
   ],
   "source": [
    "print(bold_start,'train ROC-AUC:' ,bold_end)\n",
    "roc_auc(rf, features_upsampling_train_oe, target_upsampling_train)\n",
    "\n",
    "print(bold_start,'valid ROC-AUC:' ,bold_end )\n",
    "roc_auc(rf, features_valid_oe, target_valid)"
   ]
  },
  {
   "cell_type": "markdown",
   "metadata": {},
   "source": [
    "### Эта модель пока самая лучшая, запишем ее данные чтобы потом проверить "
   ]
  },
  {
   "cell_type": "code",
   "execution_count": 69,
   "metadata": {},
   "outputs": [],
   "source": [
    "bestP = gs_rf.best_params_"
   ]
  },
  {
   "cell_type": "code",
   "execution_count": 70,
   "metadata": {},
   "outputs": [],
   "source": [
    "best_model =  RandomForestClassifier(max_depth=gs_rf.best_params_['max_depth'],\n",
    "                                     min_samples_leaf=gs_rf.best_params_['min_samples_leaf'],\n",
    "                                     n_estimators=gs_rf.best_params_['n_estimators'],\n",
    "                                     class_weight ='balanced',\n",
    "                                     random_state=12345)"
   ]
  },
  {
   "cell_type": "markdown",
   "metadata": {},
   "source": [
    "## for downsampling"
   ]
  },
  {
   "cell_type": "code",
   "execution_count": 71,
   "metadata": {},
   "outputs": [],
   "source": [
    "param_grid_rf = {'max_depth': [deep for deep in range(2,11)],\n",
    "                 'n_estimators': [20, 50, 100],\n",
    "                 'random_state': [12345],\n",
    "                 'min_samples_leaf':[leaf for leaf in range(1,10,1)],\n",
    "                 'class_weight': ['balanced']\n",
    "                }\n",
    "gs_rf = GridSearchCV(RandomForestClassifier(), param_grid = param_grid_rf)"
   ]
  },
  {
   "cell_type": "code",
   "execution_count": 72,
   "metadata": {},
   "outputs": [
    {
     "name": "stdout",
     "output_type": "stream",
     "text": [
      "CPU times: user 4 µs, sys: 0 ns, total: 4 µs\n",
      "Wall time: 9.54 µs\n"
     ]
    }
   ],
   "source": [
    "gs_rf.fit(features_downsampling_train_oe, target_downsampling_train)\n",
    "%time"
   ]
  },
  {
   "cell_type": "code",
   "execution_count": 73,
   "metadata": {},
   "outputs": [
    {
     "data": {
      "text/plain": [
       "{'class_weight': 'balanced',\n",
       " 'max_depth': 9,\n",
       " 'min_samples_leaf': 2,\n",
       " 'n_estimators': 100,\n",
       " 'random_state': 12345}"
      ]
     },
     "execution_count": 73,
     "metadata": {},
     "output_type": "execute_result"
    }
   ],
   "source": [
    "gs_rf.best_params_"
   ]
  },
  {
   "cell_type": "code",
   "execution_count": 74,
   "metadata": {},
   "outputs": [],
   "source": [
    "rf = RandomForestClassifier(max_depth=gs_rf.best_params_['max_depth'],\n",
    "                            min_samples_leaf=gs_rf.best_params_['min_samples_leaf'],\n",
    "                            n_estimators=gs_rf.best_params_['n_estimators'],\n",
    "                            class_weight ='balanced',\n",
    "                            random_state=12345)\n",
    "\n",
    "rf.fit(features_downsampling_train_oe, target_downsampling_train)\n",
    "\n",
    "predictions_rf_train = rf.predict(features_downsampling_train_oe)\n",
    "predictions_rf_valid = rf.predict(features_valid_oe)"
   ]
  },
  {
   "cell_type": "code",
   "execution_count": 75,
   "metadata": {},
   "outputs": [
    {
     "name": "stdout",
     "output_type": "stream",
     "text": [
      "\u001b[1m train ROC-AUC: \u001b[0m\n"
     ]
    },
    {
     "data": {
      "image/png": "[encoded data removed]",
      "text/plain": [
       "<Figure size 432x288 with 1 Axes>"
      ]
     },
     "metadata": {},
     "output_type": "display_data"
    },
    {
     "name": "stdout",
     "output_type": "stream",
     "text": [
      "\u001b[35m auc_roc: 0.9553103240618765\n",
      "accurate F1: 0.869757174392936 \u001b[0m\n",
      "\u001b[34m               precision    recall  f1-score   support\n",
      "\n",
      "           0       0.85      0.90      0.88      1630\n",
      "           1       0.89      0.85      0.87      1630\n",
      "\n",
      "    accuracy                           0.87      3260\n",
      "   macro avg       0.87      0.87      0.87      3260\n",
      "weighted avg       0.87      0.87      0.87      3260\n",
      " \u001b[0m\n",
      "\u001b[1m valid ROC-AUC: \u001b[0m\n"
     ]
    },
    {
     "data": {
      "image/png": "[encoded data removed]",
      "text/plain": [
       "<Figure size 432x288 with 1 Axes>"
      ]
     },
     "metadata": {},
     "output_type": "display_data"
    },
    {
     "name": "stdout",
     "output_type": "stream",
     "text": [
      "\u001b[35m auc_roc: 0.8665201005025125\n",
      "accurate F1: 0.6088631984585743 \u001b[0m\n",
      "\u001b[34m               precision    recall  f1-score   support\n",
      "\n",
      "           0       0.93      0.80      0.86       796\n",
      "           1       0.50      0.77      0.61       204\n",
      "\n",
      "    accuracy                           0.80      1000\n",
      "   macro avg       0.72      0.79      0.74      1000\n",
      "weighted avg       0.84      0.80      0.81      1000\n",
      " \u001b[0m\n"
     ]
    }
   ],
   "source": [
    "print(bold_start,'train ROC-AUC:' ,bold_end)\n",
    "roc_auc(rf, features_downsampling_train_oe, target_downsampling_train)\n",
    "\n",
    "print(bold_start,'valid ROC-AUC:' ,bold_end )\n",
    "roc_auc(rf, features_valid_oe, target_valid)"
   ]
  },
  {
   "cell_type": "markdown",
   "metadata": {},
   "source": [
    "---"
   ]
  },
  {
   "cell_type": "markdown",
   "metadata": {},
   "source": [
    "* ### DecisionTreeClassifier():"
   ]
  },
  {
   "cell_type": "markdown",
   "metadata": {},
   "source": [
    "капипаст - зло ("
   ]
  },
  {
   "cell_type": "markdown",
   "metadata": {},
   "source": [
    "#### for upsampling"
   ]
  },
  {
   "cell_type": "code",
   "execution_count": 76,
   "metadata": {},
   "outputs": [],
   "source": [
    "param_grid_dt = {'max_depth':[depth for depth in range(1,15)],\n",
    "                 'min_samples_split':[split for split in range(2,10,1)],\n",
    "                 'min_samples_leaf':[leaf for leaf in range(1,10,1)],\n",
    "                 'random_state': [12345],\n",
    "                 'class_weight': ['balanced']\n",
    "                }\n",
    "gs_dt = GridSearchCV(DecisionTreeClassifier(), param_grid = param_grid_dt)"
   ]
  },
  {
   "cell_type": "code",
   "execution_count": 77,
   "metadata": {},
   "outputs": [
    {
     "name": "stdout",
     "output_type": "stream",
     "text": [
      "CPU times: user 4 µs, sys: 1e+03 ns, total: 5 µs\n",
      "Wall time: 8.82 µs\n"
     ]
    }
   ],
   "source": [
    "gs_dt.fit(features_upsampling_train_oe, target_upsampling_train)\n",
    "%time"
   ]
  },
  {
   "cell_type": "code",
   "execution_count": 78,
   "metadata": {},
   "outputs": [
    {
     "data": {
      "text/plain": [
       "{'class_weight': 'balanced',\n",
       " 'max_depth': 14,\n",
       " 'min_samples_leaf': 1,\n",
       " 'min_samples_split': 2,\n",
       " 'random_state': 12345}"
      ]
     },
     "execution_count": 78,
     "metadata": {},
     "output_type": "execute_result"
    }
   ],
   "source": [
    "gs_dt.best_params_"
   ]
  },
  {
   "cell_type": "code",
   "execution_count": 79,
   "metadata": {},
   "outputs": [
    {
     "data": {
      "text/plain": [
       "DecisionTreeClassifier(class_weight='balanced', criterion='gini', max_depth=14,\n",
       "                       max_features=None, max_leaf_nodes=None,\n",
       "                       min_impurity_decrease=0.0, min_impurity_split=None,\n",
       "                       min_samples_leaf=1, min_samples_split=2,\n",
       "                       min_weight_fraction_leaf=0.0, presort=False,\n",
       "                       random_state=12345, splitter='best')"
      ]
     },
     "execution_count": 79,
     "metadata": {},
     "output_type": "execute_result"
    }
   ],
   "source": [
    "dt = DecisionTreeClassifier(max_depth =gs_dt.best_params_['max_depth'], \n",
    "                            min_samples_leaf =gs_dt.best_params_['min_samples_leaf'],\n",
    "                            min_samples_split = gs_dt.best_params_['min_samples_split'],\n",
    "                            class_weight ='balanced',\n",
    "                            random_state=12345)\n",
    "dt.fit(features_upsampling_train_oe, target_upsampling_train)"
   ]
  },
  {
   "cell_type": "code",
   "execution_count": 80,
   "metadata": {},
   "outputs": [
    {
     "name": "stdout",
     "output_type": "stream",
     "text": [
      "\u001b[1m train ROC-AUC: \u001b[0m\n"
     ]
    },
    {
     "data": {
      "image/png": "[encoded data removed]",
      "text/plain": [
       "<Figure size 432x288 with 1 Axes>"
      ]
     },
     "metadata": {},
     "output_type": "display_data"
    },
    {
     "name": "stdout",
     "output_type": "stream",
     "text": [
      "\u001b[35m auc_roc: 0.9921461718366854\n",
      "accurate F1: 0.9597008090367882 \u001b[0m\n",
      "\u001b[34m               precision    recall  f1-score   support\n",
      "\n",
      "           0       0.99      0.93      0.96      6370\n",
      "           1       0.93      0.99      0.96      6370\n",
      "\n",
      "    accuracy                           0.96     12740\n",
      "   macro avg       0.96      0.96      0.96     12740\n",
      "weighted avg       0.96      0.96      0.96     12740\n",
      " \u001b[0m\n",
      "\u001b[1m valid ROC-AUC: \u001b[0m\n"
     ]
    },
    {
     "data": {
      "image/png": "[encoded data removed]",
      "text/plain": [
       "<Figure size 432x288 with 1 Axes>"
      ]
     },
     "metadata": {},
     "output_type": "display_data"
    },
    {
     "name": "stdout",
     "output_type": "stream",
     "text": [
      "\u001b[35m auc_roc: 0.7323258449108286\n",
      "accurate F1: 0.5327510917030568 \u001b[0m\n",
      "\u001b[34m               precision    recall  f1-score   support\n",
      "\n",
      "           0       0.89      0.83      0.86       796\n",
      "           1       0.48      0.60      0.53       204\n",
      "\n",
      "    accuracy                           0.79      1000\n",
      "   macro avg       0.69      0.72      0.70      1000\n",
      "weighted avg       0.81      0.79      0.79      1000\n",
      " \u001b[0m\n"
     ]
    }
   ],
   "source": [
    "print(bold_start,'train ROC-AUC:' ,bold_end)\n",
    "roc_auc(dt, features_upsampling_train_oe, target_upsampling_train)\n",
    "\n",
    "print(bold_start,'valid ROC-AUC:' ,bold_end )\n",
    "roc_auc(dt, features_valid_oe, target_valid)"
   ]
  },
  {
   "cell_type": "markdown",
   "metadata": {},
   "source": [
    "#### for downsampling"
   ]
  },
  {
   "cell_type": "code",
   "execution_count": 81,
   "metadata": {},
   "outputs": [],
   "source": [
    "param_grid_dt = {'max_depth':[depth for depth in range(1,15)],\n",
    "                 'min_samples_split':[split for split in range(2,10,1)],\n",
    "                 'min_samples_leaf':[leaf for leaf in range(1,10,1)],\n",
    "                 'random_state': [12345],\n",
    "                 'class_weight': ['balanced']\n",
    "                }\n",
    "gs_dt = GridSearchCV(DecisionTreeClassifier(), param_grid = param_grid_dt)"
   ]
  },
  {
   "cell_type": "code",
   "execution_count": 82,
   "metadata": {},
   "outputs": [
    {
     "name": "stdout",
     "output_type": "stream",
     "text": [
      "CPU times: user 3 µs, sys: 1e+03 ns, total: 4 µs\n",
      "Wall time: 8.34 µs\n"
     ]
    }
   ],
   "source": [
    "gs_dt.fit(features_downsampling_train_oe, target_downsampling_train)\n",
    "%time"
   ]
  },
  {
   "cell_type": "code",
   "execution_count": 83,
   "metadata": {},
   "outputs": [
    {
     "data": {
      "text/plain": [
       "DecisionTreeClassifier(class_weight='balanced', criterion='gini', max_depth=5,\n",
       "                       max_features=None, max_leaf_nodes=None,\n",
       "                       min_impurity_decrease=0.0, min_impurity_split=None,\n",
       "                       min_samples_leaf=1, min_samples_split=6,\n",
       "                       min_weight_fraction_leaf=0.0, presort=False,\n",
       "                       random_state=12345, splitter='best')"
      ]
     },
     "execution_count": 83,
     "metadata": {},
     "output_type": "execute_result"
    }
   ],
   "source": [
    "dt = DecisionTreeClassifier(max_depth =gs_dt.best_params_['max_depth'], \n",
    "                            min_samples_leaf =gs_dt.best_params_['min_samples_leaf'],\n",
    "                            min_samples_split = gs_dt.best_params_['min_samples_split'],\n",
    "                            class_weight ='balanced',\n",
    "                            random_state=12345)\n",
    "dt.fit(features_downsampling_train_oe, target_downsampling_train)"
   ]
  },
  {
   "cell_type": "code",
   "execution_count": 84,
   "metadata": {},
   "outputs": [
    {
     "name": "stdout",
     "output_type": "stream",
     "text": [
      "\u001b[1m train ROC-AUC: \u001b[0m\n"
     ]
    },
    {
     "data": {
      "image/png": "[encoded data removed]",
      "text/plain": [
       "<Figure size 432x288 with 1 Axes>"
      ]
     },
     "metadata": {},
     "output_type": "display_data"
    },
    {
     "name": "stdout",
     "output_type": "stream",
     "text": [
      "\u001b[35m auc_roc: 0.85186439083142\n",
      "accurate F1: 0.7637276435519298 \u001b[0m\n",
      "\u001b[34m               precision    recall  f1-score   support\n",
      "\n",
      "           0       0.76      0.79      0.77      1630\n",
      "           1       0.78      0.75      0.76      1630\n",
      "\n",
      "    accuracy                           0.77      3260\n",
      "   macro avg       0.77      0.77      0.77      3260\n",
      "weighted avg       0.77      0.77      0.77      3260\n",
      " \u001b[0m\n",
      "\u001b[1m valid ROC-AUC: \u001b[0m\n"
     ]
    },
    {
     "data": {
      "image/png": "[encoded data removed]",
      "text/plain": [
       "<Figure size 432x288 with 1 Axes>"
      ]
     },
     "metadata": {},
     "output_type": "display_data"
    },
    {
     "name": "stdout",
     "output_type": "stream",
     "text": [
      "\u001b[35m auc_roc: 0.8463333825992707\n",
      "accurate F1: 0.5759717314487633 \u001b[0m\n",
      "\u001b[34m               precision    recall  f1-score   support\n",
      "\n",
      "           0       0.94      0.75      0.83       796\n",
      "           1       0.45      0.80      0.58       204\n",
      "\n",
      "    accuracy                           0.76      1000\n",
      "   macro avg       0.69      0.77      0.70      1000\n",
      "weighted avg       0.84      0.76      0.78      1000\n",
      " \u001b[0m\n"
     ]
    }
   ],
   "source": [
    "print(bold_start,'train ROC-AUC:' ,bold_end)\n",
    "roc_auc(dt, features_downsampling_train_oe, target_downsampling_train)\n",
    "\n",
    "print(bold_start,'valid ROC-AUC:' ,bold_end )\n",
    "roc_auc(dt, features_valid_oe, target_valid)"
   ]
  },
  {
   "cell_type": "markdown",
   "metadata": {},
   "source": [
    "# 4. Тестирование модели"
   ]
  },
  {
   "cell_type": "code",
   "execution_count": 85,
   "metadata": {},
   "outputs": [
    {
     "data": {
      "text/plain": [
       "0    796\n",
       "1    204\n",
       "Name: Exited, dtype: int64"
      ]
     },
     "execution_count": 85,
     "metadata": {},
     "output_type": "execute_result"
    }
   ],
   "source": [
    "target_valid.value_counts()"
   ]
  },
  {
   "cell_type": "code",
   "execution_count": 86,
   "metadata": {},
   "outputs": [
    {
     "name": "stdout",
     "output_type": "stream",
     "text": [
      "0.6187050359712231\n"
     ]
    }
   ],
   "source": [
    "best_model.fit(features_train_oe, target_train)\n",
    "prediction =  best_model.predict(features_test_oe)\n",
    "\n",
    "score_best_model = best_model.score(features_test_oe, target_test)\n",
    "\n",
    "print(f1_score(target_test, prediction))"
   ]
  },
  {
   "cell_type": "markdown",
   "metadata": {},
   "source": [
    "Наконец то, добились нужного результата!"
   ]
  },
  {
   "cell_type": "markdown",
   "metadata": {},
   "source": [
    "# Общий вывод:\n",
    "\n",
    "- По результатам предсказаний самой лучшей модели *20,4%* клиентов тестовой выборки откажутся от услуг банка.\n",
    "- **F1-мера** — среднее гармоническое precision и recall: получившее значение *0.6187*, говорит о плохом соотношении классов, что влияет на предсказания модели. Метод повторной дискретизации позволил увеличить значение F1-меры, но для получения лучших результатов предсказаний необходимо пополнить базу оттока клиентов."
   ]
  }
 ],
 "metadata": {
  "kernelspec": {
   "display_name": "Python 3",
   "language": "python",
   "name": "python3"
  },
  "language_info": {
   "codemirror_mode": {
    "name": "ipython",
    "version": 3
   },
   "file_extension": ".py",
   "mimetype": "text/x-python",
   "name": "python",
   "nbconvert_exporter": "python",
   "pygments_lexer": "ipython3",
   "version": "3.7.6"
  }
 },
 "nbformat": 4,
 "nbformat_minor": 2
}
