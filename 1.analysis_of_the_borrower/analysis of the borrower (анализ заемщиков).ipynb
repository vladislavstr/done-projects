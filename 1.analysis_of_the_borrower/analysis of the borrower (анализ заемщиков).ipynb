{
 "cells": [
  {
   "cell_type": "markdown",
   "metadata": {},
   "source": [
    "## Исследование надёжности заёмщиков\n",
    "\n",
    "Нужно разобраться, влияет ли семейное положение и количество детей клиента на факт погашения кредита в срок."
   ]
  },
  {
   "cell_type": "markdown",
   "metadata": {},
   "source": [
    "## Описание данных\n",
    "\n",
    "- children — количество детей в семье\n",
    "- days_employed — общий трудовой стаж в днях\n",
    "- dob_years — возраст клиента в годах\n",
    "- education — уровень образования клиента\n",
    "- education_id — идентификатор уровня образования\n",
    "- family_status — семейное положение\n",
    "- family_status_id — идентификатор семейного положения\n",
    "- gender — пол клиента\n",
    "- income_type — тип занятости\n",
    "- debt — имел ли задолженность по возврату кредитов\n",
    "- total_income — ежемесячный доход\n",
    "- purpose — цель получения кредита"
   ]
  },
  {
   "cell_type": "markdown",
   "metadata": {},
   "source": [
    "### Шаг 1. Откройте файл с данными и изучите общую информацию. "
   ]
  },
  {
   "cell_type": "markdown",
   "metadata": {},
   "source": [
    "<font color='gray'>#Свои комментарии буду оставлять серым цветом "
   ]
  },
  {
   "cell_type": "code",
   "execution_count": 1,
   "metadata": {
    "scrolled": true
   },
   "outputs": [],
   "source": [
    "import pandas as pd\n",
    "\n",
    "df = pd.read_csv('data.csv')"
   ]
  },
  {
   "cell_type": "markdown",
   "metadata": {},
   "source": [
    "<font color='gray'>#Проверим названия столбцов для корректной работы с ними"
   ]
  },
  {
   "cell_type": "code",
   "execution_count": 2,
   "metadata": {},
   "outputs": [
    {
     "data": {
      "text/plain": [
       "Index(['children', 'days_employed', 'dob_years', 'education', 'education_id',\n",
       "       'family_status', 'family_status_id', 'gender', 'income_type', 'debt',\n",
       "       'total_income', 'purpose'],\n",
       "      dtype='object')"
      ]
     },
     "execution_count": 2,
     "metadata": {},
     "output_type": "execute_result"
    }
   ],
   "source": [
    "df.columns"
   ]
  },
  {
   "cell_type": "code",
   "execution_count": 3,
   "metadata": {},
   "outputs": [
    {
     "data": {
      "text/html": [
       "<div>\n",
       "<style scoped>\n",
       "    .dataframe tbody tr th:only-of-type {\n",
       "        vertical-align: middle;\n",
       "    }\n",
       "\n",
       "    .dataframe tbody tr th {\n",
       "        vertical-align: top;\n",
       "    }\n",
       "\n",
       "    .dataframe thead th {\n",
       "        text-align: right;\n",
       "    }\n",
       "</style>\n",
       "<table border=\"1\" class=\"dataframe\">\n",
       "  <thead>\n",
       "    <tr style=\"text-align: right;\">\n",
       "      <th></th>\n",
       "      <th>children</th>\n",
       "      <th>days_employed</th>\n",
       "      <th>dob_years</th>\n",
       "      <th>education</th>\n",
       "      <th>education_id</th>\n",
       "      <th>family_status</th>\n",
       "      <th>family_status_id</th>\n",
       "      <th>gender</th>\n",
       "      <th>income_type</th>\n",
       "      <th>debt</th>\n",
       "      <th>total_income</th>\n",
       "      <th>purpose</th>\n",
       "    </tr>\n",
       "  </thead>\n",
       "  <tbody>\n",
       "    <tr>\n",
       "      <th>12</th>\n",
       "      <td>0</td>\n",
       "      <td>NaN</td>\n",
       "      <td>65</td>\n",
       "      <td>среднее</td>\n",
       "      <td>1</td>\n",
       "      <td>гражданский брак</td>\n",
       "      <td>1</td>\n",
       "      <td>M</td>\n",
       "      <td>пенсионер</td>\n",
       "      <td>0</td>\n",
       "      <td>NaN</td>\n",
       "      <td>сыграть свадьбу</td>\n",
       "    </tr>\n",
       "    <tr>\n",
       "      <th>26</th>\n",
       "      <td>0</td>\n",
       "      <td>NaN</td>\n",
       "      <td>41</td>\n",
       "      <td>среднее</td>\n",
       "      <td>1</td>\n",
       "      <td>женат / замужем</td>\n",
       "      <td>0</td>\n",
       "      <td>M</td>\n",
       "      <td>госслужащий</td>\n",
       "      <td>0</td>\n",
       "      <td>NaN</td>\n",
       "      <td>образование</td>\n",
       "    </tr>\n",
       "    <tr>\n",
       "      <th>29</th>\n",
       "      <td>0</td>\n",
       "      <td>NaN</td>\n",
       "      <td>63</td>\n",
       "      <td>среднее</td>\n",
       "      <td>1</td>\n",
       "      <td>Не женат / не замужем</td>\n",
       "      <td>4</td>\n",
       "      <td>F</td>\n",
       "      <td>пенсионер</td>\n",
       "      <td>0</td>\n",
       "      <td>NaN</td>\n",
       "      <td>строительство жилой недвижимости</td>\n",
       "    </tr>\n",
       "    <tr>\n",
       "      <th>41</th>\n",
       "      <td>0</td>\n",
       "      <td>NaN</td>\n",
       "      <td>50</td>\n",
       "      <td>среднее</td>\n",
       "      <td>1</td>\n",
       "      <td>женат / замужем</td>\n",
       "      <td>0</td>\n",
       "      <td>F</td>\n",
       "      <td>госслужащий</td>\n",
       "      <td>0</td>\n",
       "      <td>NaN</td>\n",
       "      <td>сделка с подержанным автомобилем</td>\n",
       "    </tr>\n",
       "    <tr>\n",
       "      <th>55</th>\n",
       "      <td>0</td>\n",
       "      <td>NaN</td>\n",
       "      <td>54</td>\n",
       "      <td>среднее</td>\n",
       "      <td>1</td>\n",
       "      <td>гражданский брак</td>\n",
       "      <td>1</td>\n",
       "      <td>F</td>\n",
       "      <td>пенсионер</td>\n",
       "      <td>1</td>\n",
       "      <td>NaN</td>\n",
       "      <td>сыграть свадьбу</td>\n",
       "    </tr>\n",
       "    <tr>\n",
       "      <th>...</th>\n",
       "      <td>...</td>\n",
       "      <td>...</td>\n",
       "      <td>...</td>\n",
       "      <td>...</td>\n",
       "      <td>...</td>\n",
       "      <td>...</td>\n",
       "      <td>...</td>\n",
       "      <td>...</td>\n",
       "      <td>...</td>\n",
       "      <td>...</td>\n",
       "      <td>...</td>\n",
       "      <td>...</td>\n",
       "    </tr>\n",
       "    <tr>\n",
       "      <th>21489</th>\n",
       "      <td>2</td>\n",
       "      <td>NaN</td>\n",
       "      <td>47</td>\n",
       "      <td>Среднее</td>\n",
       "      <td>1</td>\n",
       "      <td>женат / замужем</td>\n",
       "      <td>0</td>\n",
       "      <td>M</td>\n",
       "      <td>компаньон</td>\n",
       "      <td>0</td>\n",
       "      <td>NaN</td>\n",
       "      <td>сделка с автомобилем</td>\n",
       "    </tr>\n",
       "    <tr>\n",
       "      <th>21495</th>\n",
       "      <td>1</td>\n",
       "      <td>NaN</td>\n",
       "      <td>50</td>\n",
       "      <td>среднее</td>\n",
       "      <td>1</td>\n",
       "      <td>гражданский брак</td>\n",
       "      <td>1</td>\n",
       "      <td>F</td>\n",
       "      <td>сотрудник</td>\n",
       "      <td>0</td>\n",
       "      <td>NaN</td>\n",
       "      <td>свадьба</td>\n",
       "    </tr>\n",
       "    <tr>\n",
       "      <th>21497</th>\n",
       "      <td>0</td>\n",
       "      <td>NaN</td>\n",
       "      <td>48</td>\n",
       "      <td>ВЫСШЕЕ</td>\n",
       "      <td>0</td>\n",
       "      <td>женат / замужем</td>\n",
       "      <td>0</td>\n",
       "      <td>F</td>\n",
       "      <td>компаньон</td>\n",
       "      <td>0</td>\n",
       "      <td>NaN</td>\n",
       "      <td>строительство недвижимости</td>\n",
       "    </tr>\n",
       "    <tr>\n",
       "      <th>21502</th>\n",
       "      <td>1</td>\n",
       "      <td>NaN</td>\n",
       "      <td>42</td>\n",
       "      <td>среднее</td>\n",
       "      <td>1</td>\n",
       "      <td>женат / замужем</td>\n",
       "      <td>0</td>\n",
       "      <td>F</td>\n",
       "      <td>сотрудник</td>\n",
       "      <td>0</td>\n",
       "      <td>NaN</td>\n",
       "      <td>строительство жилой недвижимости</td>\n",
       "    </tr>\n",
       "    <tr>\n",
       "      <th>21510</th>\n",
       "      <td>2</td>\n",
       "      <td>NaN</td>\n",
       "      <td>28</td>\n",
       "      <td>среднее</td>\n",
       "      <td>1</td>\n",
       "      <td>женат / замужем</td>\n",
       "      <td>0</td>\n",
       "      <td>F</td>\n",
       "      <td>сотрудник</td>\n",
       "      <td>0</td>\n",
       "      <td>NaN</td>\n",
       "      <td>приобретение автомобиля</td>\n",
       "    </tr>\n",
       "  </tbody>\n",
       "</table>\n",
       "<p>2174 rows × 12 columns</p>\n",
       "</div>"
      ],
      "text/plain": [
       "       children  days_employed  dob_years education  education_id  \\\n",
       "12            0            NaN         65   среднее             1   \n",
       "26            0            NaN         41   среднее             1   \n",
       "29            0            NaN         63   среднее             1   \n",
       "41            0            NaN         50   среднее             1   \n",
       "55            0            NaN         54   среднее             1   \n",
       "...         ...            ...        ...       ...           ...   \n",
       "21489         2            NaN         47   Среднее             1   \n",
       "21495         1            NaN         50   среднее             1   \n",
       "21497         0            NaN         48    ВЫСШЕЕ             0   \n",
       "21502         1            NaN         42   среднее             1   \n",
       "21510         2            NaN         28   среднее             1   \n",
       "\n",
       "               family_status  family_status_id gender  income_type  debt  \\\n",
       "12          гражданский брак                 1      M    пенсионер     0   \n",
       "26           женат / замужем                 0      M  госслужащий     0   \n",
       "29     Не женат / не замужем                 4      F    пенсионер     0   \n",
       "41           женат / замужем                 0      F  госслужащий     0   \n",
       "55          гражданский брак                 1      F    пенсионер     1   \n",
       "...                      ...               ...    ...          ...   ...   \n",
       "21489        женат / замужем                 0      M    компаньон     0   \n",
       "21495       гражданский брак                 1      F    сотрудник     0   \n",
       "21497        женат / замужем                 0      F    компаньон     0   \n",
       "21502        женат / замужем                 0      F    сотрудник     0   \n",
       "21510        женат / замужем                 0      F    сотрудник     0   \n",
       "\n",
       "       total_income                           purpose  \n",
       "12              NaN                   сыграть свадьбу  \n",
       "26              NaN                       образование  \n",
       "29              NaN  строительство жилой недвижимости  \n",
       "41              NaN  сделка с подержанным автомобилем  \n",
       "55              NaN                   сыграть свадьбу  \n",
       "...             ...                               ...  \n",
       "21489           NaN              сделка с автомобилем  \n",
       "21495           NaN                           свадьба  \n",
       "21497           NaN        строительство недвижимости  \n",
       "21502           NaN  строительство жилой недвижимости  \n",
       "21510           NaN           приобретение автомобиля  \n",
       "\n",
       "[2174 rows x 12 columns]"
      ]
     },
     "execution_count": 3,
     "metadata": {},
     "output_type": "execute_result"
    }
   ],
   "source": [
    "df[df['total_income'].isnull() == True]"
   ]
  },
  {
   "cell_type": "markdown",
   "metadata": {},
   "source": [
    "<font color='gray'> # Посмотрим информацию о наборе данных, воспользуюсь методом info()"
   ]
  },
  {
   "cell_type": "code",
   "execution_count": 4,
   "metadata": {},
   "outputs": [
    {
     "name": "stdout",
     "output_type": "stream",
     "text": [
      "<class 'pandas.core.frame.DataFrame'>\n",
      "RangeIndex: 21525 entries, 0 to 21524\n",
      "Data columns (total 12 columns):\n",
      " #   Column            Non-Null Count  Dtype  \n",
      "---  ------            --------------  -----  \n",
      " 0   children          21525 non-null  int64  \n",
      " 1   days_employed     19351 non-null  float64\n",
      " 2   dob_years         21525 non-null  int64  \n",
      " 3   education         21525 non-null  object \n",
      " 4   education_id      21525 non-null  int64  \n",
      " 5   family_status     21525 non-null  object \n",
      " 6   family_status_id  21525 non-null  int64  \n",
      " 7   gender            21525 non-null  object \n",
      " 8   income_type       21525 non-null  object \n",
      " 9   debt              21525 non-null  int64  \n",
      " 10  total_income      19351 non-null  float64\n",
      " 11  purpose           21525 non-null  object \n",
      "dtypes: float64(2), int64(5), object(5)\n",
      "memory usage: 2.0+ MB\n"
     ]
    }
   ],
   "source": [
    "df.info()"
   ]
  },
  {
   "cell_type": "markdown",
   "metadata": {},
   "source": [
    "<font color='gray'>#Заметим, что столбцы days_employed и total_income отличаются общим числом элементов"
   ]
  },
  {
   "cell_type": "code",
   "execution_count": 5,
   "metadata": {},
   "outputs": [
    {
     "data": {
      "text/html": [
       "<div>\n",
       "<style scoped>\n",
       "    .dataframe tbody tr th:only-of-type {\n",
       "        vertical-align: middle;\n",
       "    }\n",
       "\n",
       "    .dataframe tbody tr th {\n",
       "        vertical-align: top;\n",
       "    }\n",
       "\n",
       "    .dataframe thead th {\n",
       "        text-align: right;\n",
       "    }\n",
       "</style>\n",
       "<table border=\"1\" class=\"dataframe\">\n",
       "  <thead>\n",
       "    <tr style=\"text-align: right;\">\n",
       "      <th></th>\n",
       "      <th>children</th>\n",
       "      <th>days_employed</th>\n",
       "      <th>dob_years</th>\n",
       "      <th>education</th>\n",
       "      <th>education_id</th>\n",
       "      <th>family_status</th>\n",
       "      <th>family_status_id</th>\n",
       "      <th>gender</th>\n",
       "      <th>income_type</th>\n",
       "      <th>debt</th>\n",
       "      <th>total_income</th>\n",
       "      <th>purpose</th>\n",
       "    </tr>\n",
       "  </thead>\n",
       "  <tbody>\n",
       "    <tr>\n",
       "      <th>0</th>\n",
       "      <td>1</td>\n",
       "      <td>-8437.673028</td>\n",
       "      <td>42</td>\n",
       "      <td>высшее</td>\n",
       "      <td>0</td>\n",
       "      <td>женат / замужем</td>\n",
       "      <td>0</td>\n",
       "      <td>F</td>\n",
       "      <td>сотрудник</td>\n",
       "      <td>0</td>\n",
       "      <td>253875.639453</td>\n",
       "      <td>покупка жилья</td>\n",
       "    </tr>\n",
       "    <tr>\n",
       "      <th>1</th>\n",
       "      <td>1</td>\n",
       "      <td>-4024.803754</td>\n",
       "      <td>36</td>\n",
       "      <td>среднее</td>\n",
       "      <td>1</td>\n",
       "      <td>женат / замужем</td>\n",
       "      <td>0</td>\n",
       "      <td>F</td>\n",
       "      <td>сотрудник</td>\n",
       "      <td>0</td>\n",
       "      <td>112080.014102</td>\n",
       "      <td>приобретение автомобиля</td>\n",
       "    </tr>\n",
       "    <tr>\n",
       "      <th>2</th>\n",
       "      <td>0</td>\n",
       "      <td>-5623.422610</td>\n",
       "      <td>33</td>\n",
       "      <td>Среднее</td>\n",
       "      <td>1</td>\n",
       "      <td>женат / замужем</td>\n",
       "      <td>0</td>\n",
       "      <td>M</td>\n",
       "      <td>сотрудник</td>\n",
       "      <td>0</td>\n",
       "      <td>145885.952297</td>\n",
       "      <td>покупка жилья</td>\n",
       "    </tr>\n",
       "    <tr>\n",
       "      <th>3</th>\n",
       "      <td>3</td>\n",
       "      <td>-4124.747207</td>\n",
       "      <td>32</td>\n",
       "      <td>среднее</td>\n",
       "      <td>1</td>\n",
       "      <td>женат / замужем</td>\n",
       "      <td>0</td>\n",
       "      <td>M</td>\n",
       "      <td>сотрудник</td>\n",
       "      <td>0</td>\n",
       "      <td>267628.550329</td>\n",
       "      <td>дополнительное образование</td>\n",
       "    </tr>\n",
       "    <tr>\n",
       "      <th>4</th>\n",
       "      <td>0</td>\n",
       "      <td>340266.072047</td>\n",
       "      <td>53</td>\n",
       "      <td>среднее</td>\n",
       "      <td>1</td>\n",
       "      <td>гражданский брак</td>\n",
       "      <td>1</td>\n",
       "      <td>F</td>\n",
       "      <td>пенсионер</td>\n",
       "      <td>0</td>\n",
       "      <td>158616.077870</td>\n",
       "      <td>сыграть свадьбу</td>\n",
       "    </tr>\n",
       "  </tbody>\n",
       "</table>\n",
       "</div>"
      ],
      "text/plain": [
       "   children  days_employed  dob_years education  education_id  \\\n",
       "0         1   -8437.673028         42    высшее             0   \n",
       "1         1   -4024.803754         36   среднее             1   \n",
       "2         0   -5623.422610         33   Среднее             1   \n",
       "3         3   -4124.747207         32   среднее             1   \n",
       "4         0  340266.072047         53   среднее             1   \n",
       "\n",
       "      family_status  family_status_id gender income_type  debt   total_income  \\\n",
       "0   женат / замужем                 0      F   сотрудник     0  253875.639453   \n",
       "1   женат / замужем                 0      F   сотрудник     0  112080.014102   \n",
       "2   женат / замужем                 0      M   сотрудник     0  145885.952297   \n",
       "3   женат / замужем                 0      M   сотрудник     0  267628.550329   \n",
       "4  гражданский брак                 1      F   пенсионер     0  158616.077870   \n",
       "\n",
       "                      purpose  \n",
       "0               покупка жилья  \n",
       "1     приобретение автомобиля  \n",
       "2               покупка жилья  \n",
       "3  дополнительное образование  \n",
       "4             сыграть свадьбу  "
      ]
     },
     "execution_count": 5,
     "metadata": {},
     "output_type": "execute_result"
    }
   ],
   "source": [
    "df.head()"
   ]
  },
  {
   "cell_type": "markdown",
   "metadata": {},
   "source": [
    "<font color='gray'>#Уберем отрицательны значения в df"
   ]
  },
  {
   "cell_type": "code",
   "execution_count": 6,
   "metadata": {},
   "outputs": [],
   "source": [
    "df['days_employed'] = df['days_employed'].abs()\n",
    "df['total_income'] = df['total_income'].abs()\n",
    "#df.head(5)"
   ]
  },
  {
   "cell_type": "markdown",
   "metadata": {},
   "source": [
    "<font color='gray'>#Сохраним копию df в df_with_nan"
   ]
  },
  {
   "cell_type": "code",
   "execution_count": 7,
   "metadata": {},
   "outputs": [],
   "source": [
    "import copy\n",
    "df_with_nan = copy.deepcopy(df)"
   ]
  },
  {
   "cell_type": "markdown",
   "metadata": {},
   "source": [
    "<font color='gray'>#Для удобства работы с пропущенными значениями переминаем их методом .fillna('unknown')"
   ]
  },
  {
   "cell_type": "code",
   "execution_count": 8,
   "metadata": {},
   "outputs": [],
   "source": [
    "df_with_nan['days_employed'] = df_with_nan['days_employed'].fillna('unknown')\n",
    "df_with_nan['total_income'] = df_with_nan['total_income'].fillna('unknown')"
   ]
  },
  {
   "cell_type": "markdown",
   "metadata": {},
   "source": [
    "<font color='gray'>#<br>Попытаемся найти причину наличия пропущенных значений:\n",
    "<ol>\n",
    " <li>Для этого выведем все строки со значениями 'unknown'</li>\n",
    " <li>Создадим список со значениями 'unknown' в столбце 'days_employed'</li>\n",
    " <li>Потом в этом списке посчитаем количество строк со значением 'unknown' в столбце 'total_income'</li>\n",
    "</ol>#"
   ]
  },
  {
   "cell_type": "markdown",
   "metadata": {},
   "source": [
    "<font color='gray'>#Количество days_employed со значением unknown "
   ]
  },
  {
   "cell_type": "code",
   "execution_count": 9,
   "metadata": {},
   "outputs": [
    {
     "data": {
      "text/plain": [
       "2174"
      ]
     },
     "execution_count": 9,
     "metadata": {},
     "output_type": "execute_result"
    }
   ],
   "source": [
    "df_with_nan[df_with_nan['days_employed'] == 'unknown']['days_employed'].count()"
   ]
  },
  {
   "cell_type": "markdown",
   "metadata": {},
   "source": [
    "<font color='gray'>#Запишем days_employed со значением unknown в отдельную переменную "
   ]
  },
  {
   "cell_type": "code",
   "execution_count": 10,
   "metadata": {},
   "outputs": [],
   "source": [
    "df_days_employed = df_with_nan[df_with_nan['days_employed'] == 'unknown']"
   ]
  },
  {
   "cell_type": "markdown",
   "metadata": {},
   "source": [
    "<font color='gray'>#Количество total_income со значением unknown "
   ]
  },
  {
   "cell_type": "code",
   "execution_count": 11,
   "metadata": {},
   "outputs": [
    {
     "data": {
      "text/plain": [
       "2174"
      ]
     },
     "execution_count": 11,
     "metadata": {},
     "output_type": "execute_result"
    }
   ],
   "source": [
    "df_with_nan[df_with_nan['total_income'] == 'unknown']['total_income'].count()"
   ]
  },
  {
   "cell_type": "markdown",
   "metadata": {},
   "source": [
    "<font color='gray'>#Проверим количество total_income со значением unknown в переменной df_days_employed"
   ]
  },
  {
   "cell_type": "code",
   "execution_count": 12,
   "metadata": {},
   "outputs": [
    {
     "data": {
      "text/plain": [
       "2174"
      ]
     },
     "execution_count": 12,
     "metadata": {},
     "output_type": "execute_result"
    }
   ],
   "source": [
    "df_days_employed[df_days_employed['total_income'] == 'unknown']['total_income'].count()"
   ]
  },
  {
   "cell_type": "code",
   "execution_count": 13,
   "metadata": {},
   "outputs": [
    {
     "data": {
      "text/plain": [
       "children            0\n",
       "days_employed       0\n",
       "dob_years           0\n",
       "education           0\n",
       "education_id        0\n",
       "family_status       0\n",
       "family_status_id    0\n",
       "gender              0\n",
       "income_type         0\n",
       "debt                0\n",
       "total_income        0\n",
       "purpose             0\n",
       "dtype: int64"
      ]
     },
     "execution_count": 13,
     "metadata": {},
     "output_type": "execute_result"
    }
   ],
   "source": [
    "df_days_employed.isnull().sum()"
   ]
  },
  {
   "cell_type": "code",
   "execution_count": 14,
   "metadata": {},
   "outputs": [
    {
     "data": {
      "text/html": [
       "<div>\n",
       "<style scoped>\n",
       "    .dataframe tbody tr th:only-of-type {\n",
       "        vertical-align: middle;\n",
       "    }\n",
       "\n",
       "    .dataframe tbody tr th {\n",
       "        vertical-align: top;\n",
       "    }\n",
       "\n",
       "    .dataframe thead th {\n",
       "        text-align: right;\n",
       "    }\n",
       "</style>\n",
       "<table border=\"1\" class=\"dataframe\">\n",
       "  <thead>\n",
       "    <tr style=\"text-align: right;\">\n",
       "      <th></th>\n",
       "      <th>children</th>\n",
       "      <th>days_employed</th>\n",
       "      <th>dob_years</th>\n",
       "      <th>education</th>\n",
       "      <th>education_id</th>\n",
       "      <th>family_status</th>\n",
       "      <th>family_status_id</th>\n",
       "      <th>gender</th>\n",
       "      <th>income_type</th>\n",
       "      <th>debt</th>\n",
       "      <th>total_income</th>\n",
       "      <th>purpose</th>\n",
       "    </tr>\n",
       "  </thead>\n",
       "  <tbody>\n",
       "    <tr>\n",
       "      <th>12</th>\n",
       "      <td>0</td>\n",
       "      <td>unknown</td>\n",
       "      <td>65</td>\n",
       "      <td>среднее</td>\n",
       "      <td>1</td>\n",
       "      <td>гражданский брак</td>\n",
       "      <td>1</td>\n",
       "      <td>M</td>\n",
       "      <td>пенсионер</td>\n",
       "      <td>0</td>\n",
       "      <td>unknown</td>\n",
       "      <td>сыграть свадьбу</td>\n",
       "    </tr>\n",
       "    <tr>\n",
       "      <th>26</th>\n",
       "      <td>0</td>\n",
       "      <td>unknown</td>\n",
       "      <td>41</td>\n",
       "      <td>среднее</td>\n",
       "      <td>1</td>\n",
       "      <td>женат / замужем</td>\n",
       "      <td>0</td>\n",
       "      <td>M</td>\n",
       "      <td>госслужащий</td>\n",
       "      <td>0</td>\n",
       "      <td>unknown</td>\n",
       "      <td>образование</td>\n",
       "    </tr>\n",
       "    <tr>\n",
       "      <th>29</th>\n",
       "      <td>0</td>\n",
       "      <td>unknown</td>\n",
       "      <td>63</td>\n",
       "      <td>среднее</td>\n",
       "      <td>1</td>\n",
       "      <td>Не женат / не замужем</td>\n",
       "      <td>4</td>\n",
       "      <td>F</td>\n",
       "      <td>пенсионер</td>\n",
       "      <td>0</td>\n",
       "      <td>unknown</td>\n",
       "      <td>строительство жилой недвижимости</td>\n",
       "    </tr>\n",
       "    <tr>\n",
       "      <th>41</th>\n",
       "      <td>0</td>\n",
       "      <td>unknown</td>\n",
       "      <td>50</td>\n",
       "      <td>среднее</td>\n",
       "      <td>1</td>\n",
       "      <td>женат / замужем</td>\n",
       "      <td>0</td>\n",
       "      <td>F</td>\n",
       "      <td>госслужащий</td>\n",
       "      <td>0</td>\n",
       "      <td>unknown</td>\n",
       "      <td>сделка с подержанным автомобилем</td>\n",
       "    </tr>\n",
       "    <tr>\n",
       "      <th>55</th>\n",
       "      <td>0</td>\n",
       "      <td>unknown</td>\n",
       "      <td>54</td>\n",
       "      <td>среднее</td>\n",
       "      <td>1</td>\n",
       "      <td>гражданский брак</td>\n",
       "      <td>1</td>\n",
       "      <td>F</td>\n",
       "      <td>пенсионер</td>\n",
       "      <td>1</td>\n",
       "      <td>unknown</td>\n",
       "      <td>сыграть свадьбу</td>\n",
       "    </tr>\n",
       "    <tr>\n",
       "      <th>...</th>\n",
       "      <td>...</td>\n",
       "      <td>...</td>\n",
       "      <td>...</td>\n",
       "      <td>...</td>\n",
       "      <td>...</td>\n",
       "      <td>...</td>\n",
       "      <td>...</td>\n",
       "      <td>...</td>\n",
       "      <td>...</td>\n",
       "      <td>...</td>\n",
       "      <td>...</td>\n",
       "      <td>...</td>\n",
       "    </tr>\n",
       "    <tr>\n",
       "      <th>21489</th>\n",
       "      <td>2</td>\n",
       "      <td>unknown</td>\n",
       "      <td>47</td>\n",
       "      <td>Среднее</td>\n",
       "      <td>1</td>\n",
       "      <td>женат / замужем</td>\n",
       "      <td>0</td>\n",
       "      <td>M</td>\n",
       "      <td>компаньон</td>\n",
       "      <td>0</td>\n",
       "      <td>unknown</td>\n",
       "      <td>сделка с автомобилем</td>\n",
       "    </tr>\n",
       "    <tr>\n",
       "      <th>21495</th>\n",
       "      <td>1</td>\n",
       "      <td>unknown</td>\n",
       "      <td>50</td>\n",
       "      <td>среднее</td>\n",
       "      <td>1</td>\n",
       "      <td>гражданский брак</td>\n",
       "      <td>1</td>\n",
       "      <td>F</td>\n",
       "      <td>сотрудник</td>\n",
       "      <td>0</td>\n",
       "      <td>unknown</td>\n",
       "      <td>свадьба</td>\n",
       "    </tr>\n",
       "    <tr>\n",
       "      <th>21497</th>\n",
       "      <td>0</td>\n",
       "      <td>unknown</td>\n",
       "      <td>48</td>\n",
       "      <td>ВЫСШЕЕ</td>\n",
       "      <td>0</td>\n",
       "      <td>женат / замужем</td>\n",
       "      <td>0</td>\n",
       "      <td>F</td>\n",
       "      <td>компаньон</td>\n",
       "      <td>0</td>\n",
       "      <td>unknown</td>\n",
       "      <td>строительство недвижимости</td>\n",
       "    </tr>\n",
       "    <tr>\n",
       "      <th>21502</th>\n",
       "      <td>1</td>\n",
       "      <td>unknown</td>\n",
       "      <td>42</td>\n",
       "      <td>среднее</td>\n",
       "      <td>1</td>\n",
       "      <td>женат / замужем</td>\n",
       "      <td>0</td>\n",
       "      <td>F</td>\n",
       "      <td>сотрудник</td>\n",
       "      <td>0</td>\n",
       "      <td>unknown</td>\n",
       "      <td>строительство жилой недвижимости</td>\n",
       "    </tr>\n",
       "    <tr>\n",
       "      <th>21510</th>\n",
       "      <td>2</td>\n",
       "      <td>unknown</td>\n",
       "      <td>28</td>\n",
       "      <td>среднее</td>\n",
       "      <td>1</td>\n",
       "      <td>женат / замужем</td>\n",
       "      <td>0</td>\n",
       "      <td>F</td>\n",
       "      <td>сотрудник</td>\n",
       "      <td>0</td>\n",
       "      <td>unknown</td>\n",
       "      <td>приобретение автомобиля</td>\n",
       "    </tr>\n",
       "  </tbody>\n",
       "</table>\n",
       "<p>2174 rows × 12 columns</p>\n",
       "</div>"
      ],
      "text/plain": [
       "       children days_employed  dob_years education  education_id  \\\n",
       "12            0       unknown         65   среднее             1   \n",
       "26            0       unknown         41   среднее             1   \n",
       "29            0       unknown         63   среднее             1   \n",
       "41            0       unknown         50   среднее             1   \n",
       "55            0       unknown         54   среднее             1   \n",
       "...         ...           ...        ...       ...           ...   \n",
       "21489         2       unknown         47   Среднее             1   \n",
       "21495         1       unknown         50   среднее             1   \n",
       "21497         0       unknown         48    ВЫСШЕЕ             0   \n",
       "21502         1       unknown         42   среднее             1   \n",
       "21510         2       unknown         28   среднее             1   \n",
       "\n",
       "               family_status  family_status_id gender  income_type  debt  \\\n",
       "12          гражданский брак                 1      M    пенсионер     0   \n",
       "26           женат / замужем                 0      M  госслужащий     0   \n",
       "29     Не женат / не замужем                 4      F    пенсионер     0   \n",
       "41           женат / замужем                 0      F  госслужащий     0   \n",
       "55          гражданский брак                 1      F    пенсионер     1   \n",
       "...                      ...               ...    ...          ...   ...   \n",
       "21489        женат / замужем                 0      M    компаньон     0   \n",
       "21495       гражданский брак                 1      F    сотрудник     0   \n",
       "21497        женат / замужем                 0      F    компаньон     0   \n",
       "21502        женат / замужем                 0      F    сотрудник     0   \n",
       "21510        женат / замужем                 0      F    сотрудник     0   \n",
       "\n",
       "      total_income                           purpose  \n",
       "12         unknown                   сыграть свадьбу  \n",
       "26         unknown                       образование  \n",
       "29         unknown  строительство жилой недвижимости  \n",
       "41         unknown  сделка с подержанным автомобилем  \n",
       "55         unknown                   сыграть свадьбу  \n",
       "...            ...                               ...  \n",
       "21489      unknown              сделка с автомобилем  \n",
       "21495      unknown                           свадьба  \n",
       "21497      unknown        строительство недвижимости  \n",
       "21502      unknown  строительство жилой недвижимости  \n",
       "21510      unknown           приобретение автомобиля  \n",
       "\n",
       "[2174 rows x 12 columns]"
      ]
     },
     "execution_count": 14,
     "metadata": {},
     "output_type": "execute_result"
    }
   ],
   "source": [
    "df_with_nan[(df_with_nan['days_employed'] == 'unknown') & (df_with_nan['total_income'] == 'unknown')]"
   ]
  },
  {
   "cell_type": "markdown",
   "metadata": {},
   "source": [
    "### Вывод"
   ]
  },
  {
   "cell_type": "markdown",
   "metadata": {},
   "source": [
    "<font color='gray'>#Теперь мы знаем, что в df отсутствовали значения только в столбцах 'total_income' и 'days_employed'  "
   ]
  },
  {
   "cell_type": "markdown",
   "metadata": {},
   "source": [
    "### Шаг 2. Предобработка данных"
   ]
  },
  {
   "cell_type": "code",
   "execution_count": 15,
   "metadata": {},
   "outputs": [
    {
     "data": {
      "text/plain": [
       "unknown               0.100999\n",
       "327678.58299279085    0.000046\n",
       "141944.01516181062    0.000046\n",
       "567917.6381898475     0.000046\n",
       "141936.7972842977     0.000046\n",
       "                        ...   \n",
       "87419.04507279933     0.000046\n",
       "87420.56631820287     0.000046\n",
       "120191.53049005414    0.000046\n",
       "87425.71640384874     0.000046\n",
       "81054.28860716878     0.000046\n",
       "Name: total_income, Length: 19352, dtype: float64"
      ]
     },
     "execution_count": 15,
     "metadata": {},
     "output_type": "execute_result"
    }
   ],
   "source": [
    "df_with_nan['total_income'].value_counts(normalize=True)"
   ]
  },
  {
   "cell_type": "markdown",
   "metadata": {},
   "source": [
    "<font color='purple'>#value_counts()<br><q>With normalize set to True, returns the relative frequency by dividing all values by the sum of values.</q>"
   ]
  },
  {
   "cell_type": "code",
   "execution_count": 16,
   "metadata": {},
   "outputs": [
    {
     "data": {
      "text/plain": [
       "income_type\n",
       "госслужащий         147\n",
       "компаньон           508\n",
       "пенсионер           413\n",
       "предприниматель       1\n",
       "сотрудник          1105\n",
       "Name: total_income, dtype: int64"
      ]
     },
     "execution_count": 16,
     "metadata": {},
     "output_type": "execute_result"
    }
   ],
   "source": [
    "df_with_nan[df_with_nan['total_income'] == 'unknown'].groupby('income_type')['total_income'].count()"
   ]
  },
  {
   "cell_type": "markdown",
   "metadata": {},
   "source": [
    "### Обработка пропусков"
   ]
  },
  {
   "cell_type": "markdown",
   "metadata": {},
   "source": [
    "<font color='gray'>#Пропущенные значения в days_employed,total_income в df"
   ]
  },
  {
   "cell_type": "code",
   "execution_count": 17,
   "metadata": {},
   "outputs": [
    {
     "data": {
      "text/plain": [
       "children               0\n",
       "days_employed       2174\n",
       "dob_years              0\n",
       "education              0\n",
       "education_id           0\n",
       "family_status          0\n",
       "family_status_id       0\n",
       "gender                 0\n",
       "income_type            0\n",
       "debt                   0\n",
       "total_income        2174\n",
       "purpose                0\n",
       "dtype: int64"
      ]
     },
     "execution_count": 17,
     "metadata": {},
     "output_type": "execute_result"
    }
   ],
   "source": [
    "df.isnull().sum()"
   ]
  },
  {
   "cell_type": "markdown",
   "metadata": {},
   "source": [
    "<font color='gray'>#Подсчёт количества значений income_type в df_days_employed"
   ]
  },
  {
   "cell_type": "code",
   "execution_count": 18,
   "metadata": {},
   "outputs": [
    {
     "data": {
      "text/plain": [
       "array(['пенсионер', 'госслужащий', 'компаньон', 'сотрудник',\n",
       "       'предприниматель'], dtype=object)"
      ]
     },
     "execution_count": 18,
     "metadata": {},
     "output_type": "execute_result"
    }
   ],
   "source": [
    "df[df['total_income'].isna()]['income_type'].unique()"
   ]
  },
  {
   "cell_type": "code",
   "execution_count": 19,
   "metadata": {},
   "outputs": [
    {
     "data": {
      "text/plain": [
       "сотрудник          1105\n",
       "компаньон           508\n",
       "пенсионер           413\n",
       "госслужащий         147\n",
       "предприниматель       1\n",
       "Name: income_type, dtype: int64"
      ]
     },
     "execution_count": 19,
     "metadata": {},
     "output_type": "execute_result"
    }
   ],
   "source": [
    "df_days_employed['income_type'].value_counts()"
   ]
  },
  {
   "cell_type": "markdown",
   "metadata": {},
   "source": [
    "<font color='gray'>#Большая часть пропусков у сотрудников"
   ]
  },
  {
   "cell_type": "code",
   "execution_count": 20,
   "metadata": {},
   "outputs": [
    {
     "data": {
      "text/plain": [
       "сотрудник          0.508280\n",
       "компаньон          0.233671\n",
       "пенсионер          0.189972\n",
       "госслужащий        0.067617\n",
       "предприниматель    0.000460\n",
       "Name: income_type, dtype: float64"
      ]
     },
     "execution_count": 20,
     "metadata": {},
     "output_type": "execute_result"
    }
   ],
   "source": [
    "df_days_employed['income_type'].value_counts(normalize=True)\n"
   ]
  },
  {
   "cell_type": "code",
   "execution_count": 21,
   "metadata": {},
   "outputs": [
    {
     "data": {
      "text/plain": [
       "сотрудник          0.516562\n",
       "компаньон          0.236237\n",
       "пенсионер          0.179141\n",
       "госслужащий        0.067782\n",
       "безработный        0.000093\n",
       "предприниматель    0.000093\n",
       "в декрете          0.000046\n",
       "студент            0.000046\n",
       "Name: income_type, dtype: float64"
      ]
     },
     "execution_count": 21,
     "metadata": {},
     "output_type": "execute_result"
    }
   ],
   "source": [
    "df_with_nan['income_type'].value_counts(normalize=True)"
   ]
  },
  {
   "cell_type": "code",
   "execution_count": 22,
   "metadata": {},
   "outputs": [
    {
     "name": "stdout",
     "output_type": "stream",
     "text": [
      "сотрудник          1105\n",
      "компаньон           508\n",
      "пенсионер           413\n",
      "госслужащий         147\n",
      "предприниматель       1\n",
      "Name: income_type, dtype: int64\n"
     ]
    },
    {
     "data": {
      "text/plain": [
       "сотрудник          0.508280\n",
       "компаньон          0.233671\n",
       "пенсионер          0.189972\n",
       "госслужащий        0.067617\n",
       "предприниматель    0.000460\n",
       "Name: income_type, dtype: float64"
      ]
     },
     "execution_count": 22,
     "metadata": {},
     "output_type": "execute_result"
    }
   ],
   "source": [
    "print(df[df['total_income'].isna()]['income_type'].value_counts())\n",
    "result = df[df['total_income'].isna()]['income_type'].value_counts(normalize=True)\n",
    "result"
   ]
  },
  {
   "cell_type": "code",
   "execution_count": 23,
   "metadata": {},
   "outputs": [
    {
     "name": "stdout",
     "output_type": "stream",
     "text": [
      "сотрудник          11119\n",
      "компаньон           5085\n",
      "пенсионер           3856\n",
      "госслужащий         1459\n",
      "безработный            2\n",
      "предприниматель        2\n",
      "в декрете              1\n",
      "студент                1\n",
      "Name: income_type, dtype: int64\n"
     ]
    },
    {
     "data": {
      "text/plain": [
       "сотрудник          0.516562\n",
       "компаньон          0.236237\n",
       "пенсионер          0.179141\n",
       "госслужащий        0.067782\n",
       "безработный        0.000093\n",
       "предприниматель    0.000093\n",
       "в декрете          0.000046\n",
       "студент            0.000046\n",
       "Name: income_type, dtype: float64"
      ]
     },
     "execution_count": 23,
     "metadata": {},
     "output_type": "execute_result"
    }
   ],
   "source": [
    "print(df_with_nan['income_type'].value_counts())\n",
    "root = df_with_nan['income_type'].value_counts(normalize=True)\n",
    "root"
   ]
  },
  {
   "cell_type": "code",
   "execution_count": 24,
   "metadata": {},
   "outputs": [
    {
     "name": "stdout",
     "output_type": "stream",
     "text": [
      "0.0082825 сотрудник\n",
      "0.0025663 компаньон\n",
      "-0.010832 пенсионер\n",
      "0.00016435 госслужащий\n",
      "-0.00036707 предприниматель\n"
     ]
    }
   ],
   "source": [
    "print('{:,.5}'.format(root['сотрудник'] - result['сотрудник']),'сотрудник')\n",
    "print('{:,.5}'.format(root['компаньон'] - result ['компаньон']),'компаньон')\n",
    "print('{:,.5}'.format(root['пенсионер'] - result ['пенсионер']),'пенсионер')\n",
    "print('{:,.5}'.format(root['госслужащий'] - result ['госслужащий']),'госслужащий')\n",
    "print('{:,.5}'.format(root['предприниматель'] - result ['предприниматель']),'предприниматель')"
   ]
  },
  {
   "cell_type": "code",
   "execution_count": 25,
   "metadata": {},
   "outputs": [
    {
     "name": "stdout",
     "output_type": "stream",
     "text": [
      "1.0163 сотрудник\n",
      "1.011 компаньон\n",
      "0.94298 пенсионер\n",
      "1.0024 госслужащий\n",
      "0.202 предприниматель\n"
     ]
    }
   ],
   "source": [
    "print('{:,.5}'.format(root['сотрудник'] / result['сотрудник']),'сотрудник')\n",
    "print('{:,.5}'.format(root['компаньон'] / result ['компаньон']),'компаньон')\n",
    "print('{:,.5}'.format(root['пенсионер'] / result ['пенсионер']),'пенсионер')\n",
    "print('{:,.5}'.format(root['госслужащий'] / result ['госслужащий']),'госслужащий')\n",
    "print('{:,.5}'.format(root['предприниматель'] / result ['предприниматель']),'предприниматель')"
   ]
  },
  {
   "cell_type": "markdown",
   "metadata": {},
   "source": [
    "<font color='gray'>#Концентрация пропусков у сотрудников больше всего, но если учитывать количество людей по каждому типу занятости в основном датафрейме и сравнивать с количеством получившегося количества людей с пропусками по каждому типу, то пропорционально они окажутся практически одинаковыми. Кроме предпринимателей, которых в основном дата фрейме всего 2, а в список с пропусками попал 1, что является 50%, хотя из-за малого количества относительно общего числа людей в списке, распределение получается маленькое.\n"
   ]
  },
  {
   "cell_type": "markdown",
   "metadata": {},
   "source": [
    "<font color='gray'>#Подсчёт количества значений income_type в df"
   ]
  },
  {
   "cell_type": "code",
   "execution_count": 26,
   "metadata": {},
   "outputs": [
    {
     "data": {
      "text/plain": [
       "сотрудник          11119\n",
       "компаньон           5085\n",
       "пенсионер           3856\n",
       "госслужащий         1459\n",
       "безработный            2\n",
       "предприниматель        2\n",
       "в декрете              1\n",
       "студент                1\n",
       "Name: income_type, dtype: int64"
      ]
     },
     "execution_count": 26,
     "metadata": {},
     "output_type": "execute_result"
    }
   ],
   "source": [
    "df['income_type'].value_counts()"
   ]
  },
  {
   "cell_type": "markdown",
   "metadata": {},
   "source": [
    "<font color='gray'>#Найдем среднее значения по категории 'income_type' для заполнения пропусков"
   ]
  },
  {
   "cell_type": "markdown",
   "metadata": {},
   "source": [
    "<font color='gray'>#<br>заполним пропуски, сделав отдельные срезы под нужные нам 'income_type'<br>\n",
    " <strike>заполнить все пропуски средним значением для всех зарплат</strike><br>#<br>И проверим значения в df по days_employed и total_income до замены<br>#"
   ]
  },
  {
   "cell_type": "code",
   "execution_count": 27,
   "metadata": {},
   "outputs": [
    {
     "data": {
      "text/plain": [
       "['сотрудник',\n",
       " 'пенсионер',\n",
       " 'компаньон',\n",
       " 'госслужащий',\n",
       " 'безработный',\n",
       " 'предприниматель',\n",
       " 'студент',\n",
       " 'в декрете']"
      ]
     },
     "execution_count": 27,
     "metadata": {},
     "output_type": "execute_result"
    }
   ],
   "source": [
    "unique_type = df['income_type'].unique().tolist()  # сперва получим список всех типов занятости\n",
    "unique_type"
   ]
  },
  {
   "cell_type": "code",
   "execution_count": 28,
   "metadata": {},
   "outputs": [
    {
     "data": {
      "text/plain": [
       "[12,\n",
       " 26,\n",
       " 29,\n",
       " 41,\n",
       " 55,\n",
       " 65,\n",
       " 67,\n",
       " 72,\n",
       " 82,\n",
       " 83,\n",
       " 90,\n",
       " 94,\n",
       " 96,\n",
       " 97,\n",
       " 120,\n",
       " 121,\n",
       " 135,\n",
       " 141,\n",
       " 145,\n",
       " 174,\n",
       " 181,\n",
       " 189,\n",
       " 205,\n",
       " 220,\n",
       " 241,\n",
       " 242,\n",
       " 247,\n",
       " 250,\n",
       " 264,\n",
       " 278,\n",
       " 279,\n",
       " 280,\n",
       " 312,\n",
       " 317,\n",
       " 320,\n",
       " 321,\n",
       " 322,\n",
       " 328,\n",
       " 360,\n",
       " 361,\n",
       " 364,\n",
       " 376,\n",
       " 383,\n",
       " 389,\n",
       " 415,\n",
       " 416,\n",
       " 421,\n",
       " 444,\n",
       " 458,\n",
       " 466,\n",
       " 490,\n",
       " 499,\n",
       " 503,\n",
       " 515,\n",
       " 518,\n",
       " 520,\n",
       " 541,\n",
       " 554,\n",
       " 573,\n",
       " 619,\n",
       " 627,\n",
       " 645,\n",
       " 646,\n",
       " 649,\n",
       " 651,\n",
       " 652,\n",
       " 653,\n",
       " 680,\n",
       " 681,\n",
       " 683,\n",
       " 686,\n",
       " 712,\n",
       " 713,\n",
       " 719,\n",
       " 724,\n",
       " 736,\n",
       " 743,\n",
       " 760,\n",
       " 763,\n",
       " 788,\n",
       " 829,\n",
       " 830,\n",
       " 835,\n",
       " 849,\n",
       " 851,\n",
       " 853,\n",
       " 885,\n",
       " 888,\n",
       " 919,\n",
       " 923,\n",
       " 924,\n",
       " 930,\n",
       " 936,\n",
       " 941,\n",
       " 950,\n",
       " 959,\n",
       " 973,\n",
       " 974,\n",
       " 978,\n",
       " 980,\n",
       " 988,\n",
       " 991,\n",
       " 1004,\n",
       " 1005,\n",
       " 1010,\n",
       " 1011,\n",
       " 1033,\n",
       " 1045,\n",
       " 1052,\n",
       " 1054,\n",
       " 1057,\n",
       " 1063,\n",
       " 1072,\n",
       " 1075,\n",
       " 1080,\n",
       " 1092,\n",
       " 1118,\n",
       " 1135,\n",
       " 1139,\n",
       " 1167,\n",
       " 1191,\n",
       " 1202,\n",
       " 1211,\n",
       " 1212,\n",
       " 1228,\n",
       " 1229,\n",
       " 1237,\n",
       " 1247,\n",
       " 1249,\n",
       " 1257,\n",
       " 1272,\n",
       " 1289,\n",
       " 1303,\n",
       " 1313,\n",
       " 1325,\n",
       " 1338,\n",
       " 1340,\n",
       " 1365,\n",
       " 1378,\n",
       " 1391,\n",
       " 1416,\n",
       " 1431,\n",
       " 1439,\n",
       " 1450,\n",
       " 1485,\n",
       " 1510,\n",
       " 1511,\n",
       " 1520,\n",
       " 1556,\n",
       " 1561,\n",
       " 1568,\n",
       " 1569,\n",
       " 1574,\n",
       " 1594,\n",
       " 1609,\n",
       " 1616,\n",
       " 1619,\n",
       " 1620,\n",
       " 1626,\n",
       " 1630,\n",
       " 1642,\n",
       " 1658,\n",
       " 1665,\n",
       " 1681,\n",
       " 1709,\n",
       " 1712,\n",
       " 1715,\n",
       " 1716,\n",
       " 1725,\n",
       " 1745,\n",
       " 1766,\n",
       " 1770,\n",
       " 1775,\n",
       " 1779,\n",
       " 1781,\n",
       " 1782,\n",
       " 1816,\n",
       " 1825,\n",
       " 1841,\n",
       " 1855,\n",
       " 1863,\n",
       " 1871,\n",
       " 1874,\n",
       " 1875,\n",
       " 1889,\n",
       " 1890,\n",
       " 1891,\n",
       " 1906,\n",
       " 1913,\n",
       " 1935,\n",
       " 1937,\n",
       " 1941,\n",
       " 1950,\n",
       " 1963,\n",
       " 1966,\n",
       " 1969,\n",
       " 1988,\n",
       " 1998,\n",
       " 2001,\n",
       " 2033,\n",
       " 2045,\n",
       " 2052,\n",
       " 2081,\n",
       " 2085,\n",
       " 2089,\n",
       " 2092,\n",
       " 2096,\n",
       " 2113,\n",
       " 2116,\n",
       " 2171,\n",
       " 2181,\n",
       " 2185,\n",
       " 2192,\n",
       " 2196,\n",
       " 2210,\n",
       " 2212,\n",
       " 2226,\n",
       " 2232,\n",
       " 2254,\n",
       " 2270,\n",
       " 2284,\n",
       " 2297,\n",
       " 2304,\n",
       " 2310,\n",
       " 2339,\n",
       " 2343,\n",
       " 2352,\n",
       " 2356,\n",
       " 2361,\n",
       " 2370,\n",
       " 2372,\n",
       " 2396,\n",
       " 2405,\n",
       " 2522,\n",
       " 2528,\n",
       " 2542,\n",
       " 2545,\n",
       " 2581,\n",
       " 2596,\n",
       " 2604,\n",
       " 2606,\n",
       " 2607,\n",
       " 2608,\n",
       " 2611,\n",
       " 2643,\n",
       " 2644,\n",
       " 2655,\n",
       " 2656,\n",
       " 2657,\n",
       " 2662,\n",
       " 2666,\n",
       " 2669,\n",
       " 2670,\n",
       " 2685,\n",
       " 2696,\n",
       " 2697,\n",
       " 2700,\n",
       " 2706,\n",
       " 2717,\n",
       " 2723,\n",
       " 2743,\n",
       " 2763,\n",
       " 2768,\n",
       " 2786,\n",
       " 2813,\n",
       " 2831,\n",
       " 2841,\n",
       " 2849,\n",
       " 2864,\n",
       " 2887,\n",
       " 2890,\n",
       " 2900,\n",
       " 2908,\n",
       " 2910,\n",
       " 2922,\n",
       " 2942,\n",
       " 2948,\n",
       " 2957,\n",
       " 2968,\n",
       " 2974,\n",
       " 2976,\n",
       " 2981,\n",
       " 2990,\n",
       " 2995,\n",
       " 2999,\n",
       " 3002,\n",
       " 3018,\n",
       " 3037,\n",
       " 3040,\n",
       " 3042,\n",
       " 3062,\n",
       " 3075,\n",
       " 3082,\n",
       " 3085,\n",
       " 3090,\n",
       " 3092,\n",
       " 3095,\n",
       " 3103,\n",
       " 3111,\n",
       " 3122,\n",
       " 3127,\n",
       " 3140,\n",
       " 3143,\n",
       " 3186,\n",
       " 3190,\n",
       " 3201,\n",
       " 3210,\n",
       " 3211,\n",
       " 3241,\n",
       " 3290,\n",
       " 3292,\n",
       " 3302,\n",
       " 3314,\n",
       " 3341,\n",
       " 3344,\n",
       " 3348,\n",
       " 3354,\n",
       " 3378,\n",
       " 3387,\n",
       " 3395,\n",
       " 3396,\n",
       " 3398,\n",
       " 3400,\n",
       " 3402,\n",
       " 3406,\n",
       " 3407,\n",
       " 3442,\n",
       " 3448,\n",
       " 3452,\n",
       " 3473,\n",
       " 3476,\n",
       " 3486,\n",
       " 3492,\n",
       " 3513,\n",
       " 3525,\n",
       " 3529,\n",
       " 3531,\n",
       " 3533,\n",
       " 3539,\n",
       " 3541,\n",
       " 3544,\n",
       " 3551,\n",
       " 3553,\n",
       " 3561,\n",
       " 3566,\n",
       " 3568,\n",
       " 3575,\n",
       " 3584,\n",
       " 3587,\n",
       " 3599,\n",
       " 3609,\n",
       " 3610,\n",
       " 3612,\n",
       " 3619,\n",
       " 3633,\n",
       " 3635,\n",
       " 3648,\n",
       " 3654,\n",
       " 3660,\n",
       " 3661,\n",
       " 3675,\n",
       " 3683,\n",
       " 3690,\n",
       " 3691,\n",
       " 3708,\n",
       " 3722,\n",
       " 3732,\n",
       " 3742,\n",
       " 3743,\n",
       " 3757,\n",
       " 3759,\n",
       " 3802,\n",
       " 3809,\n",
       " 3829,\n",
       " 3833,\n",
       " 3839,\n",
       " 3862,\n",
       " 3865,\n",
       " 3874,\n",
       " 3886,\n",
       " 3888,\n",
       " 3891,\n",
       " 3897,\n",
       " 3901,\n",
       " 3903,\n",
       " 3907,\n",
       " 3913,\n",
       " 3948,\n",
       " 3954,\n",
       " 3968,\n",
       " 3979,\n",
       " 3992,\n",
       " 4001,\n",
       " 4009,\n",
       " 4013,\n",
       " 4020,\n",
       " 4036,\n",
       " 4049,\n",
       " 4052,\n",
       " 4064,\n",
       " 4073,\n",
       " 4078,\n",
       " 4081,\n",
       " 4086,\n",
       " 4096,\n",
       " 4108,\n",
       " 4115,\n",
       " 4124,\n",
       " 4132,\n",
       " 4139,\n",
       " 4149,\n",
       " 4152,\n",
       " 4156,\n",
       " 4182,\n",
       " 4196,\n",
       " 4197,\n",
       " 4203,\n",
       " 4206,\n",
       " 4211,\n",
       " 4216,\n",
       " 4245,\n",
       " 4257,\n",
       " 4277,\n",
       " 4278,\n",
       " 4285,\n",
       " 4309,\n",
       " 4316,\n",
       " 4320,\n",
       " 4322,\n",
       " 4344,\n",
       " 4372,\n",
       " 4376,\n",
       " 4388,\n",
       " 4400,\n",
       " 4418,\n",
       " 4437,\n",
       " 4476,\n",
       " 4477,\n",
       " 4480,\n",
       " 4504,\n",
       " 4508,\n",
       " 4517,\n",
       " 4527,\n",
       " 4529,\n",
       " 4536,\n",
       " 4550,\n",
       " 4553,\n",
       " 4564,\n",
       " 4585,\n",
       " 4596,\n",
       " 4626,\n",
       " 4634,\n",
       " 4650,\n",
       " 4658,\n",
       " 4699,\n",
       " 4739,\n",
       " 4770,\n",
       " 4777,\n",
       " 4782,\n",
       " 4784,\n",
       " 4789,\n",
       " 4809,\n",
       " 4847,\n",
       " 4849,\n",
       " 4851,\n",
       " 4852,\n",
       " 4875,\n",
       " 4899,\n",
       " 4928,\n",
       " 4938,\n",
       " 4945,\n",
       " 4959,\n",
       " 4974,\n",
       " 4977,\n",
       " 4979,\n",
       " 4999,\n",
       " 5007,\n",
       " 5009,\n",
       " 5014,\n",
       " 5033,\n",
       " 5036,\n",
       " 5042,\n",
       " 5049,\n",
       " 5053,\n",
       " 5056,\n",
       " 5058,\n",
       " 5062,\n",
       " 5063,\n",
       " 5072,\n",
       " 5076,\n",
       " 5081,\n",
       " 5086,\n",
       " 5112,\n",
       " 5124,\n",
       " 5143,\n",
       " 5147,\n",
       " 5172,\n",
       " 5176,\n",
       " 5179,\n",
       " 5180,\n",
       " 5191,\n",
       " 5203,\n",
       " 5212,\n",
       " 5216,\n",
       " 5229,\n",
       " 5232,\n",
       " 5244,\n",
       " 5257,\n",
       " 5277,\n",
       " 5279,\n",
       " 5305,\n",
       " 5310,\n",
       " 5318,\n",
       " 5329,\n",
       " 5334,\n",
       " 5338,\n",
       " 5348,\n",
       " 5355,\n",
       " 5368,\n",
       " 5376,\n",
       " 5380,\n",
       " 5383,\n",
       " 5385,\n",
       " 5394,\n",
       " 5395,\n",
       " 5411,\n",
       " 5442,\n",
       " 5476,\n",
       " 5489,\n",
       " 5511,\n",
       " 5517,\n",
       " 5520,\n",
       " 5521,\n",
       " 5530,\n",
       " 5534,\n",
       " 5537,\n",
       " 5550,\n",
       " 5557,\n",
       " 5558,\n",
       " 5565,\n",
       " 5567,\n",
       " 5583,\n",
       " 5609,\n",
       " 5617,\n",
       " 5623,\n",
       " 5632,\n",
       " 5648,\n",
       " 5657,\n",
       " 5681,\n",
       " 5683,\n",
       " 5690,\n",
       " 5695,\n",
       " 5724,\n",
       " 5740,\n",
       " 5748,\n",
       " 5771,\n",
       " 5777,\n",
       " 5795,\n",
       " 5800,\n",
       " 5802,\n",
       " 5810,\n",
       " 5815,\n",
       " 5823,\n",
       " 5843,\n",
       " 5865,\n",
       " 5869,\n",
       " 5893,\n",
       " 5899,\n",
       " 5904,\n",
       " 5936,\n",
       " 5938,\n",
       " 5948,\n",
       " 5971,\n",
       " 5972,\n",
       " 5987,\n",
       " 6048,\n",
       " 6049,\n",
       " 6050,\n",
       " 6055,\n",
       " 6057,\n",
       " 6061,\n",
       " 6068,\n",
       " 6077,\n",
       " 6086,\n",
       " 6097,\n",
       " 6098,\n",
       " 6104,\n",
       " 6106,\n",
       " 6119,\n",
       " 6152,\n",
       " 6163,\n",
       " 6198,\n",
       " 6215,\n",
       " 6217,\n",
       " 6237,\n",
       " 6255,\n",
       " 6264,\n",
       " 6304,\n",
       " 6312,\n",
       " 6314,\n",
       " 6324,\n",
       " 6349,\n",
       " 6350,\n",
       " 6363,\n",
       " 6365,\n",
       " 6366,\n",
       " 6391,\n",
       " 6397,\n",
       " 6411,\n",
       " 6415,\n",
       " 6416,\n",
       " 6417,\n",
       " 6431,\n",
       " 6452,\n",
       " 6461,\n",
       " 6481,\n",
       " 6485,\n",
       " 6486,\n",
       " 6489,\n",
       " 6492,\n",
       " 6496,\n",
       " 6510,\n",
       " 6526,\n",
       " 6529,\n",
       " 6533,\n",
       " 6537,\n",
       " 6541,\n",
       " 6544,\n",
       " 6599,\n",
       " 6626,\n",
       " 6641,\n",
       " 6655,\n",
       " 6660,\n",
       " 6663,\n",
       " 6670,\n",
       " 6674,\n",
       " 6676,\n",
       " 6683,\n",
       " 6690,\n",
       " 6693,\n",
       " 6697,\n",
       " 6718,\n",
       " 6725,\n",
       " 6730,\n",
       " 6737,\n",
       " 6740,\n",
       " 6752,\n",
       " 6762,\n",
       " 6774,\n",
       " 6777,\n",
       " 6840,\n",
       " 6877,\n",
       " 6891,\n",
       " 6895,\n",
       " 6915,\n",
       " 6917,\n",
       " 6924,\n",
       " 6949,\n",
       " 6958,\n",
       " 6972,\n",
       " 6973,\n",
       " 6985,\n",
       " 7000,\n",
       " 7002,\n",
       " 7020,\n",
       " 7025,\n",
       " 7040,\n",
       " 7043,\n",
       " 7050,\n",
       " 7058,\n",
       " 7059,\n",
       " 7079,\n",
       " 7088,\n",
       " 7097,\n",
       " 7098,\n",
       " 7103,\n",
       " 7130,\n",
       " 7151,\n",
       " 7158,\n",
       " 7159,\n",
       " 7193,\n",
       " 7199,\n",
       " 7203,\n",
       " 7204,\n",
       " 7205,\n",
       " 7228,\n",
       " 7267,\n",
       " 7285,\n",
       " 7299,\n",
       " 7310,\n",
       " 7313,\n",
       " 7314,\n",
       " 7315,\n",
       " 7323,\n",
       " 7328,\n",
       " 7376,\n",
       " 7379,\n",
       " 7399,\n",
       " 7405,\n",
       " 7416,\n",
       " 7417,\n",
       " 7420,\n",
       " 7424,\n",
       " 7440,\n",
       " 7450,\n",
       " 7451,\n",
       " 7453,\n",
       " 7470,\n",
       " 7474,\n",
       " 7479,\n",
       " 7482,\n",
       " 7486,\n",
       " 7494,\n",
       " 7501,\n",
       " 7502,\n",
       " 7507,\n",
       " 7508,\n",
       " 7514,\n",
       " 7517,\n",
       " 7528,\n",
       " 7537,\n",
       " 7539,\n",
       " 7544,\n",
       " 7547,\n",
       " 7559,\n",
       " 7564,\n",
       " 7565,\n",
       " 7573,\n",
       " 7574,\n",
       " 7579,\n",
       " 7585,\n",
       " 7600,\n",
       " 7606,\n",
       " 7615,\n",
       " 7623,\n",
       " 7632,\n",
       " 7674,\n",
       " 7680,\n",
       " 7692,\n",
       " 7695,\n",
       " 7730,\n",
       " 7749,\n",
       " 7752,\n",
       " 7808,\n",
       " 7815,\n",
       " 7835,\n",
       " 7836,\n",
       " 7856,\n",
       " 7894,\n",
       " 7901,\n",
       " 7904,\n",
       " 7909,\n",
       " 7913,\n",
       " 7921,\n",
       " 7938,\n",
       " 7941,\n",
       " 7952,\n",
       " 7959,\n",
       " 7977,\n",
       " 7983,\n",
       " 7995,\n",
       " 7999,\n",
       " 8006,\n",
       " 8011,\n",
       " 8015,\n",
       " 8016,\n",
       " 8023,\n",
       " 8033,\n",
       " 8042,\n",
       " 8051,\n",
       " 8054,\n",
       " 8058,\n",
       " 8062,\n",
       " 8067,\n",
       " 8068,\n",
       " 8086,\n",
       " 8120,\n",
       " 8125,\n",
       " 8128,\n",
       " 8142,\n",
       " 8143,\n",
       " 8149,\n",
       " 8153,\n",
       " 8169,\n",
       " 8178,\n",
       " 8179,\n",
       " 8181,\n",
       " 8189,\n",
       " 8203,\n",
       " 8233,\n",
       " 8247,\n",
       " 8261,\n",
       " 8283,\n",
       " 8291,\n",
       " 8294,\n",
       " 8300,\n",
       " 8301,\n",
       " 8348,\n",
       " 8356,\n",
       " 8360,\n",
       " 8370,\n",
       " 8408,\n",
       " 8411,\n",
       " 8423,\n",
       " 8426,\n",
       " 8430,\n",
       " 8432,\n",
       " 8434,\n",
       " 8444,\n",
       " 8446,\n",
       " 8447,\n",
       " 8448,\n",
       " 8456,\n",
       " 8460,\n",
       " 8471,\n",
       " 8473,\n",
       " 8490,\n",
       " 8493,\n",
       " 8499,\n",
       " 8501,\n",
       " 8503,\n",
       " 8511,\n",
       " 8567,\n",
       " 8574,\n",
       " 8583,\n",
       " 8604,\n",
       " 8612,\n",
       " 8616,\n",
       " 8629,\n",
       " 8633,\n",
       " 8665,\n",
       " 8680,\n",
       " 8681,\n",
       " 8707,\n",
       " 8715,\n",
       " 8726,\n",
       " 8733,\n",
       " 8743,\n",
       " 8748,\n",
       " 8752,\n",
       " 8766,\n",
       " 8767,\n",
       " 8791,\n",
       " 8817,\n",
       " 8834,\n",
       " 8835,\n",
       " 8841,\n",
       " 8842,\n",
       " 8846,\n",
       " 8853,\n",
       " 8857,\n",
       " 8870,\n",
       " 8886,\n",
       " 8888,\n",
       " 8897,\n",
       " 8903,\n",
       " 8912,\n",
       " 8920,\n",
       " 8927,\n",
       " 8952,\n",
       " 8963,\n",
       " 9009,\n",
       " 9013,\n",
       " 9026,\n",
       " 9029,\n",
       " 9037,\n",
       " 9068,\n",
       " 9078,\n",
       " 9080,\n",
       " 9081,\n",
       " 9086,\n",
       " 9096,\n",
       " 9108,\n",
       " 9118,\n",
       " 9131,\n",
       " 9134,\n",
       " 9143,\n",
       " 9153,\n",
       " 9172,\n",
       " 9183,\n",
       " 9187,\n",
       " 9192,\n",
       " 9193,\n",
       " 9197,\n",
       " 9220,\n",
       " 9238,\n",
       " 9241,\n",
       " 9253,\n",
       " 9262,\n",
       " 9268,\n",
       " 9278,\n",
       " 9284,\n",
       " 9287,\n",
       " 9301,\n",
       " 9303,\n",
       " 9349,\n",
       " 9374,\n",
       " 9381,\n",
       " 9387,\n",
       " 9395,\n",
       " 9399,\n",
       " 9405,\n",
       " 9427,\n",
       " 9437,\n",
       " 9439,\n",
       " 9446,\n",
       " 9449,\n",
       " 9479,\n",
       " 9491,\n",
       " 9495,\n",
       " 9508,\n",
       " 9526,\n",
       " 9527,\n",
       " 9528,\n",
       " 9530,\n",
       " 9537,\n",
       " 9542,\n",
       " 9544,\n",
       " 9548,\n",
       " 9558,\n",
       " 9573,\n",
       " 9582,\n",
       " 9583,\n",
       " 9591,\n",
       " 9592,\n",
       " 9593,\n",
       " 9597,\n",
       " 9604,\n",
       " 9607,\n",
       " 9621,\n",
       " 9623,\n",
       " 9626,\n",
       " 9627,\n",
       " 9628,\n",
       " 9671,\n",
       " 9672,\n",
       " 9678,\n",
       " 9682,\n",
       " 9699,\n",
       " 9711,\n",
       " 9725,\n",
       " 9739,\n",
       " 9748,\n",
       " 9759,\n",
       " 9785,\n",
       " 9789,\n",
       " 9795,\n",
       " 9813,\n",
       " 9814,\n",
       " 9820,\n",
       " 9822,\n",
       " 9836,\n",
       " 9838,\n",
       " 9845,\n",
       " 9847,\n",
       " 9848,\n",
       " 9850,\n",
       " 9855,\n",
       " 9869,\n",
       " 9870,\n",
       " 9883,\n",
       " 9884,\n",
       " 9900,\n",
       " 9910,\n",
       " 9914,\n",
       " 9920,\n",
       " 9929,\n",
       " 9951,\n",
       " 9958,\n",
       " 9961,\n",
       " 9982,\n",
       " 9991,\n",
       " 9997,\n",
       " 10008,\n",
       " 10013,\n",
       " 10019,\n",
       " 10037,\n",
       " 10042,\n",
       " 10053,\n",
       " 10059,\n",
       " 10076,\n",
       " 10083,\n",
       " 10090,\n",
       " 10136,\n",
       " 10137,\n",
       " 10141,\n",
       " 10145,\n",
       " 10155,\n",
       " 10158,\n",
       " 10197,\n",
       " 10227,\n",
       " 10229,\n",
       " 10243,\n",
       " 10246,\n",
       " 10268,\n",
       " 10270,\n",
       " 10271,\n",
       " 10286,\n",
       " 10292,\n",
       " 10310,\n",
       " ...]"
      ]
     },
     "execution_count": 28,
     "metadata": {},
     "output_type": "execute_result"
    }
   ],
   "source": [
    "index_total_income_nan = df[df['total_income'].isna() == True].index.tolist() # список вcех индексов с NaN\n",
    "index_total_income_nan"
   ]
  },
  {
   "cell_type": "code",
   "execution_count": 29,
   "metadata": {},
   "outputs": [],
   "source": [
    "for i in unique_type:   \n",
    "    avg = df[(df[\"income_type\"] == i) & (df[\"total_income\"]).notna()][\"total_income\"].mean()\n",
    "    df.loc[(df[\"income_type\"] == i) & (df[\"total_income\"]).isna(), \"total_income\"] = avg"
   ]
  },
  {
   "cell_type": "code",
   "execution_count": 30,
   "metadata": {},
   "outputs": [
    {
     "data": {
      "text/html": [
       "<div>\n",
       "<style scoped>\n",
       "    .dataframe tbody tr th:only-of-type {\n",
       "        vertical-align: middle;\n",
       "    }\n",
       "\n",
       "    .dataframe tbody tr th {\n",
       "        vertical-align: top;\n",
       "    }\n",
       "\n",
       "    .dataframe thead th {\n",
       "        text-align: right;\n",
       "    }\n",
       "</style>\n",
       "<table border=\"1\" class=\"dataframe\">\n",
       "  <thead>\n",
       "    <tr style=\"text-align: right;\">\n",
       "      <th></th>\n",
       "      <th>children</th>\n",
       "      <th>days_employed</th>\n",
       "      <th>dob_years</th>\n",
       "      <th>education</th>\n",
       "      <th>education_id</th>\n",
       "      <th>family_status</th>\n",
       "      <th>family_status_id</th>\n",
       "      <th>gender</th>\n",
       "      <th>income_type</th>\n",
       "      <th>debt</th>\n",
       "      <th>total_income</th>\n",
       "      <th>purpose</th>\n",
       "    </tr>\n",
       "  </thead>\n",
       "  <tbody>\n",
       "  </tbody>\n",
       "</table>\n",
       "</div>"
      ],
      "text/plain": [
       "Empty DataFrame\n",
       "Columns: [children, days_employed, dob_years, education, education_id, family_status, family_status_id, gender, income_type, debt, total_income, purpose]\n",
       "Index: []"
      ]
     },
     "execution_count": 30,
     "metadata": {},
     "output_type": "execute_result"
    }
   ],
   "source": [
    "df[df['total_income'].isna()]"
   ]
  },
  {
   "cell_type": "code",
   "execution_count": 31,
   "metadata": {},
   "outputs": [],
   "source": [
    "df['days_employed'] = df['days_employed'].fillna(-1)\n",
    "df['total_income'] = df['total_income'].fillna(-1)"
   ]
  },
  {
   "cell_type": "code",
   "execution_count": 32,
   "metadata": {},
   "outputs": [
    {
     "data": {
      "text/html": [
       "<div>\n",
       "<style scoped>\n",
       "    .dataframe tbody tr th:only-of-type {\n",
       "        vertical-align: middle;\n",
       "    }\n",
       "\n",
       "    .dataframe tbody tr th {\n",
       "        vertical-align: top;\n",
       "    }\n",
       "\n",
       "    .dataframe thead th {\n",
       "        text-align: right;\n",
       "    }\n",
       "</style>\n",
       "<table border=\"1\" class=\"dataframe\">\n",
       "  <thead>\n",
       "    <tr style=\"text-align: right;\">\n",
       "      <th></th>\n",
       "      <th>children</th>\n",
       "      <th>days_employed</th>\n",
       "      <th>dob_years</th>\n",
       "      <th>education</th>\n",
       "      <th>education_id</th>\n",
       "      <th>family_status</th>\n",
       "      <th>family_status_id</th>\n",
       "      <th>gender</th>\n",
       "      <th>income_type</th>\n",
       "      <th>debt</th>\n",
       "      <th>total_income</th>\n",
       "      <th>purpose</th>\n",
       "    </tr>\n",
       "  </thead>\n",
       "  <tbody>\n",
       "  </tbody>\n",
       "</table>\n",
       "</div>"
      ],
      "text/plain": [
       "Empty DataFrame\n",
       "Columns: [children, days_employed, dob_years, education, education_id, family_status, family_status_id, gender, income_type, debt, total_income, purpose]\n",
       "Index: []"
      ]
     },
     "execution_count": 32,
     "metadata": {},
     "output_type": "execute_result"
    }
   ],
   "source": [
    "df[df['total_income'] == -1]"
   ]
  },
  {
   "cell_type": "code",
   "execution_count": 33,
   "metadata": {},
   "outputs": [],
   "source": [
    "def fill_income(row):\n",
    "    total_income = row['total_income']\n",
    "    income_type = row['income_type']\n",
    "    if total_income == -1:      \n",
    "        return income_type_to_median[income_type]\n",
    "    return total_income\n",
    "  \n",
    "income_type_to_median = df.groupby(\"income_type\").median()[\"total_income\"].to_dict()    \n",
    "       \n",
    "df['total_income'] = df.apply(fill_income, axis=1)"
   ]
  },
  {
   "cell_type": "code",
   "execution_count": 34,
   "metadata": {},
   "outputs": [
    {
     "data": {
      "text/html": [
       "<div>\n",
       "<style scoped>\n",
       "    .dataframe tbody tr th:only-of-type {\n",
       "        vertical-align: middle;\n",
       "    }\n",
       "\n",
       "    .dataframe tbody tr th {\n",
       "        vertical-align: top;\n",
       "    }\n",
       "\n",
       "    .dataframe thead th {\n",
       "        text-align: right;\n",
       "    }\n",
       "</style>\n",
       "<table border=\"1\" class=\"dataframe\">\n",
       "  <thead>\n",
       "    <tr style=\"text-align: right;\">\n",
       "      <th></th>\n",
       "      <th>children</th>\n",
       "      <th>days_employed</th>\n",
       "      <th>dob_years</th>\n",
       "      <th>education</th>\n",
       "      <th>education_id</th>\n",
       "      <th>family_status</th>\n",
       "      <th>family_status_id</th>\n",
       "      <th>gender</th>\n",
       "      <th>income_type</th>\n",
       "      <th>debt</th>\n",
       "      <th>total_income</th>\n",
       "      <th>purpose</th>\n",
       "    </tr>\n",
       "  </thead>\n",
       "  <tbody>\n",
       "  </tbody>\n",
       "</table>\n",
       "</div>"
      ],
      "text/plain": [
       "Empty DataFrame\n",
       "Columns: [children, days_employed, dob_years, education, education_id, family_status, family_status_id, gender, income_type, debt, total_income, purpose]\n",
       "Index: []"
      ]
     },
     "execution_count": 34,
     "metadata": {},
     "output_type": "execute_result"
    }
   ],
   "source": [
    "df[df['total_income'] == -1]"
   ]
  },
  {
   "cell_type": "markdown",
   "metadata": {},
   "source": [
    "<font color='gray'>#Заметим, что у безработных и предпринимателей общий трудовой стаж в днях зашкаливает , однако эти данные не влияют на наш анализ "
   ]
  },
  {
   "cell_type": "code",
   "execution_count": 35,
   "metadata": {},
   "outputs": [
    {
     "data": {
      "text/plain": [
       "children            0\n",
       "days_employed       0\n",
       "dob_years           0\n",
       "education           0\n",
       "education_id        0\n",
       "family_status       0\n",
       "family_status_id    0\n",
       "gender              0\n",
       "income_type         0\n",
       "debt                0\n",
       "total_income        0\n",
       "purpose             0\n",
       "dtype: int64"
      ]
     },
     "execution_count": 35,
     "metadata": {},
     "output_type": "execute_result"
    }
   ],
   "source": [
    "df.isnull().sum()"
   ]
  },
  {
   "cell_type": "markdown",
   "metadata": {},
   "source": [
    "<font color='gray'>#Пропусков больше нет"
   ]
  },
  {
   "cell_type": "markdown",
   "metadata": {},
   "source": [
    "### Вывод"
   ]
  },
  {
   "cell_type": "markdown",
   "metadata": {},
   "source": [
    "<font color='gray'>#Пропуски могли возникнуть из-за потери данных или по причине неофициального трудоустройства клиента "
   ]
  },
  {
   "cell_type": "markdown",
   "metadata": {},
   "source": [
    "### Замена типа данных"
   ]
  },
  {
   "cell_type": "markdown",
   "metadata": {},
   "source": [
    "<font color='gray'>#После заполнения пропусков стала возможна процедура перевода типа данных"
   ]
  },
  {
   "cell_type": "code",
   "execution_count": 36,
   "metadata": {},
   "outputs": [
    {
     "name": "stdout",
     "output_type": "stream",
     "text": [
      "children            0\n",
      "days_employed       0\n",
      "dob_years           0\n",
      "education           0\n",
      "education_id        0\n",
      "family_status       0\n",
      "family_status_id    0\n",
      "gender              0\n",
      "income_type         0\n",
      "debt                0\n",
      "total_income        0\n",
      "purpose             0\n",
      "dtype: int64\n",
      "<class 'pandas.core.frame.DataFrame'>\n",
      "RangeIndex: 21525 entries, 0 to 21524\n",
      "Data columns (total 12 columns):\n",
      " #   Column            Non-Null Count  Dtype \n",
      "---  ------            --------------  ----- \n",
      " 0   children          21525 non-null  int64 \n",
      " 1   days_employed     21525 non-null  int32 \n",
      " 2   dob_years         21525 non-null  int64 \n",
      " 3   education         21525 non-null  object\n",
      " 4   education_id      21525 non-null  int64 \n",
      " 5   family_status     21525 non-null  object\n",
      " 6   family_status_id  21525 non-null  int64 \n",
      " 7   gender            21525 non-null  object\n",
      " 8   income_type       21525 non-null  object\n",
      " 9   debt              21525 non-null  int64 \n",
      " 10  total_income      21525 non-null  int32 \n",
      " 11  purpose           21525 non-null  object\n",
      "dtypes: int32(2), int64(5), object(5)\n",
      "memory usage: 1.8+ MB\n"
     ]
    }
   ],
   "source": [
    "df['days_employed'] = df['days_employed'].astype('int')\n",
    "\n",
    "df['total_income'] = df['total_income'].astype('int')\n",
    "\n",
    "print(df.isnull().sum())\n",
    "df.info()"
   ]
  },
  {
   "cell_type": "markdown",
   "metadata": {},
   "source": [
    "### Вывод"
   ]
  },
  {
   "cell_type": "markdown",
   "metadata": {},
   "source": [
    "<font color='gray'>#Теперь таблица не режет глаза кучей знаков после запятой "
   ]
  },
  {
   "cell_type": "markdown",
   "metadata": {},
   "source": [
    "### Обработка дубликатов"
   ]
  },
  {
   "cell_type": "markdown",
   "metadata": {},
   "source": [
    "<font color='gray'>#Проверим наличие дубликатов с учетом регистра "
   ]
  },
  {
   "cell_type": "code",
   "execution_count": 37,
   "metadata": {},
   "outputs": [
    {
     "data": {
      "text/html": [
       "<div>\n",
       "<style scoped>\n",
       "    .dataframe tbody tr th:only-of-type {\n",
       "        vertical-align: middle;\n",
       "    }\n",
       "\n",
       "    .dataframe tbody tr th {\n",
       "        vertical-align: top;\n",
       "    }\n",
       "\n",
       "    .dataframe thead th {\n",
       "        text-align: right;\n",
       "    }\n",
       "</style>\n",
       "<table border=\"1\" class=\"dataframe\">\n",
       "  <thead>\n",
       "    <tr style=\"text-align: right;\">\n",
       "      <th></th>\n",
       "      <th>children</th>\n",
       "      <th>days_employed</th>\n",
       "      <th>dob_years</th>\n",
       "      <th>education</th>\n",
       "      <th>education_id</th>\n",
       "      <th>family_status</th>\n",
       "      <th>family_status_id</th>\n",
       "      <th>gender</th>\n",
       "      <th>income_type</th>\n",
       "      <th>debt</th>\n",
       "      <th>total_income</th>\n",
       "      <th>purpose</th>\n",
       "    </tr>\n",
       "  </thead>\n",
       "  <tbody>\n",
       "    <tr>\n",
       "      <th>120</th>\n",
       "      <td>0</td>\n",
       "      <td>-1</td>\n",
       "      <td>46</td>\n",
       "      <td>среднее</td>\n",
       "      <td>1</td>\n",
       "      <td>женат / замужем</td>\n",
       "      <td>0</td>\n",
       "      <td>f</td>\n",
       "      <td>сотрудник</td>\n",
       "      <td>0</td>\n",
       "      <td>161380</td>\n",
       "      <td>высшее образование</td>\n",
       "    </tr>\n",
       "    <tr>\n",
       "      <th>520</th>\n",
       "      <td>0</td>\n",
       "      <td>-1</td>\n",
       "      <td>35</td>\n",
       "      <td>среднее</td>\n",
       "      <td>1</td>\n",
       "      <td>гражданский брак</td>\n",
       "      <td>1</td>\n",
       "      <td>f</td>\n",
       "      <td>сотрудник</td>\n",
       "      <td>0</td>\n",
       "      <td>161380</td>\n",
       "      <td>сыграть свадьбу</td>\n",
       "    </tr>\n",
       "    <tr>\n",
       "      <th>541</th>\n",
       "      <td>0</td>\n",
       "      <td>-1</td>\n",
       "      <td>57</td>\n",
       "      <td>среднее</td>\n",
       "      <td>1</td>\n",
       "      <td>женат / замужем</td>\n",
       "      <td>0</td>\n",
       "      <td>f</td>\n",
       "      <td>сотрудник</td>\n",
       "      <td>0</td>\n",
       "      <td>161380</td>\n",
       "      <td>сделка с подержанным автомобилем</td>\n",
       "    </tr>\n",
       "    <tr>\n",
       "      <th>554</th>\n",
       "      <td>0</td>\n",
       "      <td>-1</td>\n",
       "      <td>60</td>\n",
       "      <td>среднее</td>\n",
       "      <td>1</td>\n",
       "      <td>женат / замужем</td>\n",
       "      <td>0</td>\n",
       "      <td>m</td>\n",
       "      <td>сотрудник</td>\n",
       "      <td>0</td>\n",
       "      <td>161380</td>\n",
       "      <td>покупка недвижимости</td>\n",
       "    </tr>\n",
       "    <tr>\n",
       "      <th>680</th>\n",
       "      <td>1</td>\n",
       "      <td>-1</td>\n",
       "      <td>30</td>\n",
       "      <td>высшее</td>\n",
       "      <td>0</td>\n",
       "      <td>женат / замужем</td>\n",
       "      <td>0</td>\n",
       "      <td>f</td>\n",
       "      <td>госслужащий</td>\n",
       "      <td>0</td>\n",
       "      <td>170898</td>\n",
       "      <td>покупка жилья для семьи</td>\n",
       "    </tr>\n",
       "    <tr>\n",
       "      <th>...</th>\n",
       "      <td>...</td>\n",
       "      <td>...</td>\n",
       "      <td>...</td>\n",
       "      <td>...</td>\n",
       "      <td>...</td>\n",
       "      <td>...</td>\n",
       "      <td>...</td>\n",
       "      <td>...</td>\n",
       "      <td>...</td>\n",
       "      <td>...</td>\n",
       "      <td>...</td>\n",
       "      <td>...</td>\n",
       "    </tr>\n",
       "    <tr>\n",
       "      <th>20702</th>\n",
       "      <td>0</td>\n",
       "      <td>-1</td>\n",
       "      <td>64</td>\n",
       "      <td>среднее</td>\n",
       "      <td>1</td>\n",
       "      <td>женат / замужем</td>\n",
       "      <td>0</td>\n",
       "      <td>f</td>\n",
       "      <td>пенсионер</td>\n",
       "      <td>0</td>\n",
       "      <td>137127</td>\n",
       "      <td>дополнительное образование</td>\n",
       "    </tr>\n",
       "    <tr>\n",
       "      <th>21032</th>\n",
       "      <td>0</td>\n",
       "      <td>-1</td>\n",
       "      <td>60</td>\n",
       "      <td>среднее</td>\n",
       "      <td>1</td>\n",
       "      <td>женат / замужем</td>\n",
       "      <td>0</td>\n",
       "      <td>f</td>\n",
       "      <td>пенсионер</td>\n",
       "      <td>0</td>\n",
       "      <td>137127</td>\n",
       "      <td>заняться образованием</td>\n",
       "    </tr>\n",
       "    <tr>\n",
       "      <th>21132</th>\n",
       "      <td>0</td>\n",
       "      <td>-1</td>\n",
       "      <td>47</td>\n",
       "      <td>среднее</td>\n",
       "      <td>1</td>\n",
       "      <td>женат / замужем</td>\n",
       "      <td>0</td>\n",
       "      <td>f</td>\n",
       "      <td>сотрудник</td>\n",
       "      <td>0</td>\n",
       "      <td>161380</td>\n",
       "      <td>ремонт жилью</td>\n",
       "    </tr>\n",
       "    <tr>\n",
       "      <th>21281</th>\n",
       "      <td>1</td>\n",
       "      <td>-1</td>\n",
       "      <td>30</td>\n",
       "      <td>высшее</td>\n",
       "      <td>0</td>\n",
       "      <td>женат / замужем</td>\n",
       "      <td>0</td>\n",
       "      <td>f</td>\n",
       "      <td>сотрудник</td>\n",
       "      <td>0</td>\n",
       "      <td>161380</td>\n",
       "      <td>покупка коммерческой недвижимости</td>\n",
       "    </tr>\n",
       "    <tr>\n",
       "      <th>21415</th>\n",
       "      <td>0</td>\n",
       "      <td>-1</td>\n",
       "      <td>54</td>\n",
       "      <td>среднее</td>\n",
       "      <td>1</td>\n",
       "      <td>женат / замужем</td>\n",
       "      <td>0</td>\n",
       "      <td>f</td>\n",
       "      <td>пенсионер</td>\n",
       "      <td>0</td>\n",
       "      <td>137127</td>\n",
       "      <td>операции с жильем</td>\n",
       "    </tr>\n",
       "  </tbody>\n",
       "</table>\n",
       "<p>137 rows × 12 columns</p>\n",
       "</div>"
      ],
      "text/plain": [
       "       children  days_employed  dob_years education  education_id  \\\n",
       "120           0             -1         46   среднее             1   \n",
       "520           0             -1         35   среднее             1   \n",
       "541           0             -1         57   среднее             1   \n",
       "554           0             -1         60   среднее             1   \n",
       "680           1             -1         30    высшее             0   \n",
       "...         ...            ...        ...       ...           ...   \n",
       "20702         0             -1         64   среднее             1   \n",
       "21032         0             -1         60   среднее             1   \n",
       "21132         0             -1         47   среднее             1   \n",
       "21281         1             -1         30    высшее             0   \n",
       "21415         0             -1         54   среднее             1   \n",
       "\n",
       "          family_status  family_status_id gender  income_type  debt  \\\n",
       "120     женат / замужем                 0      f    сотрудник     0   \n",
       "520    гражданский брак                 1      f    сотрудник     0   \n",
       "541     женат / замужем                 0      f    сотрудник     0   \n",
       "554     женат / замужем                 0      m    сотрудник     0   \n",
       "680     женат / замужем                 0      f  госслужащий     0   \n",
       "...                 ...               ...    ...          ...   ...   \n",
       "20702   женат / замужем                 0      f    пенсионер     0   \n",
       "21032   женат / замужем                 0      f    пенсионер     0   \n",
       "21132   женат / замужем                 0      f    сотрудник     0   \n",
       "21281   женат / замужем                 0      f    сотрудник     0   \n",
       "21415   женат / замужем                 0      f    пенсионер     0   \n",
       "\n",
       "       total_income                            purpose  \n",
       "120          161380                 высшее образование  \n",
       "520          161380                    сыграть свадьбу  \n",
       "541          161380   сделка с подержанным автомобилем  \n",
       "554          161380               покупка недвижимости  \n",
       "680          170898            покупка жилья для семьи  \n",
       "...             ...                                ...  \n",
       "20702        137127         дополнительное образование  \n",
       "21032        137127              заняться образованием  \n",
       "21132        161380                       ремонт жилью  \n",
       "21281        161380  покупка коммерческой недвижимости  \n",
       "21415        137127                  операции с жильем  \n",
       "\n",
       "[137 rows x 12 columns]"
      ]
     },
     "execution_count": 37,
     "metadata": {},
     "output_type": "execute_result"
    }
   ],
   "source": [
    "df['education']=df['education'].str.lower()\n",
    "df['family_status']=df['family_status'].str.lower()\n",
    "df['gender']=df['gender'].str.lower()\n",
    "df['income_type']=df['income_type'].str.lower()\n",
    "df['purpose']=df['purpose'].str.lower()\n",
    "df[df.duplicated(keep=False)]"
   ]
  },
  {
   "cell_type": "markdown",
   "metadata": {},
   "source": [
    "<font color='gray'>#Удалим дубликаты и оставшиеся после этого пропуски"
   ]
  },
  {
   "cell_type": "code",
   "execution_count": 38,
   "metadata": {},
   "outputs": [],
   "source": [
    "df=df.drop_duplicates().dropna().reset_index(drop=True)"
   ]
  },
  {
   "cell_type": "markdown",
   "metadata": {},
   "source": [
    "<font color='gray'>#Проверим наличие дубликатов "
   ]
  },
  {
   "cell_type": "code",
   "execution_count": 39,
   "metadata": {},
   "outputs": [
    {
     "data": {
      "text/html": [
       "<div>\n",
       "<style scoped>\n",
       "    .dataframe tbody tr th:only-of-type {\n",
       "        vertical-align: middle;\n",
       "    }\n",
       "\n",
       "    .dataframe tbody tr th {\n",
       "        vertical-align: top;\n",
       "    }\n",
       "\n",
       "    .dataframe thead th {\n",
       "        text-align: right;\n",
       "    }\n",
       "</style>\n",
       "<table border=\"1\" class=\"dataframe\">\n",
       "  <thead>\n",
       "    <tr style=\"text-align: right;\">\n",
       "      <th></th>\n",
       "      <th>children</th>\n",
       "      <th>days_employed</th>\n",
       "      <th>dob_years</th>\n",
       "      <th>education</th>\n",
       "      <th>education_id</th>\n",
       "      <th>family_status</th>\n",
       "      <th>family_status_id</th>\n",
       "      <th>gender</th>\n",
       "      <th>income_type</th>\n",
       "      <th>debt</th>\n",
       "      <th>total_income</th>\n",
       "      <th>purpose</th>\n",
       "    </tr>\n",
       "  </thead>\n",
       "  <tbody>\n",
       "  </tbody>\n",
       "</table>\n",
       "</div>"
      ],
      "text/plain": [
       "Empty DataFrame\n",
       "Columns: [children, days_employed, dob_years, education, education_id, family_status, family_status_id, gender, income_type, debt, total_income, purpose]\n",
       "Index: []"
      ]
     },
     "execution_count": 39,
     "metadata": {},
     "output_type": "execute_result"
    }
   ],
   "source": [
    "df[df.duplicated(keep=False)]"
   ]
  },
  {
   "cell_type": "markdown",
   "metadata": {},
   "source": [
    "### Вывод"
   ]
  },
  {
   "cell_type": "markdown",
   "metadata": {},
   "source": [
    "<font color='gray'>#Странно, что все дубликаты до этого имели nan в столбцах days_employed и total_income. Возможно это связано с какой-то технической ошибкой, связанныой с отсутствием ответа на запрос по рабочим дням и зп"
   ]
  },
  {
   "cell_type": "markdown",
   "metadata": {},
   "source": [
    "<font color='gray'>#Вероятно эти дубликаты на деле представляют из себя разных клиентов и доход - это как раз тот показатель, который их дифференцировал. Но, так как он отсутствует, эти клиенты превратились в дубликаты."
   ]
  },
  {
   "cell_type": "markdown",
   "metadata": {},
   "source": [
    "### Лемматизация"
   ]
  },
  {
   "cell_type": "markdown",
   "metadata": {},
   "source": [
    "<font color='gray'>#Выполним лемматизацию и добавим результат в новый столбец purpose_lemms"
   ]
  },
  {
   "cell_type": "code",
   "execution_count": 40,
   "metadata": {},
   "outputs": [
    {
     "name": "stdout",
     "output_type": "stream",
     "text": [
      "Requirement already satisfied: pymystem3 in c:\\programdata\\anaconda3\\lib\\site-packages (0.2.0)\n",
      "Requirement already satisfied: requests in c:\\programdata\\anaconda3\\lib\\site-packages (from pymystem3) (2.22.0)\n",
      "Requirement already satisfied: urllib3!=1.25.0,!=1.25.1,<1.26,>=1.21.1 in c:\\programdata\\anaconda3\\lib\\site-packages (from requests->pymystem3) (1.25.8)\n",
      "Requirement already satisfied: certifi>=2017.4.17 in c:\\programdata\\anaconda3\\lib\\site-packages (from requests->pymystem3) (2019.11.28)\n",
      "Requirement already satisfied: chardet<3.1.0,>=3.0.2 in c:\\programdata\\anaconda3\\lib\\site-packages (from requests->pymystem3) (3.0.4)\n",
      "Requirement already satisfied: idna<2.9,>=2.5 in c:\\programdata\\anaconda3\\lib\\site-packages (from requests->pymystem3) (2.8)\n",
      "Note: you may need to restart the kernel to use updated packages.\n"
     ]
    }
   ],
   "source": [
    "pip install pymystem3"
   ]
  },
  {
   "cell_type": "code",
   "execution_count": 41,
   "metadata": {},
   "outputs": [],
   "source": [
    "import pandas as pd\n",
    "from pymystem3 import Mystem\n",
    "m = Mystem()"
   ]
  },
  {
   "cell_type": "code",
   "execution_count": 42,
   "metadata": {},
   "outputs": [],
   "source": [
    "def lemmas_df(column):\n",
    "    column = m.lemmatize(column)\n",
    "    return column"
   ]
  },
  {
   "cell_type": "code",
   "execution_count": null,
   "metadata": {},
   "outputs": [],
   "source": [
    "df['purpose_lemms'] = df['purpose'].apply(lemmas_df)"
   ]
  },
  {
   "cell_type": "code",
   "execution_count": null,
   "metadata": {},
   "outputs": [],
   "source": [
    "df"
   ]
  },
  {
   "cell_type": "code",
   "execution_count": null,
   "metadata": {},
   "outputs": [],
   "source": [
    "df['purpose'].unique()"
   ]
  },
  {
   "cell_type": "markdown",
   "metadata": {},
   "source": [
    "### Категоризация данных"
   ]
  },
  {
   "cell_type": "code",
   "execution_count": null,
   "metadata": {},
   "outputs": [],
   "source": [
    "categorize=[]\n",
    "for i in range(0, len(df['purpose'])):\n",
    "    len_querys = df.loc[i,'purpose_lemms']\n",
    "    for query in len_querys:\n",
    "        categorize.append(query)"
   ]
  },
  {
   "cell_type": "code",
   "execution_count": null,
   "metadata": {},
   "outputs": [],
   "source": [
    "from collections import Counter\n",
    "print(Counter(categorize))"
   ]
  },
  {
   "cell_type": "code",
   "execution_count": null,
   "metadata": {},
   "outputs": [],
   "source": [
    "categorize"
   ]
  },
  {
   "cell_type": "markdown",
   "metadata": {},
   "source": [
    "<font color='gray'>#Выделим 4 категории: недвижимость, автомобиль, образование, свадьба"
   ]
  },
  {
   "cell_type": "markdown",
   "metadata": {},
   "source": [
    "<font color='gray'>#Создадим новый столбец с категорией целей кредита по столбцу лемм"
   ]
  },
  {
   "cell_type": "code",
   "execution_count": null,
   "metadata": {},
   "outputs": [],
   "source": [
    "def purpose_kat(purpose_row):\n",
    "    for purpose_kat_name in purpose_row:\n",
    "        if purpose_kat_name == 'недвижимость' or purpose_kat_name == 'жилье':\n",
    "            return 'недвижимость'\n",
    "        if purpose_kat_name == 'автомобиль':\n",
    "            return 'автомобиль'\n",
    "        if purpose_kat_name == 'образование':\n",
    "            return 'образование'\n",
    "        if purpose_kat_name == 'свадьба':\n",
    "            return 'свадьба'\n",
    "\n",
    "df['purpose_kat'] = df['purpose_lemms'].apply(purpose_kat)        "
   ]
  },
  {
   "cell_type": "code",
   "execution_count": null,
   "metadata": {},
   "outputs": [],
   "source": [
    "df.head(10)"
   ]
  },
  {
   "cell_type": "code",
   "execution_count": null,
   "metadata": {},
   "outputs": [],
   "source": [
    "df['purpose_kat'].unique()"
   ]
  },
  {
   "cell_type": "markdown",
   "metadata": {},
   "source": [
    "<font color='gray'>#Сохраним df на всякий случай и удалим из него purpose_lemms за ненадобностью"
   ]
  },
  {
   "cell_type": "code",
   "execution_count": null,
   "metadata": {},
   "outputs": [],
   "source": [
    "import copy\n",
    "df_with_lem = copy.deepcopy(df)"
   ]
  },
  {
   "cell_type": "code",
   "execution_count": null,
   "metadata": {},
   "outputs": [],
   "source": [
    "del df['purpose_lemms']"
   ]
  },
  {
   "cell_type": "code",
   "execution_count": null,
   "metadata": {},
   "outputs": [],
   "source": [
    "df"
   ]
  },
  {
   "cell_type": "markdown",
   "metadata": {},
   "source": [
    "### Вывод"
   ]
  },
  {
   "cell_type": "markdown",
   "metadata": {},
   "source": [
    "<font color='gray'>#Теперь проще будет искать зависимости"
   ]
  },
  {
   "cell_type": "markdown",
   "metadata": {},
   "source": [
    "---"
   ]
  },
  {
   "cell_type": "markdown",
   "metadata": {},
   "source": [
    "<font color='gray'>#Уберем выбросы "
   ]
  },
  {
   "cell_type": "markdown",
   "metadata": {},
   "source": [
    "<font color='gray'>#Предполагая, что -1, 20 получилось из за неправильного заполнения таблицы "
   ]
  },
  {
   "cell_type": "code",
   "execution_count": null,
   "metadata": {},
   "outputs": [],
   "source": [
    "df.groupby('children')['debt'].count()"
   ]
  },
  {
   "cell_type": "code",
   "execution_count": null,
   "metadata": {},
   "outputs": [],
   "source": [
    "df['debt'].unique()"
   ]
  },
  {
   "cell_type": "code",
   "execution_count": null,
   "metadata": {},
   "outputs": [],
   "source": [
    "#df[df['children'] == -1]['children'] = 1"
   ]
  },
  {
   "cell_type": "code",
   "execution_count": null,
   "metadata": {},
   "outputs": [],
   "source": [
    "#df[df['children'] == 20]['children'] = 2"
   ]
  },
  {
   "cell_type": "markdown",
   "metadata": {},
   "source": [
    "<font color='gray'>#Предупреждение говорит нам сделать подругому"
   ]
  },
  {
   "cell_type": "code",
   "execution_count": null,
   "metadata": {},
   "outputs": [],
   "source": [
    "df.loc[df['children'] == -1, 'children'] = 1"
   ]
  },
  {
   "cell_type": "code",
   "execution_count": null,
   "metadata": {},
   "outputs": [],
   "source": [
    "df.loc[df['children'] == 20, 'children'] = 2"
   ]
  },
  {
   "cell_type": "code",
   "execution_count": null,
   "metadata": {},
   "outputs": [],
   "source": [
    "df['children'].unique()"
   ]
  },
  {
   "cell_type": "markdown",
   "metadata": {},
   "source": [
    "<font color='gray'>#Сделаем категоризацию по количеству детей и создадим новый столбец "
   ]
  },
  {
   "cell_type": "code",
   "execution_count": null,
   "metadata": {},
   "outputs": [],
   "source": [
    "def children_kat(quantity):\n",
    "    if quantity == 0:\n",
    "        return 'нет детей'\n",
    "    if quantity == 1:\n",
    "        return '1 ребенок'\n",
    "    if quantity == 2:\n",
    "        return '2 ребенка'\n",
    "    return 'многодетные'\n",
    "\n",
    "df['children_kat'] = df['children'].apply(children_kat)"
   ]
  },
  {
   "cell_type": "code",
   "execution_count": null,
   "metadata": {},
   "outputs": [],
   "source": [
    "df['children_kat'].unique()"
   ]
  },
  {
   "cell_type": "code",
   "execution_count": null,
   "metadata": {},
   "outputs": [],
   "source": [
    "pivot_children = df.pivot_table(index = 'children_kat', values = ['debt'], aggfunc = ['sum','count'])\n",
    "pivot_children"
   ]
  },
  {
   "cell_type": "code",
   "execution_count": null,
   "metadata": {},
   "outputs": [],
   "source": [
    "pivot_children.set_axis (['Есть долги','Общее число'], axis = 'columns', inplace = True)"
   ]
  },
  {
   "cell_type": "code",
   "execution_count": null,
   "metadata": {},
   "outputs": [],
   "source": [
    "pivot_children['Нет долгов'] = pivot_children['Общее число'] - pivot_children['Есть долги']"
   ]
  },
  {
   "cell_type": "code",
   "execution_count": null,
   "metadata": {},
   "outputs": [],
   "source": [
    "pivot_children['Процент должников '] = pivot_children['Есть долги'] / pivot_children['Общее число']\n",
    "pivot_children.loc[:,'Процент должников '] *= 100\n",
    "pivot_children"
   ]
  },
  {
   "cell_type": "code",
   "execution_count": null,
   "metadata": {},
   "outputs": [],
   "source": [
    "pivot_children.style.format({'Процент должников ': '{:,.3}'.format})"
   ]
  },
  {
   "cell_type": "code",
   "execution_count": null,
   "metadata": {},
   "outputs": [],
   "source": [
    "df['children'].corr(df['debt'])"
   ]
  },
  {
   "cell_type": "code",
   "execution_count": null,
   "metadata": {},
   "outputs": [],
   "source": [
    "dpivot_df_children_kat = df.pivot_table(index=['children_kat'], columns='debt', values='children', aggfunc='count')\n",
    "dpivot_df_children_kat"
   ]
  },
  {
   "cell_type": "code",
   "execution_count": null,
   "metadata": {},
   "outputs": [],
   "source": [
    "dpivot_df_children_kat[0]['1 ребенок']"
   ]
  },
  {
   "cell_type": "markdown",
   "metadata": {},
   "source": [
    "### Вывод"
   ]
  },
  {
   "cell_type": "markdown",
   "metadata": {},
   "source": [
    "<font color='gray'>#Видно, что у людей с 2 детьми большее за должностей по кредиту "
   ]
  },
  {
   "cell_type": "markdown",
   "metadata": {},
   "source": [
    "<font color='gray'>#Лучше всего кредит отдают люди без детей "
   ]
  },
  {
   "cell_type": "markdown",
   "metadata": {},
   "source": [
    "<font color='gray'>#Выбросы в виде -1 и 20 кол-ва детей могли возникнуть из за ошибки при сборе информации или из-за использования неправильного разделителя  "
   ]
  },
  {
   "cell_type": "markdown",
   "metadata": {},
   "source": [
    "### Поиск зависимости между семейным положением и возвратом кредита в срок"
   ]
  },
  {
   "cell_type": "code",
   "execution_count": null,
   "metadata": {},
   "outputs": [],
   "source": [
    "df['family_status_id'].unique()"
   ]
  },
  {
   "cell_type": "code",
   "execution_count": null,
   "metadata": {},
   "outputs": [],
   "source": [
    "df['family_status'].unique()"
   ]
  },
  {
   "cell_type": "code",
   "execution_count": null,
   "metadata": {},
   "outputs": [],
   "source": [
    "df['family_status_id'].corr(df['debt'])"
   ]
  },
  {
   "cell_type": "code",
   "execution_count": null,
   "metadata": {},
   "outputs": [],
   "source": [
    "# print(df[df['family_status_id'] == 0].head(1)) # женат / замужем\n",
    "# print(df[df['family_status_id'] == 1].head(1)) # гражданский брак\n",
    "# print(df[df['family_status_id'] == 2].head(1)) # вдовец / вдова\n",
    "# print(df[df['family_status_id'] == 3].head(1)) # в разводе\n",
    "# print(df[df['family_status_id'] == 4].head(1)) # не женат / не замужем"
   ]
  },
  {
   "cell_type": "code",
   "execution_count": null,
   "metadata": {},
   "outputs": [],
   "source": [
    "df.groupby(['family_status','family_status_id']).agg({'debt':'count'})"
   ]
  },
  {
   "cell_type": "code",
   "execution_count": null,
   "metadata": {
    "scrolled": true
   },
   "outputs": [],
   "source": [
    "pivot_df_family_status=df.pivot_table(index=['family_status'], columns='debt', values='family_status_id', aggfunc='count')\n",
    "pivot_df_family_status "
   ]
  },
  {
   "cell_type": "code",
   "execution_count": null,
   "metadata": {},
   "outputs": [],
   "source": [
    "pivot_df_family_status.columns"
   ]
  },
  {
   "cell_type": "code",
   "execution_count": null,
   "metadata": {
    "scrolled": true
   },
   "outputs": [],
   "source": [
    "# pivot_df_family_status['ratio'] = pivot_df_family_status['1'] / pivot_df_family_status['0']\n",
    "# pivot_df_family_status"
   ]
  },
  {
   "cell_type": "code",
   "execution_count": null,
   "metadata": {},
   "outputs": [],
   "source": [
    "pivot_df_family_status_ii = df.pivot_table(index = 'family_status', values = ['debt'], aggfunc = ['sum','count'])\n",
    "pivot_df_family_status_ii"
   ]
  },
  {
   "cell_type": "code",
   "execution_count": null,
   "metadata": {},
   "outputs": [],
   "source": [
    "pivot_df_family_status_ii.info()"
   ]
  },
  {
   "cell_type": "code",
   "execution_count": null,
   "metadata": {},
   "outputs": [],
   "source": [
    "pivot_df_family_status_ii.set_axis (['Есть долги','Общее число'], axis = 'columns', inplace = True)"
   ]
  },
  {
   "cell_type": "code",
   "execution_count": null,
   "metadata": {},
   "outputs": [],
   "source": [
    "pivot_df_family_status_ii['Нет долгов'] = pivot_df_family_status_ii['Общее число'] - pivot_df_family_status_ii['Есть долги']"
   ]
  },
  {
   "cell_type": "code",
   "execution_count": null,
   "metadata": {},
   "outputs": [],
   "source": [
    "pivot_df_family_status_ii['Процент должников'] = pivot_df_family_status_ii['Есть долги'] / pivot_df_family_status_ii['Общее число']\n",
    "pivot_df_family_status_ii.loc[:,'Процент должников'] *= 100\n",
    "pivot_df_family_status_ii "
   ]
  },
  {
   "cell_type": "markdown",
   "metadata": {},
   "source": [
    "### Вывод"
   ]
  },
  {
   "cell_type": "markdown",
   "metadata": {},
   "source": [
    "<font color='gray'>#Тут среди лидеров должников оказались люди со статусом :не замужем/не женат, гражданский брак "
   ]
  },
  {
   "cell_type": "markdown",
   "metadata": {},
   "source": [
    "<font color='gray'>#В целом, здесь видно, что наиболее надежные заемщики, это те, кто находится или когда-либо был в браке."
   ]
  },
  {
   "cell_type": "markdown",
   "metadata": {},
   "source": [
    "### Поиск зависимости между уровнем дохода и возвратом кредита в срок"
   ]
  },
  {
   "cell_type": "code",
   "execution_count": null,
   "metadata": {},
   "outputs": [],
   "source": [
    "df.plot(x='total_income', y='debt', kind='scatter', alpha=0.3, grid=True, figsize = (20,4)),"
   ]
  },
  {
   "cell_type": "code",
   "execution_count": null,
   "metadata": {
    "scrolled": true
   },
   "outputs": [],
   "source": [
    "\n",
    "df['total_income'].quantile(q=[0.4,0.9]).loc[0.4]"
   ]
  },
  {
   "cell_type": "code",
   "execution_count": null,
   "metadata": {},
   "outputs": [],
   "source": [
    "df['total_income'].quantile(q=[0.4,0.9]).loc[0.9]"
   ]
  },
  {
   "cell_type": "code",
   "execution_count": null,
   "metadata": {},
   "outputs": [],
   "source": [
    "min_total_income = df['total_income'].quantile(q=[0.4,0.9]).loc[0.4]\n",
    "max_total_income = df['total_income'].quantile(q=[0.4,0.9]).loc[0.9]"
   ]
  },
  {
   "cell_type": "code",
   "execution_count": null,
   "metadata": {},
   "outputs": [],
   "source": [
    "def income_kat(size):\n",
    "    if size <= min_total_income:\n",
    "        return 'маленькая зп'\n",
    "    if min_total_income < size <= max_total_income:\n",
    "        return 'средняя зп'\n",
    "    if size > max_total_income :\n",
    "        return 'большая зп'\n",
    "    return 'Ошибка'\n",
    "\n",
    "df['income_kat'] = df['total_income'].apply(income_kat)"
   ]
  },
  {
   "cell_type": "code",
   "execution_count": null,
   "metadata": {},
   "outputs": [],
   "source": [
    "print(df['total_income'].describe(include='all').loc['25%'], '- 25%')\n",
    "print(df['total_income'].describe(include='all').loc['75%'], '- 75%')\n",
    "print(df['total_income'].describe(include='all'))"
   ]
  },
  {
   "cell_type": "code",
   "execution_count": null,
   "metadata": {},
   "outputs": [],
   "source": [
    "df['income_kat'].unique()"
   ]
  },
  {
   "cell_type": "code",
   "execution_count": null,
   "metadata": {},
   "outputs": [],
   "source": [
    "pivot_income = df.pivot_table(index = 'income_kat', values = ['debt'], aggfunc = ['sum','count'])\n",
    "pivot_income"
   ]
  },
  {
   "cell_type": "code",
   "execution_count": null,
   "metadata": {},
   "outputs": [],
   "source": [
    "pivot_income.set_axis (['Есть долги','Общее число'], axis = 'columns', inplace = True)\n",
    "pivot_income['Нет долгов'] = pivot_income['Общее число'] - pivot_income['Есть долги']\n",
    "pivot_income['Процент должников'] = pivot_income['Есть долги'] / pivot_income['Общее число']\n",
    "pivot_income.loc[:,'Процент должников'] *= 100\n",
    "pivot_income "
   ]
  },
  {
   "cell_type": "markdown",
   "metadata": {},
   "source": [
    "### Вывод"
   ]
  },
  {
   "cell_type": "markdown",
   "metadata": {},
   "source": [
    "<font color='gray'>#Люди с средней и маленькой зарплатой чаще имеют задолженность по возврату кредита "
   ]
  },
  {
   "cell_type": "markdown",
   "metadata": {},
   "source": [
    "### Поиск влияния цели кредита на его возврат в срок"
   ]
  },
  {
   "cell_type": "code",
   "execution_count": null,
   "metadata": {},
   "outputs": [],
   "source": [
    "df['purpose_kat'].unique()"
   ]
  },
  {
   "cell_type": "code",
   "execution_count": null,
   "metadata": {},
   "outputs": [],
   "source": [
    "pivot_df_purpose = df.pivot_table(index = 'purpose_kat', values = ['debt'], aggfunc = ['sum','count'])\n",
    "pivot_df_purpose"
   ]
  },
  {
   "cell_type": "code",
   "execution_count": null,
   "metadata": {},
   "outputs": [],
   "source": [
    "pivot_df_purpose.set_axis (['Есть долги','Общее число'], axis = 'columns', inplace = True)\n",
    "pivot_df_purpose['Нет долгов'] = pivot_df_purpose['Общее число'] - pivot_df_purpose['Есть долги']\n",
    "pivot_df_purpose['Процент должников'] = pivot_df_purpose['Есть долги'] / pivot_df_purpose['Общее число']\n",
    "pivot_df_purpose.loc[:,'Процент должников'] *= 100\n",
    "pivot_df_purpose "
   ]
  },
  {
   "cell_type": "code",
   "execution_count": null,
   "metadata": {},
   "outputs": [],
   "source": [
    "pivot_df_purpose['Нет долгов']"
   ]
  },
  {
   "cell_type": "markdown",
   "metadata": {},
   "source": [
    "### Вывод"
   ]
  },
  {
   "cell_type": "markdown",
   "metadata": {},
   "source": [
    "<font color='gray'># основные задолжники берут кредит на авто или образование"
   ]
  },
  {
   "cell_type": "markdown",
   "metadata": {},
   "source": [
    "### Шаг 4. Общий вывод"
   ]
  },
  {
   "cell_type": "markdown",
   "metadata": {},
   "source": [
    "<font color='gray'>#Потенциально самые слабые заемщики по возврату кредита: Люди, состоящие в гражданском браке с двумя детьми и средней зарплатой  "
   ]
  },
  {
   "cell_type": "markdown",
   "metadata": {},
   "source": [
    "<font color='gray'><strong>#Из данного списка хорошими заемщиками оказались люди, которые находятся, или когда либо находились в браке, не имеющие детей, или являющиеся многодетными родителями с большой зарплатой, целью кредита которых является недвижимость или свадьба "
   ]
  }
 ],
 "metadata": {
  "kernelspec": {
   "display_name": "Python 3",
   "language": "python",
   "name": "python3"
  },
  "language_info": {
   "codemirror_mode": {
    "name": "ipython",
    "version": 3
   },
   "file_extension": ".py",
   "mimetype": "text/x-python",
   "name": "python",
   "nbconvert_exporter": "python",
   "pygments_lexer": "ipython3",
   "version": "3.7.6"
  }
 },
 "nbformat": 4,
 "nbformat_minor": 2
}
